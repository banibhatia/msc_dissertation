{
 "cells": [
  {
   "cell_type": "markdown",
   "metadata": {
    "id": "sJPkjg6LnPu8",
    "jp-MarkdownHeadingCollapsed": true
   },
   "source": [
    "## **Install packages**"
   ]
  },
  {
   "cell_type": "code",
   "execution_count": 11,
   "metadata": {
    "id": "u0pxQY9Je1lj"
   },
   "outputs": [],
   "source": [
    "# Run this cell if you haven't installed these packages\n",
    "%%capture\n",
    "!pip install datasets\n",
    "!pip install gensim\n",
    "!pip install sentence-transformers\n",
    "!pip install contractions\n",
    "!pip install nltk\n",
    "!pip install scikit-learn\n",
    "!python -m spacy download en_core_web_md\n",
    "\n",
    "!pip install transformers tensorflow\n",
    "!pip install tensorflow-model-optimization\n"
   ]
  },
  {
   "cell_type": "markdown",
   "metadata": {
    "id": "P9lgavOqnU7E",
    "jp-MarkdownHeadingCollapsed": true
   },
   "source": [
    "## **Import liabraries**"
   ]
  },
  {
   "cell_type": "code",
   "execution_count": 1,
   "metadata": {
    "colab": {
     "base_uri": "https://localhost:8080/"
    },
    "id": "lsr6nJh_07bH",
    "outputId": "96bc290d-4d33-45cb-c80c-eb186c435cad"
   },
   "outputs": [
    {
     "name": "stderr",
     "output_type": "stream",
     "text": [
      "2024-04-24 11:21:46.709771: I tensorflow/core/util/port.cc:113] oneDNN custom operations are on. You may see slightly different numerical results due to floating-point round-off errors from different computation orders. To turn them off, set the environment variable `TF_ENABLE_ONEDNN_OPTS=0`.\n",
      "2024-04-24 11:21:48.886299: I tensorflow/core/platform/cpu_feature_guard.cc:210] This TensorFlow binary is optimized to use available CPU instructions in performance-critical operations.\n",
      "To enable the following instructions: AVX2 AVX512F AVX512_VNNI AVX512_BF16 AVX512_FP16 AVX_VNNI AMX_TILE AMX_INT8 AMX_BF16 FMA, in other operations, rebuild TensorFlow with the appropriate compiler flags.\n",
      "2024-04-24 11:21:52.345335: W tensorflow/compiler/tf2tensorrt/utils/py_utils.cc:38] TF-TRT Warning: Could not find TensorRT\n",
      "/home/mullah/conda/envs/acava/lib/python3.10/site-packages/tqdm/auto.py:21: TqdmWarning: IProgress not found. Please update jupyter and ipywidgets. See https://ipywidgets.readthedocs.io/en/stable/user_install.html\n",
      "  from .autonotebook import tqdm as notebook_tqdm\n"
     ]
    }
   ],
   "source": [
    "import matplotlib.pyplot as plt\n",
    "import seaborn as sns\n",
    "import time\n",
    "import string\n",
    "import joblib\n",
    "import re\n",
    "import os\n",
    "import shutil\n",
    "import math\n",
    "\n",
    "import numpy as np\n",
    "import pandas as pd\n",
    "import contractions\n",
    "import spacy\n",
    "import nltk\n",
    "\n",
    "import lightgbm as lgb\n",
    "import xgboost as xgb\n",
    "\n",
    "from gensim.models.fasttext import FastText\n",
    "from sklearn.feature_extraction.text import TfidfVectorizer\n",
    "from sklearn.model_selection import train_test_split\n",
    "\n",
    "import torch\n",
    "import tensorflow as tf\n",
    "#import tensorflow_model_optimization as tfmot\n",
    "\n",
    "from torch.utils.data import DataLoader\n",
    "from transformers import AutoTokenizer, AutoModel\n",
    "#from transformers import TFBertModel\n",
    "#from transformers import TFBertForSequenceClassification\n",
    "from transformers import RobertaTokenizer\n",
    "from transformers import RobertaModel\n",
    "from gensim.models import Word2Vec\n",
    "\n",
    "from sentence_transformers import util\n",
    "from sentence_transformers import CrossEncoder\n",
    "from sentence_transformers.cross_encoder.evaluation import CEBinaryClassificationEvaluator\n",
    "from sentence_transformers import InputExample\n",
    "from sentence_transformers import SentenceTransformer\n",
    "from sentence_transformers.quantization import quantize_embeddings\n",
    "from keras.preprocessing.sequence import pad_sequences\n",
    "\n",
    "from sklearn.metrics import accuracy_score, confusion_matrix, classification_report\n",
    "from sklearn.metrics.pairwise import cosine_similarity\n",
    "#from mlxtend.plotting import plot_confusion_matrix\n",
    "from nltk.tokenize import word_tokenize\n",
    "\n",
    "#from google.colab import drive\n",
    "#drive.mount('/content/drive')\n",
    "#file_path = '/content/drive/My Drive/'\n"
   ]
  },
  {
   "cell_type": "code",
   "execution_count": 2,
   "metadata": {},
   "outputs": [
    {
     "name": "stderr",
     "output_type": "stream",
     "text": [
      "[nltk_data] Downloading package punkt to /home/mullah/nltk_data...\n",
      "[nltk_data]   Package punkt is already up-to-date!\n"
     ]
    },
    {
     "data": {
      "text/plain": [
       "True"
      ]
     },
     "execution_count": 2,
     "metadata": {},
     "output_type": "execute_result"
    }
   ],
   "source": [
    "nltk.download('punkt')"
   ]
  },
  {
   "cell_type": "markdown",
   "metadata": {
    "id": "DfRCCKNxnpmt",
    "jp-MarkdownHeadingCollapsed": true
   },
   "source": [
    "## **Loading dataset**"
   ]
  },
  {
   "cell_type": "code",
   "execution_count": 3,
   "metadata": {
    "colab": {
     "base_uri": "https://localhost:8080/",
     "height": 206
    },
    "id": "GQpcvuMPoRtu",
    "outputId": "16d40fda-e3b9-428f-b30a-bb1c67b9624b"
   },
   "outputs": [
    {
     "data": {
      "text/html": [
       "<div>\n",
       "<style scoped>\n",
       "    .dataframe tbody tr th:only-of-type {\n",
       "        vertical-align: middle;\n",
       "    }\n",
       "\n",
       "    .dataframe tbody tr th {\n",
       "        vertical-align: top;\n",
       "    }\n",
       "\n",
       "    .dataframe thead th {\n",
       "        text-align: right;\n",
       "    }\n",
       "</style>\n",
       "<table border=\"1\" class=\"dataframe\">\n",
       "  <thead>\n",
       "    <tr style=\"text-align: right;\">\n",
       "      <th></th>\n",
       "      <th>questions</th>\n",
       "      <th>is_duplicate</th>\n",
       "    </tr>\n",
       "  </thead>\n",
       "  <tbody>\n",
       "    <tr>\n",
       "      <th>0</th>\n",
       "      <td>{'id': [1, 2], 'text': ['What is the step by s...</td>\n",
       "      <td>False</td>\n",
       "    </tr>\n",
       "    <tr>\n",
       "      <th>1</th>\n",
       "      <td>{'id': [3, 4], 'text': ['What is the story of ...</td>\n",
       "      <td>False</td>\n",
       "    </tr>\n",
       "    <tr>\n",
       "      <th>2</th>\n",
       "      <td>{'id': [5, 6], 'text': ['How can I increase th...</td>\n",
       "      <td>False</td>\n",
       "    </tr>\n",
       "    <tr>\n",
       "      <th>3</th>\n",
       "      <td>{'id': [7, 8], 'text': ['Why am I mentally ver...</td>\n",
       "      <td>False</td>\n",
       "    </tr>\n",
       "    <tr>\n",
       "      <th>4</th>\n",
       "      <td>{'id': [9, 10], 'text': ['Which one dissolve i...</td>\n",
       "      <td>False</td>\n",
       "    </tr>\n",
       "  </tbody>\n",
       "</table>\n",
       "</div>"
      ],
      "text/plain": [
       "                                           questions  is_duplicate\n",
       "0  {'id': [1, 2], 'text': ['What is the step by s...         False\n",
       "1  {'id': [3, 4], 'text': ['What is the story of ...         False\n",
       "2  {'id': [5, 6], 'text': ['How can I increase th...         False\n",
       "3  {'id': [7, 8], 'text': ['Why am I mentally ver...         False\n",
       "4  {'id': [9, 10], 'text': ['Which one dissolve i...         False"
      ]
     },
     "execution_count": 3,
     "metadata": {},
     "output_type": "execute_result"
    }
   ],
   "source": [
    "from datasets import load_dataset\n",
    "import pandas as pd\n",
    "\n",
    "\n",
    "# Load the Quora dataset from Hugging Face\n",
    "quora_dataset = load_dataset('quora')\n",
    "\n",
    "# Convert the dataset to a pandas DataFrame\n",
    "dframe = quora_dataset['train'].to_pandas()\n",
    "dframe.head()\n",
    "\n"
   ]
  },
  {
   "cell_type": "markdown",
   "metadata": {
    "id": "IpFW2PyvJ_fG",
    "jp-MarkdownHeadingCollapsed": true
   },
   "source": [
    "## **Splitting corpus into test and train data**"
   ]
  },
  {
   "cell_type": "code",
   "execution_count": 4,
   "metadata": {
    "colab": {
     "base_uri": "https://localhost:8080/"
    },
    "id": "dz-aoV2r437Q",
    "outputId": "281ec278-99b1-43f2-bee5-e9de146f33ba"
   },
   "outputs": [
    {
     "name": "stdout",
     "output_type": "stream",
     "text": [
      "Training data shape: (283003, 2)\n",
      "Test data shape: (121287, 2)\n"
     ]
    }
   ],
   "source": [
    "#splitting of data first\n",
    "df_train, df_test = train_test_split(dframe,\n",
    "                                   test_size=0.3,\n",
    "                                   stratify=dframe['is_duplicate'],\n",
    "                                   random_state=42)\n",
    "\n",
    "df_train.reset_index(drop=True,inplace=True)\n",
    "df_test.reset_index(drop=True,inplace=True)\n",
    "\n",
    "print(\"Training data shape:\",df_train.shape)\n",
    "print(\"Test data shape:\",df_test.shape)"
   ]
  },
  {
   "cell_type": "code",
   "execution_count": 5,
   "metadata": {
    "colab": {
     "base_uri": "https://localhost:8080/",
     "height": 424
    },
    "id": "8FlJmWdNAWCs",
    "outputId": "d695562e-11a4-4064-ba68-5b4fbb830f96"
   },
   "outputs": [
    {
     "data": {
      "text/html": [
       "<div>\n",
       "<style scoped>\n",
       "    .dataframe tbody tr th:only-of-type {\n",
       "        vertical-align: middle;\n",
       "    }\n",
       "\n",
       "    .dataframe tbody tr th {\n",
       "        vertical-align: top;\n",
       "    }\n",
       "\n",
       "    .dataframe thead th {\n",
       "        text-align: right;\n",
       "    }\n",
       "</style>\n",
       "<table border=\"1\" class=\"dataframe\">\n",
       "  <thead>\n",
       "    <tr style=\"text-align: right;\">\n",
       "      <th></th>\n",
       "      <th>questions</th>\n",
       "      <th>is_duplicate</th>\n",
       "    </tr>\n",
       "  </thead>\n",
       "  <tbody>\n",
       "    <tr>\n",
       "      <th>0</th>\n",
       "      <td>{'id': [11069, 240809], 'text': ['How do I gai...</td>\n",
       "      <td>True</td>\n",
       "    </tr>\n",
       "    <tr>\n",
       "      <th>1</th>\n",
       "      <td>{'id': [6787, 6788], 'text': ['What is unusual...</td>\n",
       "      <td>False</td>\n",
       "    </tr>\n",
       "    <tr>\n",
       "      <th>2</th>\n",
       "      <td>{'id': [170658, 170659], 'text': ['How can I m...</td>\n",
       "      <td>False</td>\n",
       "    </tr>\n",
       "    <tr>\n",
       "      <th>3</th>\n",
       "      <td>{'id': [336441, 336442], 'text': ['How much ca...</td>\n",
       "      <td>True</td>\n",
       "    </tr>\n",
       "    <tr>\n",
       "      <th>4</th>\n",
       "      <td>{'id': [51302, 226085], 'text': ['How can I tr...</td>\n",
       "      <td>False</td>\n",
       "    </tr>\n",
       "    <tr>\n",
       "      <th>...</th>\n",
       "      <td>...</td>\n",
       "      <td>...</td>\n",
       "    </tr>\n",
       "    <tr>\n",
       "      <th>282998</th>\n",
       "      <td>{'id': [216648, 74022], 'text': ['What is best...</td>\n",
       "      <td>True</td>\n",
       "    </tr>\n",
       "    <tr>\n",
       "      <th>282999</th>\n",
       "      <td>{'id': [8461, 35301], 'text': ['How do I impro...</td>\n",
       "      <td>True</td>\n",
       "    </tr>\n",
       "    <tr>\n",
       "      <th>283000</th>\n",
       "      <td>{'id': [435756, 435757], 'text': ['Would you b...</td>\n",
       "      <td>False</td>\n",
       "    </tr>\n",
       "    <tr>\n",
       "      <th>283001</th>\n",
       "      <td>{'id': [364945, 364946], 'text': ['What is the...</td>\n",
       "      <td>False</td>\n",
       "    </tr>\n",
       "    <tr>\n",
       "      <th>283002</th>\n",
       "      <td>{'id': [338596, 286954], 'text': ['What is cor...</td>\n",
       "      <td>False</td>\n",
       "    </tr>\n",
       "  </tbody>\n",
       "</table>\n",
       "<p>283003 rows × 2 columns</p>\n",
       "</div>"
      ],
      "text/plain": [
       "                                                questions  is_duplicate\n",
       "0       {'id': [11069, 240809], 'text': ['How do I gai...          True\n",
       "1       {'id': [6787, 6788], 'text': ['What is unusual...         False\n",
       "2       {'id': [170658, 170659], 'text': ['How can I m...         False\n",
       "3       {'id': [336441, 336442], 'text': ['How much ca...          True\n",
       "4       {'id': [51302, 226085], 'text': ['How can I tr...         False\n",
       "...                                                   ...           ...\n",
       "282998  {'id': [216648, 74022], 'text': ['What is best...          True\n",
       "282999  {'id': [8461, 35301], 'text': ['How do I impro...          True\n",
       "283000  {'id': [435756, 435757], 'text': ['Would you b...         False\n",
       "283001  {'id': [364945, 364946], 'text': ['What is the...         False\n",
       "283002  {'id': [338596, 286954], 'text': ['What is cor...         False\n",
       "\n",
       "[283003 rows x 2 columns]"
      ]
     },
     "execution_count": 5,
     "metadata": {},
     "output_type": "execute_result"
    }
   ],
   "source": [
    "df_train"
   ]
  },
  {
   "cell_type": "code",
   "execution_count": 6,
   "metadata": {
    "colab": {
     "base_uri": "https://localhost:8080/",
     "height": 424
    },
    "id": "mA4-6pHBiITp",
    "outputId": "7b59273f-3dae-48dc-a5cf-0bc831274b1d"
   },
   "outputs": [
    {
     "data": {
      "text/html": [
       "<div>\n",
       "<style scoped>\n",
       "    .dataframe tbody tr th:only-of-type {\n",
       "        vertical-align: middle;\n",
       "    }\n",
       "\n",
       "    .dataframe tbody tr th {\n",
       "        vertical-align: top;\n",
       "    }\n",
       "\n",
       "    .dataframe thead th {\n",
       "        text-align: right;\n",
       "    }\n",
       "</style>\n",
       "<table border=\"1\" class=\"dataframe\">\n",
       "  <thead>\n",
       "    <tr style=\"text-align: right;\">\n",
       "      <th></th>\n",
       "      <th>questions</th>\n",
       "      <th>is_duplicate</th>\n",
       "    </tr>\n",
       "  </thead>\n",
       "  <tbody>\n",
       "    <tr>\n",
       "      <th>0</th>\n",
       "      <td>{'id': [398338, 511809], 'text': ['Was it appr...</td>\n",
       "      <td>True</td>\n",
       "    </tr>\n",
       "    <tr>\n",
       "      <th>1</th>\n",
       "      <td>{'id': [120456, 473749], 'text': ['I have forg...</td>\n",
       "      <td>False</td>\n",
       "    </tr>\n",
       "    <tr>\n",
       "      <th>2</th>\n",
       "      <td>{'id': [326090, 326091], 'text': ['What book d...</td>\n",
       "      <td>False</td>\n",
       "    </tr>\n",
       "    <tr>\n",
       "      <th>3</th>\n",
       "      <td>{'id': [341728, 341729], 'text': ['How do you ...</td>\n",
       "      <td>True</td>\n",
       "    </tr>\n",
       "    <tr>\n",
       "      <th>4</th>\n",
       "      <td>{'id': [314306, 442046], 'text': ['I've seen b...</td>\n",
       "      <td>False</td>\n",
       "    </tr>\n",
       "    <tr>\n",
       "      <th>...</th>\n",
       "      <td>...</td>\n",
       "      <td>...</td>\n",
       "    </tr>\n",
       "    <tr>\n",
       "      <th>121282</th>\n",
       "      <td>{'id': [354415, 354416], 'text': ['What was th...</td>\n",
       "      <td>True</td>\n",
       "    </tr>\n",
       "    <tr>\n",
       "      <th>121283</th>\n",
       "      <td>{'id': [303892, 171844], 'text': ['Is there an...</td>\n",
       "      <td>False</td>\n",
       "    </tr>\n",
       "    <tr>\n",
       "      <th>121284</th>\n",
       "      <td>{'id': [185806, 67162], 'text': ['What is the ...</td>\n",
       "      <td>False</td>\n",
       "    </tr>\n",
       "    <tr>\n",
       "      <th>121285</th>\n",
       "      <td>{'id': [190839, 190840], 'text': ['How can I g...</td>\n",
       "      <td>False</td>\n",
       "    </tr>\n",
       "    <tr>\n",
       "      <th>121286</th>\n",
       "      <td>{'id': [387444, 387445], 'text': ['Why is ther...</td>\n",
       "      <td>False</td>\n",
       "    </tr>\n",
       "  </tbody>\n",
       "</table>\n",
       "<p>121287 rows × 2 columns</p>\n",
       "</div>"
      ],
      "text/plain": [
       "                                                questions  is_duplicate\n",
       "0       {'id': [398338, 511809], 'text': ['Was it appr...          True\n",
       "1       {'id': [120456, 473749], 'text': ['I have forg...         False\n",
       "2       {'id': [326090, 326091], 'text': ['What book d...         False\n",
       "3       {'id': [341728, 341729], 'text': ['How do you ...          True\n",
       "4       {'id': [314306, 442046], 'text': ['I've seen b...         False\n",
       "...                                                   ...           ...\n",
       "121282  {'id': [354415, 354416], 'text': ['What was th...          True\n",
       "121283  {'id': [303892, 171844], 'text': ['Is there an...         False\n",
       "121284  {'id': [185806, 67162], 'text': ['What is the ...         False\n",
       "121285  {'id': [190839, 190840], 'text': ['How can I g...         False\n",
       "121286  {'id': [387444, 387445], 'text': ['Why is ther...         False\n",
       "\n",
       "[121287 rows x 2 columns]"
      ]
     },
     "execution_count": 6,
     "metadata": {},
     "output_type": "execute_result"
    }
   ],
   "source": [
    "df_test"
   ]
  },
  {
   "cell_type": "markdown",
   "metadata": {
    "id": "YtYsaZ7bK1M3",
    "jp-MarkdownHeadingCollapsed": true
   },
   "source": [
    "## **Splitting the questions in train dataset**"
   ]
  },
  {
   "cell_type": "markdown",
   "metadata": {
    "id": "ySY9fy6kL61g"
   },
   "source": [
    "Questions column has been split into two questions columns \n",
    " - 'text_question1' and\n",
    " - 'text_question2'"
   ]
  },
  {
   "cell_type": "code",
   "execution_count": 7,
   "metadata": {
    "colab": {
     "base_uri": "https://localhost:8080/"
    },
    "id": "mww4xozh-FV9",
    "outputId": "4ec30395-8395-4de5-d0db-55ea3727c795"
   },
   "outputs": [
    {
     "name": "stdout",
     "output_type": "stream",
     "text": [
      "                                           text_question1  \\\n",
      "0       How do I gain healthy weight without eating junk?   \n",
      "1       What is unusual or different about the food an...   \n",
      "2       How can I make music player with sensor in and...   \n",
      "3                  How much can you charge for a website?   \n",
      "4                     How can I treat a swollen clitoris?   \n",
      "...                                                   ...   \n",
      "282998  What is best way for preparing civil services ...   \n",
      "282999              How do I improve my English speaking?   \n",
      "283000  Would you beat a man up if he talked and flirt...   \n",
      "283001  What is the difference between media and liter...   \n",
      "283002               What is corporate events management?   \n",
      "\n",
      "                                           text_question2  is_duplicate  \n",
      "0       What are the healthy ways of gaining weight an...          True  \n",
      "1       What is unusual or different about the food an...         False  \n",
      "2                How can I make music player for android?         False  \n",
      "3                    How much I can charge for a website?          True  \n",
      "4                      How do you treat a swollen tongue?         False  \n",
      "...                                                   ...           ...  \n",
      "282998          Can a graduate crack civil services exam?          True  \n",
      "282999             How I can enhance my English language?          True  \n",
      "283000  Would you beat a woman up if she talks to your...         False  \n",
      "283001  What are some of the main differences between ...         False  \n",
      "283002                           What is corporate event?         False  \n",
      "\n",
      "[283003 rows x 3 columns]\n"
     ]
    }
   ],
   "source": [
    "#spliting the questions in train dataset\n",
    "# Sample data\n",
    "data = {\n",
    "    'questions': [\n",
    "        {\"id\": [1, 2], \"text\": [\"What is the step by step guide to invest in share market in india?\", \"What is the step by step guide to invest in share market?\"]},\n",
    "        {\"id\": [3, 4], \"text\": [\"What is the story of Kohinoor (Koh-i-Noor) Diamond?\", \"What would happen if the Indian government stole the Kohinoor (Koh-i-Noor) diamond back?\"]}\n",
    "    ],\n",
    "    'is_duplicate': [False, False]\n",
    "}\n",
    "\n",
    "# Create DataFrame\n",
    "#df = pd.DataFrame(df_train)\n",
    "# Empty lists to store split data\n",
    "id_list_question1 = []\n",
    "text_list_question1 = []\n",
    "id_list_question2 = []\n",
    "text_list_question2 = []\n",
    "is_duplicate_list = []\n",
    "\n",
    "# Iterate through rows\n",
    "for index, row in df_train.iterrows():\n",
    "    ids = row['questions']['id']\n",
    "    texts = row['questions']['text']\n",
    "    is_duplicate = row['is_duplicate']\n",
    "\n",
    "    if len(ids) == 2:  # If there's a pair of questions\n",
    "        id_list_question1.append(ids[0])\n",
    "        text_list_question1.append(texts[0])\n",
    "        id_list_question2.append(ids[1])\n",
    "        text_list_question2.append(texts[1])\n",
    "    else:  # If there's only one question\n",
    "        id_list_question1.append(ids[0])\n",
    "        text_list_question1.append(texts[0])\n",
    "        id_list_question2.append(None)\n",
    "        text_list_question2.append(None)\n",
    "\n",
    "    is_duplicate_list.append(is_duplicate)\n",
    "\n",
    "# Create new DataFrame\n",
    "train_data = pd.DataFrame({\n",
    "                       'text_question1': text_list_question1,\n",
    "                       'text_question2': text_list_question2,\n",
    "                       'is_duplicate': is_duplicate_list})\n",
    "print(train_data)"
   ]
  },
  {
   "cell_type": "code",
   "execution_count": 8,
   "metadata": {},
   "outputs": [
    {
     "data": {
      "text/html": [
       "<div>\n",
       "<style scoped>\n",
       "    .dataframe tbody tr th:only-of-type {\n",
       "        vertical-align: middle;\n",
       "    }\n",
       "\n",
       "    .dataframe tbody tr th {\n",
       "        vertical-align: top;\n",
       "    }\n",
       "\n",
       "    .dataframe thead th {\n",
       "        text-align: right;\n",
       "    }\n",
       "</style>\n",
       "<table border=\"1\" class=\"dataframe\">\n",
       "  <thead>\n",
       "    <tr style=\"text-align: right;\">\n",
       "      <th></th>\n",
       "      <th>text_question1</th>\n",
       "      <th>text_question2</th>\n",
       "      <th>is_duplicate</th>\n",
       "    </tr>\n",
       "  </thead>\n",
       "  <tbody>\n",
       "    <tr>\n",
       "      <th>0</th>\n",
       "      <td>How do I gain healthy weight without eating junk?</td>\n",
       "      <td>What are the healthy ways of gaining weight an...</td>\n",
       "      <td>True</td>\n",
       "    </tr>\n",
       "    <tr>\n",
       "      <th>1</th>\n",
       "      <td>What is unusual or different about the food an...</td>\n",
       "      <td>What is unusual or different about the food an...</td>\n",
       "      <td>False</td>\n",
       "    </tr>\n",
       "    <tr>\n",
       "      <th>2</th>\n",
       "      <td>How can I make music player with sensor in and...</td>\n",
       "      <td>How can I make music player for android?</td>\n",
       "      <td>False</td>\n",
       "    </tr>\n",
       "    <tr>\n",
       "      <th>3</th>\n",
       "      <td>How much can you charge for a website?</td>\n",
       "      <td>How much I can charge for a website?</td>\n",
       "      <td>True</td>\n",
       "    </tr>\n",
       "    <tr>\n",
       "      <th>4</th>\n",
       "      <td>How can I treat a swollen clitoris?</td>\n",
       "      <td>How do you treat a swollen tongue?</td>\n",
       "      <td>False</td>\n",
       "    </tr>\n",
       "  </tbody>\n",
       "</table>\n",
       "</div>"
      ],
      "text/plain": [
       "                                      text_question1  \\\n",
       "0  How do I gain healthy weight without eating junk?   \n",
       "1  What is unusual or different about the food an...   \n",
       "2  How can I make music player with sensor in and...   \n",
       "3             How much can you charge for a website?   \n",
       "4                How can I treat a swollen clitoris?   \n",
       "\n",
       "                                      text_question2  is_duplicate  \n",
       "0  What are the healthy ways of gaining weight an...          True  \n",
       "1  What is unusual or different about the food an...         False  \n",
       "2           How can I make music player for android?         False  \n",
       "3               How much I can charge for a website?          True  \n",
       "4                 How do you treat a swollen tongue?         False  "
      ]
     },
     "execution_count": 8,
     "metadata": {},
     "output_type": "execute_result"
    }
   ],
   "source": [
    "train_data.head(5)"
   ]
  },
  {
   "cell_type": "markdown",
   "metadata": {
    "id": "8gE_BMHfK8Zv",
    "jp-MarkdownHeadingCollapsed": true
   },
   "source": [
    "## **Splitting the questions in test dataset**"
   ]
  },
  {
   "cell_type": "markdown",
   "metadata": {
    "id": "rUrKbavELXp_"
   },
   "source": [
    "Questions column has been split into two questions columns 'text_question1' and 'text_question2'"
   ]
  },
  {
   "cell_type": "code",
   "execution_count": 9,
   "metadata": {
    "colab": {
     "base_uri": "https://localhost:8080/"
    },
    "id": "1fj5lFvNUq8c",
    "outputId": "780e9b68-a21b-48be-a15a-d5dc46781880"
   },
   "outputs": [
    {
     "data": {
      "text/html": [
       "<div>\n",
       "<style scoped>\n",
       "    .dataframe tbody tr th:only-of-type {\n",
       "        vertical-align: middle;\n",
       "    }\n",
       "\n",
       "    .dataframe tbody tr th {\n",
       "        vertical-align: top;\n",
       "    }\n",
       "\n",
       "    .dataframe thead th {\n",
       "        text-align: right;\n",
       "    }\n",
       "</style>\n",
       "<table border=\"1\" class=\"dataframe\">\n",
       "  <thead>\n",
       "    <tr style=\"text-align: right;\">\n",
       "      <th></th>\n",
       "      <th>text_question1</th>\n",
       "      <th>text_question2</th>\n",
       "      <th>is_duplicate</th>\n",
       "    </tr>\n",
       "  </thead>\n",
       "  <tbody>\n",
       "    <tr>\n",
       "      <th>0</th>\n",
       "      <td>Was it appropriate for Meryl Streep to use her...</td>\n",
       "      <td>Should Meryl Streep be using her position to a...</td>\n",
       "      <td>True</td>\n",
       "    </tr>\n",
       "    <tr>\n",
       "      <th>1</th>\n",
       "      <td>I have forgot the screen unlock PIN code of my...</td>\n",
       "      <td>How do I unlock my HTC 2200?</td>\n",
       "      <td>False</td>\n",
       "    </tr>\n",
       "    <tr>\n",
       "      <th>2</th>\n",
       "      <td>What book do you want to read?</td>\n",
       "      <td>How do you choose what books you read?</td>\n",
       "      <td>False</td>\n",
       "    </tr>\n",
       "    <tr>\n",
       "      <th>3</th>\n",
       "      <td>How do you know what is true and what is not?</td>\n",
       "      <td>How do we know what is true and what is not?</td>\n",
       "      <td>True</td>\n",
       "    </tr>\n",
       "    <tr>\n",
       "      <th>4</th>\n",
       "      <td>I've seen bald men treated equally as others i...</td>\n",
       "      <td>What do Indian guys think of beautiful bald gi...</td>\n",
       "      <td>False</td>\n",
       "    </tr>\n",
       "  </tbody>\n",
       "</table>\n",
       "</div>"
      ],
      "text/plain": [
       "                                      text_question1  \\\n",
       "0  Was it appropriate for Meryl Streep to use her...   \n",
       "1  I have forgot the screen unlock PIN code of my...   \n",
       "2                     What book do you want to read?   \n",
       "3      How do you know what is true and what is not?   \n",
       "4  I've seen bald men treated equally as others i...   \n",
       "\n",
       "                                      text_question2  is_duplicate  \n",
       "0  Should Meryl Streep be using her position to a...          True  \n",
       "1                       How do I unlock my HTC 2200?         False  \n",
       "2             How do you choose what books you read?         False  \n",
       "3       How do we know what is true and what is not?          True  \n",
       "4  What do Indian guys think of beautiful bald gi...         False  "
      ]
     },
     "execution_count": 9,
     "metadata": {},
     "output_type": "execute_result"
    }
   ],
   "source": [
    "#splitting the data in test dataset\n",
    "\n",
    "#df = pd.DataFrame(df_test)\n",
    "# Empty lists to store split data\n",
    "id_list_question1 = []\n",
    "text_list_question1 = []\n",
    "id_list_question2 = []\n",
    "text_list_question2 = []\n",
    "is_duplicate_list = []\n",
    "\n",
    "# Iterate through rows\n",
    "for index, row in df_test.iterrows():\n",
    "    ids = row['questions']['id']\n",
    "    texts = row['questions']['text']\n",
    "    is_duplicate = row['is_duplicate']\n",
    "\n",
    "    if len(ids) == 2:  # If there's a pair of questions\n",
    "        id_list_question1.append(ids[0])\n",
    "        text_list_question1.append(texts[0])\n",
    "        id_list_question2.append(ids[1])\n",
    "        text_list_question2.append(texts[1])\n",
    "    else:  # If there's only one question\n",
    "        id_list_question1.append(ids[0])\n",
    "        text_list_question1.append(texts[0])\n",
    "        id_list_question2.append(None)\n",
    "        text_list_question2.append(None)\n",
    "\n",
    "    is_duplicate_list.append(is_duplicate)\n",
    "\n",
    "# Create new DataFrame\n",
    "test_data = pd.DataFrame({\n",
    "                       'text_question1': text_list_question1,\n",
    "\n",
    "                       'text_question2': text_list_question2,\n",
    "                       'is_duplicate': is_duplicate_list})\n",
    "\n",
    "test_data.head(5)"
   ]
  },
  {
   "cell_type": "markdown",
   "metadata": {
    "id": "6k4W7V4_LILv",
    "jp-MarkdownHeadingCollapsed": true
   },
   "source": [
    "## **Data Analysis**"
   ]
  },
  {
   "cell_type": "markdown",
   "metadata": {
    "id": "Hoq5hyiHnb9H"
   },
   "source": [
    "\n",
    "Exploratory data analysis is the process of analyzing and summarizing a dataset to gain insights and understanding of its main characteristics. It involves techniques such as data visualization, summary statistics, and data cleaning to discover patterns and relationships within the data. EDA is a crucial step in the data analysis process as it helps to inform subsequent modeling and analysis decisions.\n",
    "\n"
   ]
  },
  {
   "cell_type": "code",
   "execution_count": 10,
   "metadata": {
    "colab": {
     "base_uri": "https://localhost:8080/",
     "height": 487
    },
    "id": "7vN6boTwCANA",
    "outputId": "602a6deb-65ae-47a7-c7ae-2659ef0fadeb"
   },
   "outputs": [
    {
     "data": {
      "text/plain": [
       "<Axes: xlabel='is_duplicate'>"
      ]
     },
     "execution_count": 10,
     "metadata": {},
     "output_type": "execute_result"
    },
    {
     "data": {
      "image/png": "[encoded data removed]",
      "text/plain": [
       "<Figure size 640x480 with 1 Axes>"
      ]
     },
     "metadata": {},
     "output_type": "display_data"
    }
   ],
   "source": [
    "train_data['is_duplicate'].value_counts().plot(kind='bar')"
   ]
  },
  {
   "cell_type": "code",
   "execution_count": 11,
   "metadata": {
    "colab": {
     "base_uri": "https://localhost:8080/",
     "height": 491
    },
    "id": "WOouG79_Xujk",
    "outputId": "7ce8611e-36a5-4cf3-b223-2d07ec64333a"
   },
   "outputs": [
    {
     "data": {
      "text/plain": [
       "<Axes: xlabel='is_duplicate'>"
      ]
     },
     "execution_count": 11,
     "metadata": {},
     "output_type": "execute_result"
    },
    {
     "data": {
      "image/png": "[encoded data removed]",
      "text/plain": [
       "<Figure size 640x480 with 1 Axes>"
      ]
     },
     "metadata": {},
     "output_type": "display_data"
    }
   ],
   "source": [
    "test_data['is_duplicate'].value_counts().plot(kind='bar')\n"
   ]
  },
  {
   "cell_type": "code",
   "execution_count": 12,
   "metadata": {
    "colab": {
     "base_uri": "https://localhost:8080/"
    },
    "id": "buoNMeb4j3aW",
    "outputId": "3f6ece74-2ace-49b1-fe6f-6517eb8ba1ff"
   },
   "outputs": [
    {
     "name": "stdout",
     "output_type": "stream",
     "text": [
      "Number of unique questions 403284\n",
      "Number of questions getting repeated 73299\n"
     ]
    }
   ],
   "source": [
    "# Repeated question in train dataset\n",
    "qid = pd.Series(train_data['text_question1'].tolist() + train_data['text_question2'].tolist())\n",
    "print('Number of unique questions',np.unique(qid).shape[0])\n",
    "\n",
    "x = qid.value_counts()>1\n",
    "print('Number of questions getting repeated',x[x].shape[0])\n"
   ]
  },
  {
   "cell_type": "code",
   "execution_count": 13,
   "metadata": {
    "colab": {
     "base_uri": "https://localhost:8080/"
    },
    "id": "Fi4WXM12lNR4",
    "outputId": "7e101eae-c778-4ba5-f5c0-d1b2e0daef15"
   },
   "outputs": [
    {
     "name": "stdout",
     "output_type": "stream",
     "text": [
      "Number of unique questions 196769\n",
      "Number of questions getting repeated 24901\n"
     ]
    }
   ],
   "source": [
    "# Repeated question in test dataset\n",
    "qid = pd.Series(test_data['text_question1'].tolist() + test_data['text_question2'].tolist())\n",
    "\n",
    "print('Number of unique questions',np.unique(qid).shape[0])\n",
    "x = qid.value_counts()>1\n",
    "print('Number of questions getting repeated',x[x].shape[0])"
   ]
  },
  {
   "cell_type": "markdown",
   "metadata": {
    "id": "TQlHPMYgMBED",
    "jp-MarkdownHeadingCollapsed": true
   },
   "source": [
    "## **Feature Engineering**"
   ]
  },
  {
   "cell_type": "markdown",
   "metadata": {
    "id": "am8rM-adlrMC"
   },
   "source": [
    "Let us now construct a few features like:\n",
    "\n",
    "freq_qid1 = Frequency of qid1's\n",
    "freq_qid2 = Frequency of qid2's\n",
    "q1len = Length of q1\n",
    "q2len = Length of q2\n",
    "q1_n_words = Number of words in Question 1\n",
    "q2_n_words = Number of words in Question 2\n",
    "word_Common = (Number of common unique words in Question 1 and Question 2)\n",
    "word_Total =(Total num of words in Question 1 + Total num of words in Question 2)\n",
    "word_share = (word_common)/(word_Total)\n",
    "freq_q1+freq_q2 = sum total of frequency of qid1 and qid2\n",
    "freq_q1-freq_q2 = absolute difference of frequency of qid1 and qid2"
   ]
  },
  {
   "cell_type": "code",
   "execution_count": 14,
   "metadata": {
    "id": "p9HMujZ-jNpj"
   },
   "outputs": [],
   "source": [
    "#Feature engineering\n",
    "df = train_data.sample(10000)\n",
    "df['freq_qid1'] = df.groupby('text_question1')['text_question2'].transform('count')\n",
    "df['freq_qid2'] = df.groupby('text_question2')['text_question2'].transform('count')\n",
    "df['q1len'] = df['text_question1'].str.len()\n",
    "df['q2len'] = df['text_question2'].str.len()\n",
    "df['q1_words'] = df['text_question1'].apply(lambda x: len(x.split(\" \")))\n",
    "df['q2_words'] = df['text_question2'].apply(lambda x: len(x.split(\" \")))\n",
    "\n",
    "def normalized_word_count(row):\n",
    "    w1 = set(map(lambda word: word.lower().strip(), row['text_question1'].split(\" \")))\n",
    "    w2 = set(map(lambda word: word.lower().strip(), row['text_question2'].split(\" \")))\n",
    "    return 1.0 * (len(w1 & w2))\n",
    "df['word_common'] = df.apply(normalized_word_count, axis = 1)\n",
    "\n",
    "\n",
    "def normalized_word_Total(row):\n",
    "    w1 = set(map(lambda word: word.lower().strip(), row['text_question1'].split(\" \")))\n",
    "    w2 = set(map(lambda word: word.lower().strip(), row['text_question2'].split(\" \")))\n",
    "    return 1.0 * (len(w1) + len(w2))\n",
    "df['word_Total'] = df.apply(normalized_word_Total, axis=1)\n",
    "\n",
    "def normalized_word_share(row):\n",
    "    w1 = set(map(lambda word: word.lower().strip(), row['text_question1'].split(\" \")))\n",
    "    w2 = set(map(lambda word: word.lower().strip(), row['text_question2'].split(\" \")))\n",
    "    return 1.0 * len(w1 & w2)/(len(w1) + len(w2))\n",
    "df['word_share'] = df.apply(normalized_word_share, axis=1)\n",
    "\n",
    "df['freq_q1+q2'] = df['freq_qid1']+df['freq_qid2']\n",
    "df['freq_q1-q2'] = abs(df['freq_qid1']-df['freq_qid2'])\n",
    "\n"
   ]
  },
  {
   "cell_type": "code",
   "execution_count": 15,
   "metadata": {
    "colab": {
     "base_uri": "https://localhost:8080/",
     "height": 696
    },
    "id": "Pbixklc3l603",
    "outputId": "4b18e582-34ea-412b-f9ab-31a4e24cf86a"
   },
   "outputs": [
    {
     "data": {
      "image/png": "[encoded data removed]",
      "text/plain": [
       "<Figure size 1200x800 with 2 Axes>"
      ]
     },
     "metadata": {},
     "output_type": "display_data"
    }
   ],
   "source": [
    "plt.figure(figsize = (12, 8))\n",
    "\n",
    "plt.subplot(1, 2, 1)\n",
    "sns.violinplot(x = \"is_duplicate\", y = \"word_share\", data = df)\n",
    "\n",
    "plt.subplot(1, 2, 2)\n",
    "sns.kdeplot(df[df['is_duplicate'] == 1]['word_share'], label = '1', color='teal', fill = True)\n",
    "sns.kdeplot(df[df['is_duplicate'] == 0]['word_share'], label = '0', color='red', fill = True)\n",
    "plt.legend()\n",
    "plt.show()"
   ]
  },
  {
   "cell_type": "code",
   "execution_count": 16,
   "metadata": {
    "colab": {
     "base_uri": "https://localhost:8080/",
     "height": 696
    },
    "id": "NVFY1zy9qBIh",
    "outputId": "d6230b0e-b185-47ed-b78d-4eb12c7d59dd"
   },
   "outputs": [
    {
     "data": {
      "image/png": "[encoded data removed]",
      "text/plain": [
       "<Figure size 1200x800 with 2 Axes>"
      ]
     },
     "metadata": {},
     "output_type": "display_data"
    }
   ],
   "source": [
    "plt.figure(figsize = (12, 8))\n",
    "\n",
    "plt.subplot(1, 2, 1)\n",
    "sns.violinplot(x = \"is_duplicate\", y = \"word_common\", data = df)\n",
    "\n",
    "plt.subplot(1, 2, 2)\n",
    "sns.kdeplot(df[df['is_duplicate'] == 1]['word_common'], label = '1', color='teal', fill = True)\n",
    "sns.kdeplot(df[df['is_duplicate'] == 0]['word_common'], label = '0', color='red', fill = True)\n",
    "plt.legend()\n",
    "plt.show()"
   ]
  },
  {
   "cell_type": "markdown",
   "metadata": {
    "id": "wKzNueCLoJhH"
   },
   "source": [
    "Both of the plots presented in the analysis suggest that there is significant overlap between the distributions of the word_Common feature in similar and non-similar questions. This means that the word_Common feature alone may not be a strong enough indicator to determine whether two questions are similar or not. It is important to take into account other features as well when building models for identifying duplicate questions, in order to achieve a high level of accuracy."
   ]
  },
  {
   "cell_type": "markdown",
   "metadata": {
    "id": "pdtv3-GvMWE4",
    "jp-MarkdownHeadingCollapsed": true
   },
   "source": [
    "## **Pre-processing of data**"
   ]
  },
  {
   "cell_type": "code",
   "execution_count": 17,
   "metadata": {
    "id": "Updtwz1JRIfj"
   },
   "outputs": [],
   "source": [
    "#Pre-processing of data\n",
    "def preprocess_data(text):\n",
    "    # convert to string\n",
    "    text = str(text)\n",
    "    # lowercase\n",
    "    text = text.lower()\n",
    "    # remove contractions\n",
    "    text = contractions.fix(text)\n",
    "    # remove hashtags\n",
    "    text = re.sub(r'#(\\w+)','',text)\n",
    "    # remove special characters\n",
    "    text = re.sub(r'[^\\w ]+','',text)\n",
    "    # remove links if any\n",
    "    text = re.sub(r'https?://\\S+|www\\.\\S+','',text)\n",
    "    # remove non-ascii\n",
    "    text = ''.join(word for word in text if ord(word) < 128)\n",
    "    # remove punctuation\n",
    "    text = text.translate(str.maketrans('','',string.punctuation))\n",
    "    # remove digits\n",
    "    text = re.sub(r'[\\d]+','',text)\n",
    "    # remove single letters\n",
    "    text = ' '.join(word for word in text.split() if len(word) > 1)\n",
    "    # remove multiple spaces\n",
    "    text = ' '.join(text.split())\n",
    "\n",
    "    return text"
   ]
  },
  {
   "cell_type": "markdown",
   "metadata": {
    "id": "gxYHatkZMoEg"
   },
   "source": [
    "Applying pre-process data to train data"
   ]
  },
  {
   "cell_type": "code",
   "execution_count": 18,
   "metadata": {
    "colab": {
     "base_uri": "https://localhost:8080/",
     "height": 206
    },
    "id": "XWPEUQZMU-vK",
    "outputId": "3ef3edea-a05b-4a1f-e3f9-78e27def29a8"
   },
   "outputs": [
    {
     "data": {
      "text/html": [
       "<div>\n",
       "<style scoped>\n",
       "    .dataframe tbody tr th:only-of-type {\n",
       "        vertical-align: middle;\n",
       "    }\n",
       "\n",
       "    .dataframe tbody tr th {\n",
       "        vertical-align: top;\n",
       "    }\n",
       "\n",
       "    .dataframe thead th {\n",
       "        text-align: right;\n",
       "    }\n",
       "</style>\n",
       "<table border=\"1\" class=\"dataframe\">\n",
       "  <thead>\n",
       "    <tr style=\"text-align: right;\">\n",
       "      <th></th>\n",
       "      <th>text_question1</th>\n",
       "      <th>text_question2</th>\n",
       "      <th>is_duplicate</th>\n",
       "    </tr>\n",
       "  </thead>\n",
       "  <tbody>\n",
       "    <tr>\n",
       "      <th>0</th>\n",
       "      <td>how do gain healthy weight without eating junk</td>\n",
       "      <td>what are the healthy ways of gaining weight an...</td>\n",
       "      <td>True</td>\n",
       "    </tr>\n",
       "    <tr>\n",
       "      <th>1</th>\n",
       "      <td>what is unusual or different about the food an...</td>\n",
       "      <td>what is unusual or different about the food an...</td>\n",
       "      <td>False</td>\n",
       "    </tr>\n",
       "    <tr>\n",
       "      <th>2</th>\n",
       "      <td>how can make music player with sensor in android</td>\n",
       "      <td>how can make music player for android</td>\n",
       "      <td>False</td>\n",
       "    </tr>\n",
       "    <tr>\n",
       "      <th>3</th>\n",
       "      <td>how much can you charge for website</td>\n",
       "      <td>how much can charge for website</td>\n",
       "      <td>True</td>\n",
       "    </tr>\n",
       "    <tr>\n",
       "      <th>4</th>\n",
       "      <td>how can treat swollen clitoris</td>\n",
       "      <td>how do you treat swollen tongue</td>\n",
       "      <td>False</td>\n",
       "    </tr>\n",
       "  </tbody>\n",
       "</table>\n",
       "</div>"
      ],
      "text/plain": [
       "                                      text_question1  \\\n",
       "0     how do gain healthy weight without eating junk   \n",
       "1  what is unusual or different about the food an...   \n",
       "2   how can make music player with sensor in android   \n",
       "3                how much can you charge for website   \n",
       "4                     how can treat swollen clitoris   \n",
       "\n",
       "                                      text_question2  is_duplicate  \n",
       "0  what are the healthy ways of gaining weight an...          True  \n",
       "1  what is unusual or different about the food an...         False  \n",
       "2              how can make music player for android         False  \n",
       "3                    how much can charge for website          True  \n",
       "4                    how do you treat swollen tongue         False  "
      ]
     },
     "execution_count": 18,
     "metadata": {},
     "output_type": "execute_result"
    }
   ],
   "source": [
    "train_data_preprocessed = train_data.copy() # Create a copy of the original dataframe\n",
    "\n",
    "#change the name to df_train_preprocess\n",
    "train_data_preprocessed.loc[:,\"text_question1\"] = train_data_preprocessed[\"text_question1\"].apply(preprocess_data)\n",
    "train_data_preprocessed.loc[:,\"text_question2\"] = train_data_preprocessed[\"text_question2\"].apply(preprocess_data)\n",
    "train_data_preprocessed.head()"
   ]
  },
  {
   "cell_type": "markdown",
   "metadata": {
    "id": "245uJru1MxM3"
   },
   "source": [
    "Applying pre-process data to test data"
   ]
  },
  {
   "cell_type": "code",
   "execution_count": 19,
   "metadata": {
    "colab": {
     "base_uri": "https://localhost:8080/",
     "height": 206
    },
    "id": "03n8oJeiXIdH",
    "outputId": "6031627b-71d5-4f74-9d0f-fe90f613c098"
   },
   "outputs": [
    {
     "data": {
      "text/html": [
       "<div>\n",
       "<style scoped>\n",
       "    .dataframe tbody tr th:only-of-type {\n",
       "        vertical-align: middle;\n",
       "    }\n",
       "\n",
       "    .dataframe tbody tr th {\n",
       "        vertical-align: top;\n",
       "    }\n",
       "\n",
       "    .dataframe thead th {\n",
       "        text-align: right;\n",
       "    }\n",
       "</style>\n",
       "<table border=\"1\" class=\"dataframe\">\n",
       "  <thead>\n",
       "    <tr style=\"text-align: right;\">\n",
       "      <th></th>\n",
       "      <th>text_question1</th>\n",
       "      <th>text_question2</th>\n",
       "      <th>is_duplicate</th>\n",
       "    </tr>\n",
       "  </thead>\n",
       "  <tbody>\n",
       "    <tr>\n",
       "      <th>0</th>\n",
       "      <td>was it appropriate for meryl streep to use her...</td>\n",
       "      <td>should meryl streep be using her position to a...</td>\n",
       "      <td>True</td>\n",
       "    </tr>\n",
       "    <tr>\n",
       "      <th>1</th>\n",
       "      <td>have forgot the screen unlock pin code of my h...</td>\n",
       "      <td>how do unlock my htc</td>\n",
       "      <td>False</td>\n",
       "    </tr>\n",
       "    <tr>\n",
       "      <th>2</th>\n",
       "      <td>what book do you want to read</td>\n",
       "      <td>how do you choose what books you read</td>\n",
       "      <td>False</td>\n",
       "    </tr>\n",
       "    <tr>\n",
       "      <th>3</th>\n",
       "      <td>how do you know what is true and what is not</td>\n",
       "      <td>how do we know what is true and what is not</td>\n",
       "      <td>True</td>\n",
       "    </tr>\n",
       "    <tr>\n",
       "      <th>4</th>\n",
       "      <td>have seen bald men treated equally as others i...</td>\n",
       "      <td>what do indian guys think of beautiful bald girls</td>\n",
       "      <td>False</td>\n",
       "    </tr>\n",
       "  </tbody>\n",
       "</table>\n",
       "</div>"
      ],
      "text/plain": [
       "                                      text_question1  \\\n",
       "0  was it appropriate for meryl streep to use her...   \n",
       "1  have forgot the screen unlock pin code of my h...   \n",
       "2                      what book do you want to read   \n",
       "3       how do you know what is true and what is not   \n",
       "4  have seen bald men treated equally as others i...   \n",
       "\n",
       "                                      text_question2  is_duplicate  \n",
       "0  should meryl streep be using her position to a...          True  \n",
       "1                               how do unlock my htc         False  \n",
       "2              how do you choose what books you read         False  \n",
       "3        how do we know what is true and what is not          True  \n",
       "4  what do indian guys think of beautiful bald girls         False  "
      ]
     },
     "execution_count": 19,
     "metadata": {},
     "output_type": "execute_result"
    }
   ],
   "source": [
    "test_data_preprocessed = test_data.copy() # Create a copy of the original dataframe\n",
    "test_data_preprocessed.loc[:,\"text_question1\"] = test_data_preprocessed[\"text_question1\"].apply(preprocess_data)\n",
    "test_data_preprocessed.loc[:,\"text_question2\"] = test_data_preprocessed[\"text_question2\"].apply(preprocess_data)\n",
    "test_data_preprocessed.head()"
   ]
  },
  {
   "cell_type": "markdown",
   "metadata": {
    "id": "1OD8Ws-io-RZ",
    "jp-MarkdownHeadingCollapsed": true
   },
   "source": [
    "# **TF-IDF**"
   ]
  },
  {
   "cell_type": "code",
   "execution_count": 20,
   "metadata": {
    "colab": {
     "base_uri": "https://localhost:8080/"
    },
    "id": "cYMglm-PCL85",
    "outputId": "ba4455e0-f6b5-4889-f4e3-3b9a42bbc4f5"
   },
   "outputs": [
    {
     "data": {
      "text/plain": [
       "((283003, 82815), (121287, 82815))"
      ]
     },
     "execution_count": 20,
     "metadata": {},
     "output_type": "execute_result"
    }
   ],
   "source": [
    "# Fit Tfidf Vectorizer of train & test dataset\n",
    "tfidf = TfidfVectorizer()\n",
    "train_tfidf = tfidf.fit_transform(train_data_preprocessed['text_question1'] + ' ' + \n",
    "                                  train_data_preprocessed['text_question2'])\n",
    "\n",
    "#no. of feature\n",
    "test_tfidf = tfidf.transform(test_data_preprocessed['text_question1'] + ' ' + \n",
    "                             test_data_preprocessed['text_question2'])\n",
    "\n",
    "train_tfidf.shape, test_tfidf.shape"
   ]
  },
  {
   "cell_type": "markdown",
   "metadata": {
    "id": "0wR7e7wNo2Kf"
   },
   "source": [
    "## **XGBclassification (TF-IDF representation)**"
   ]
  },
  {
   "cell_type": "code",
   "execution_count": 21,
   "metadata": {
    "colab": {
     "base_uri": "https://localhost:8080/"
    },
    "id": "M2VGQgjCCq0w",
    "outputId": "8fb49b4a-fa30-4cac-d14f-030d9c46cafa"
   },
   "outputs": [
    {
     "name": "stdout",
     "output_type": "stream",
     "text": [
      "Train Accuracy score: 0.7662568948032353\n",
      "Classification Report:\n",
      "               precision    recall  f1-score   support\n",
      "\n",
      "       False       0.77      0.90      0.83    178519\n",
      "        True       0.76      0.54      0.63    104484\n",
      "\n",
      "    accuracy                           0.77    283003\n",
      "   macro avg       0.76      0.72      0.73    283003\n",
      "weighted avg       0.76      0.77      0.76    283003\n",
      "\n",
      "Test Accuracy score:  0.7507729600039575\n",
      "Classification Report:\n",
      "               precision    recall  f1-score   support\n",
      "\n",
      "       False       0.76      0.88      0.82     76508\n",
      "        True       0.73      0.52      0.61     44779\n",
      "\n",
      "    accuracy                           0.75    121287\n",
      "   macro avg       0.74      0.70      0.71    121287\n",
      "weighted avg       0.75      0.75      0.74    121287\n",
      "\n"
     ]
    }
   ],
   "source": [
    "labels = train_data_preprocessed['is_duplicate']\n",
    "model_xgb = xgb.XGBClassifier()\n",
    "model_xgb.fit(train_tfidf,labels)\n",
    "\n",
    "train_predictions = model_xgb.predict(train_tfidf)\n",
    "train_predictions = list(train_predictions)\n",
    "\n",
    "print('Train Accuracy score:',accuracy_score(train_data_preprocessed['is_duplicate'], train_predictions))\n",
    "print(\"Classification Report:\\n\", classification_report(train_data_preprocessed['is_duplicate'], train_predictions))\n",
    "\n",
    "test_predictions = model_xgb.predict(test_tfidf)\n",
    "test_predictions = list(test_predictions)\n",
    "\n",
    "print('Test Accuracy score: ',accuracy_score(test_data_preprocessed['is_duplicate'], test_predictions))\n",
    "print(\"Classification Report:\\n\", classification_report(test_data_preprocessed['is_duplicate'], test_predictions))"
   ]
  },
  {
   "cell_type": "markdown",
   "metadata": {
    "id": "LPcoS-DIPRJD"
   },
   "source": [
    "## **LightGBM Classifier (TF-IDF representation)**"
   ]
  },
  {
   "cell_type": "code",
   "execution_count": 22,
   "metadata": {
    "colab": {
     "base_uri": "https://localhost:8080/"
    },
    "id": "iEXbF7c3KMv4",
    "outputId": "51d9c7b2-166e-413f-9a7d-d5132ce9d881"
   },
   "outputs": [
    {
     "name": "stdout",
     "output_type": "stream",
     "text": [
      "[LightGBM] [Info] Number of positive: 104484, number of negative: 178519\n",
      "[LightGBM] [Info] Auto-choosing col-wise multi-threading, the overhead of testing was 0.814005 seconds.\n",
      "You can set `force_col_wise=true` to remove the overhead.\n",
      "[LightGBM] [Info] Total Bins 407228\n",
      "[LightGBM] [Info] Number of data points in the train set: 283003, number of used features: 10339\n",
      "[LightGBM] [Info] [binary:BoostFromScore]: pavg=0.369197 -> initscore=-0.535661\n",
      "[LightGBM] [Info] Start training from score -0.535661\n",
      "Train Accuracy score: 0.7516846111171966\n",
      "Classification Report:\n",
      "               precision    recall  f1-score   support\n",
      "\n",
      "       False       0.76      0.89      0.82    178519\n",
      "        True       0.73      0.51      0.60    104484\n",
      "\n",
      "    accuracy                           0.75    283003\n",
      "   macro avg       0.75      0.70      0.71    283003\n",
      "weighted avg       0.75      0.75      0.74    283003\n",
      "\n",
      "Test Accuracy score: 0.7460651182731868\n",
      "Classification Report:\n",
      "               precision    recall  f1-score   support\n",
      "\n",
      "       False       0.75      0.89      0.81     76508\n",
      "        True       0.72      0.51      0.60     44779\n",
      "\n",
      "    accuracy                           0.75    121287\n",
      "   macro avg       0.74      0.70      0.71    121287\n",
      "weighted avg       0.74      0.75      0.73    121287\n",
      "\n"
     ]
    }
   ],
   "source": [
    "# Train LightGBM Classifier\n",
    "model_lgb = lgb.LGBMClassifier()\n",
    "model_lgb.fit(train_tfidf,labels)\n",
    "\n",
    "# Predictions and evaluation\n",
    "train_predictions = model_lgb.predict(train_tfidf)\n",
    "print('Train Accuracy score:', accuracy_score(labels, train_predictions))\n",
    "print(\"Classification Report:\\n\", classification_report(labels, train_predictions))\n",
    "\n",
    "test_predictions = model_lgb.predict(test_tfidf)\n",
    "test_predictions = list(test_predictions)\n",
    "\n",
    "print('Test Accuracy score:',accuracy_score(test_data_preprocessed['is_duplicate'],test_predictions))\n",
    "print(\"Classification Report:\\n\", classification_report(test_data_preprocessed['is_duplicate'],test_predictions))"
   ]
  },
  {
   "cell_type": "markdown",
   "metadata": {
    "id": "VPRkBrzrOHLi",
    "jp-MarkdownHeadingCollapsed": true
   },
   "source": [
    "# **Word2Vec**"
   ]
  },
  {
   "cell_type": "markdown",
   "metadata": {
    "id": "xRfbWJkNOeNq"
   },
   "source": [
    "## Word2Vec using word tokenization on train data"
   ]
  },
  {
   "cell_type": "code",
   "execution_count": 23,
   "metadata": {
    "id": "dRHMu0IowEa7"
   },
   "outputs": [],
   "source": [
    "# Assuming 'processed_questions' contains preprocessed text\n",
    "X = train_data_preprocessed[['text_question1', 'text_question2']]\n",
    "y = train_data_preprocessed['is_duplicate']\n",
    "\n",
    "# Tokenize the sentences\n",
    "tokenized_sentences_q1 = X['text_question1'].apply(lambda x: str(x).split())\n",
    "tokenized_sentences_q2 = X['text_question2'].apply(lambda x: str(x).split())"
   ]
  },
  {
   "cell_type": "code",
   "execution_count": 24,
   "metadata": {},
   "outputs": [
    {
     "data": {
      "text/plain": [
       "(283003, 283003, 566006)"
      ]
     },
     "execution_count": 24,
     "metadata": {},
     "output_type": "execute_result"
    }
   ],
   "source": [
    "tokenized_sentences = list(tokenized_sentences_q1)\n",
    "tokenized_sentences.extend(list(tokenized_sentences_q2))\n",
    "len(tokenized_sentences_q1), len(tokenized_sentences_q2), len(tokenized_sentences)"
   ]
  },
  {
   "cell_type": "code",
   "execution_count": 25,
   "metadata": {},
   "outputs": [],
   "source": [
    "word2vec_model = Word2Vec(sentences=tokenized_sentences, \n",
    "                             vector_size=100, \n",
    "                             window=5, \n",
    "                             min_count=1, \n",
    "                             workers=4)\n"
   ]
  },
  {
   "cell_type": "code",
   "execution_count": 26,
   "metadata": {
    "colab": {
     "base_uri": "https://localhost:8080/"
    },
    "id": "wLUF-y3wwXOA",
    "outputId": "234b0e64-b0b6-4dfb-e4cc-6e37c6cc43ea"
   },
   "outputs": [
    {
     "name": "stdout",
     "output_type": "stream",
     "text": [
      "Train Accuracy score: 0.8130443846885015\n",
      "Classification Report:\n",
      "               precision    recall  f1-score   support\n",
      "\n",
      "       False       0.83      0.89      0.86    178519\n",
      "        True       0.78      0.68      0.73    104484\n",
      "\n",
      "    accuracy                           0.81    283003\n",
      "   macro avg       0.81      0.79      0.79    283003\n",
      "weighted avg       0.81      0.81      0.81    283003\n",
      "\n"
     ]
    }
   ],
   "source": [
    "# Train Word2Vec model\n",
    "#word2vec_model_q1 = Word2Vec(sentences=tokenized_sentences, vector_size=100, window=5, min_count=1, workers=4)\n",
    "#word2vec_model_q2 = Word2Vec(sentences=tokenized_sentences_q2, vector_size=100, window=5, min_count=1, workers=4)\n",
    "\n",
    "# Function to get the vector representation of a sentence\n",
    "def get_sentence_vector(sentence, model):\n",
    "    vector = np.zeros(model.vector_size)\n",
    "    count = 0\n",
    "    for word in sentence:\n",
    "        if word in model.wv:\n",
    "            vector += model.wv[word]\n",
    "            count += 1\n",
    "    if count != 0:\n",
    "        vector /= count\n",
    "    return vector\n",
    "\n",
    "# Create feature vectors for each question\n",
    "X_q1 = np.array([get_sentence_vector(sentence, word2vec_model) for sentence in tokenized_sentences_q1])\n",
    "X_q2 = np.array([get_sentence_vector(sentence, word2vec_model) for sentence in tokenized_sentences_q2])\n",
    "\n",
    "# Concatenate the feature vectors\n",
    "X_train_combined = np.concatenate((X_q1, X_q2), axis=1)\n",
    "\n",
    "labels = train_data_preprocessed['is_duplicate']\n",
    "model_xgb = xgb.XGBClassifier()\n",
    "model_xgb.fit(X_train_combined, labels)\n",
    "\n",
    "train_predictions = model_xgb.predict(X_train_combined)\n",
    "train_predictions = list(train_predictions)\n",
    "print('Train Accuracy score:', accuracy_score(train_data_preprocessed['is_duplicate'], train_predictions))\n",
    "print(\"Classification Report:\\n\", classification_report(train_data_preprocessed['is_duplicate'], train_predictions))"
   ]
  },
  {
   "cell_type": "code",
   "execution_count": 27,
   "metadata": {
    "colab": {
     "base_uri": "https://localhost:8080/"
    },
    "id": "1v7kssxkDckX",
    "outputId": "780e464c-c1de-486c-fe87-3a5d52735055"
   },
   "outputs": [
    {
     "name": "stdout",
     "output_type": "stream",
     "text": [
      "[LightGBM] [Info] Number of positive: 104484, number of negative: 178519\n",
      "[LightGBM] [Info] Auto-choosing col-wise multi-threading, the overhead of testing was 0.039884 seconds.\n",
      "You can set `force_col_wise=true` to remove the overhead.\n",
      "[LightGBM] [Info] Total Bins 51000\n",
      "[LightGBM] [Info] Number of data points in the train set: 283003, number of used features: 200\n",
      "[LightGBM] [Info] [binary:BoostFromScore]: pavg=0.369197 -> initscore=-0.535661\n",
      "[LightGBM] [Info] Start training from score -0.535661\n",
      "Train Accuracy score: 0.7643982572622905\n",
      "Classification Report:\n",
      "               precision    recall  f1-score   support\n",
      "\n",
      "       False       0.78      0.87      0.82    178519\n",
      "        True       0.72      0.59      0.65    104484\n",
      "\n",
      "    accuracy                           0.76    283003\n",
      "   macro avg       0.75      0.73      0.74    283003\n",
      "weighted avg       0.76      0.76      0.76    283003\n",
      "\n"
     ]
    }
   ],
   "source": [
    "# Train LightGBM Classifier\n",
    "model_lgb = lgb.LGBMClassifier()\n",
    "model_lgb.fit(X_train_combined, labels)\n",
    "\n",
    "# Predictions and evaluation\n",
    "train_predictions = model_lgb.predict(X_train_combined)\n",
    "print('Train Accuracy score:', accuracy_score(labels, train_predictions))\n",
    "print(\"Classification Report:\\n\", classification_report(labels, train_predictions))"
   ]
  },
  {
   "cell_type": "markdown",
   "metadata": {
    "id": "a2h7Ihvs38kf"
   },
   "source": [
    "## Word2Vec using word tokenization on test data"
   ]
  },
  {
   "cell_type": "code",
   "execution_count": 28,
   "metadata": {
    "id": "pUpJEah11els"
   },
   "outputs": [],
   "source": [
    "# Assuming 'processed_questions' contains preprocessed text\n",
    "X = test_data_preprocessed[['text_question1', 'text_question2']]\n",
    "y = test_data_preprocessed['is_duplicate']\n",
    "\n",
    "# Tokenize the sentences\n",
    "tokenized_sentences_q1 = X['text_question1'].apply(lambda x: str(x).split())\n",
    "tokenized_sentences_q2 = X['text_question2'].apply(lambda x: str(x).split())"
   ]
  },
  {
   "cell_type": "code",
   "execution_count": 29,
   "metadata": {
    "colab": {
     "base_uri": "https://localhost:8080/"
    },
    "id": "fRCp4mtw1spQ",
    "outputId": "b937aefe-0541-4f89-b581-fa5ee339767b"
   },
   "outputs": [
    {
     "name": "stdout",
     "output_type": "stream",
     "text": [
      "Test Accuracy score: 0.7707091444260308\n",
      "Classification Report:\n",
      "               precision    recall  f1-score   support\n",
      "\n",
      "       False       0.80      0.86      0.83     76508\n",
      "        True       0.72      0.62      0.67     44779\n",
      "\n",
      "    accuracy                           0.77    121287\n",
      "   macro avg       0.76      0.74      0.75    121287\n",
      "weighted avg       0.77      0.77      0.77    121287\n",
      "\n"
     ]
    }
   ],
   "source": [
    "# Train Word2Vec model\n",
    "#word2vec_model_q1 = Word2Vec(sentences=tokenized_sentences_q1, vector_size=100, window=5, min_count=1, workers=4)\n",
    "#word2vec_model_q2 = Word2Vec(sentences=tokenized_sentences_q2, vector_size=100, window=5, min_count=1, workers=4)\n",
    "\n",
    "# Function to get the vector representation of a sentence\n",
    "def get_sentence_vector(sentence, model):\n",
    "    vector = np.zeros(model.vector_size)\n",
    "    count = 0\n",
    "    for word in sentence:\n",
    "        if word in model.wv:\n",
    "            vector += model.wv[word]\n",
    "            count += 1\n",
    "    if count != 0:\n",
    "        vector /= count\n",
    "    return vector\n",
    "\n",
    "# Create feature vectors for each question\n",
    "X_q1 = np.array([get_sentence_vector(sentence, word2vec_model) for sentence in tokenized_sentences_q1])\n",
    "X_q2 = np.array([get_sentence_vector(sentence, word2vec_model) for sentence in tokenized_sentences_q2])\n",
    "\n",
    "# Concatenate the feature vectors\n",
    "X_test_combined = np.concatenate((X_q1, X_q2), axis=1)\n",
    "\n",
    "\n",
    "#labels = test_data_preprocessed['is_duplicate']\n",
    "#model_xgb = xgb.XGBClassifier()\n",
    "#model_xgb.fit(X_combined, labels)\n",
    "\n",
    "\n",
    "predictions_test = model_xgb.predict(X_test_combined)\n",
    "predictions_test = list(predictions_test)\n",
    "print('Test Accuracy score:',accuracy_score(test_data_preprocessed['is_duplicate'],predictions_test))\n",
    "print(\"Classification Report:\\n\", classification_report(test_data_preprocessed['is_duplicate'],predictions_test))"
   ]
  },
  {
   "cell_type": "code",
   "execution_count": 30,
   "metadata": {
    "colab": {
     "base_uri": "https://localhost:8080/"
    },
    "id": "6-a5eLoIOuyW",
    "outputId": "8e203055-39a6-43d7-8d48-e275bea06812"
   },
   "outputs": [
    {
     "name": "stdout",
     "output_type": "stream",
     "text": [
      "Test Accuracy score: 0.7548459439181445\n",
      "Classification Report:\n",
      "               precision    recall  f1-score   support\n",
      "\n",
      "       False       0.78      0.86      0.82     76508\n",
      "        True       0.71      0.57      0.63     44779\n",
      "\n",
      "    accuracy                           0.75    121287\n",
      "   macro avg       0.74      0.72      0.72    121287\n",
      "weighted avg       0.75      0.75      0.75    121287\n",
      "\n"
     ]
    }
   ],
   "source": [
    "# Train LightGBM Classifier\n",
    "#model_lgb = lgb.LGBMClassifier()\n",
    "#model_lgb.fit(X_test_combined, labels)\n",
    "\n",
    "predictions_test=model_lgb.predict(X_test_combined)\n",
    "predictions_test = list(predictions_test)\n",
    "print('Test Accuracy score:',accuracy_score(test_data_preprocessed['is_duplicate'],predictions_test))\n",
    "print(\"Classification Report:\\n\", classification_report(test_data_preprocessed['is_duplicate'],predictions_test))\n"
   ]
  },
  {
   "cell_type": "markdown",
   "metadata": {
    "id": "YOx3xG80zfxZ",
    "jp-MarkdownHeadingCollapsed": true
   },
   "source": [
    "# **GloVe (Spacy)**"
   ]
  },
  {
   "cell_type": "markdown",
   "metadata": {
    "id": "SoWe8wIZXLCr"
   },
   "source": [
    "###  Load SpaCy  for tokenization"
   ]
  },
  {
   "cell_type": "code",
   "execution_count": 31,
   "metadata": {
    "id": "ooFmcUk6XGnP"
   },
   "outputs": [],
   "source": [
    "nlp = spacy.load(\"en_core_web_md\")"
   ]
  },
  {
   "cell_type": "markdown",
   "metadata": {
    "id": "DdUqQ7eqVMkO"
   },
   "source": [
    "### Load GloVe embeddings"
   ]
  },
  {
   "cell_type": "code",
   "execution_count": 32,
   "metadata": {},
   "outputs": [],
   "source": [
    "#from gensim.scripts.glove2word2vec import glove2word2vec\n",
    "#load the GloVe word embeddings file which has a 100 dimension representation for each word. Convert that into a word2vec supported format\n",
    "#glove2word2vec('glove.6B.100d.txt','word2vec.glove.6B.100d.txt')"
   ]
  },
  {
   "cell_type": "code",
   "execution_count": 33,
   "metadata": {
    "id": "HSIGGnzaOaza"
   },
   "outputs": [],
   "source": [
    "def load_glove_embeddings(file_path):\n",
    "    embeddings_index = {}\n",
    "    with open(file_path, 'r', encoding='utf-8') as f:\n",
    "        for line in f:\n",
    "            values = line.split()\n",
    "            word = values[0]\n",
    "            vector = np.asarray(values[1:], dtype='float32')\n",
    "            embeddings_index[word] = vector\n",
    "    return embeddings_index\n",
    "\n",
    "#glove_embeddings = load_glove_embeddings('/content/drive/My Drive/glove.6B.100d.txt')"
   ]
  },
  {
   "cell_type": "markdown",
   "metadata": {
    "id": "DTySZDdOXU_U"
   },
   "source": [
    "### **Function to embed questions using SpaCy tokenization and GloVe on train data**"
   ]
  },
  {
   "cell_type": "code",
   "execution_count": 34,
   "metadata": {
    "id": "zAYT3FJmSAmf"
   },
   "outputs": [
    {
     "name": "stderr",
     "output_type": "stream",
     "text": [
      "/home/mullah/conda/envs/acava/lib/python3.10/site-packages/numpy/core/fromnumeric.py:3504: RuntimeWarning: Mean of empty slice.\n",
      "  return _methods._mean(a, axis=axis, dtype=dtype,\n",
      "/home/mullah/conda/envs/acava/lib/python3.10/site-packages/numpy/core/_methods.py:129: RuntimeWarning: invalid value encountered in scalar divide\n",
      "  ret = ret.dtype.type(ret / rcount)\n"
     ]
    }
   ],
   "source": [
    "def embed_question(question, model):\n",
    "    tokens = [token.vector for token in model(question)]\n",
    "    return np.mean(tokens, axis=0)\n",
    "\n",
    "#sample_size = 1000  # Adjust as needed\n",
    "#sampled_df = df_preprocess_train.sample(n=sample_size, random_state=42)\n",
    "sampled_df = train_data.copy()\n",
    "\n",
    "# Function to calculate cosine similarity between two embeddings\n",
    "def cosine_similarity(embedding1, embedding2):\n",
    "    return np.dot(embedding1, embedding2) / (np.linalg.norm(embedding1) * np.linalg.norm(embedding2))\n",
    "\n",
    "# Preprocess the data and create embeddings for each question pair\n",
    "train_embeddings = []\n",
    "labels = []\n",
    "for idx, row in sampled_df.iterrows():\n",
    "    q1_embedding = embed_question(row['text_question1'], nlp)\n",
    "    q2_embedding = embed_question(row['text_question2'], nlp)\n",
    "    combined_embedding = np.abs(q1_embedding - q2_embedding)  # Combine embeddings\n",
    "    train_embeddings.append(combined_embedding)\n",
    "    labels.append(row['is_duplicate'])"
   ]
  },
  {
   "cell_type": "code",
   "execution_count": 35,
   "metadata": {
    "colab": {
     "base_uri": "https://localhost:8080/"
    },
    "id": "c5wKhsMQS-n3",
    "outputId": "ca6bee4f-9a1a-4869-a794-3704afb5b87a"
   },
   "outputs": [
    {
     "name": "stdout",
     "output_type": "stream",
     "text": [
      "Train Accuracy score: 0.7431970685823118\n",
      "Classification Report:\n",
      "               precision    recall  f1-score   support\n",
      "\n",
      "       False       0.77      0.85      0.81    178519\n",
      "        True       0.69      0.55      0.61    104484\n",
      "\n",
      "    accuracy                           0.74    283003\n",
      "   macro avg       0.73      0.70      0.71    283003\n",
      "weighted avg       0.74      0.74      0.74    283003\n",
      "\n"
     ]
    }
   ],
   "source": [
    "model_xgb = xgb.XGBClassifier()\n",
    "model_xgb.fit(train_embeddings,labels)\n",
    "\n",
    "predictions_train = model_xgb.predict(train_embeddings)\n",
    "predictions_train = list(predictions_train)\n",
    "print('Train Accuracy score:',accuracy_score(sampled_df['is_duplicate'],predictions_train))\n",
    "print(\"Classification Report:\\n\", classification_report(sampled_df['is_duplicate'],predictions_train))"
   ]
  },
  {
   "cell_type": "code",
   "execution_count": 36,
   "metadata": {
    "colab": {
     "base_uri": "https://localhost:8080/"
    },
    "id": "jXrmNI_UW_rQ",
    "outputId": "9651ab91-a5f9-42dc-86b3-2f15fdaed0f1"
   },
   "outputs": [
    {
     "name": "stdout",
     "output_type": "stream",
     "text": [
      "[LightGBM] [Info] Number of positive: 104484, number of negative: 178519\n",
      "[LightGBM] [Info] Auto-choosing col-wise multi-threading, the overhead of testing was 0.051440 seconds.\n",
      "You can set `force_col_wise=true` to remove the overhead.\n",
      "[LightGBM] [Info] Total Bins 76500\n",
      "[LightGBM] [Info] Number of data points in the train set: 283003, number of used features: 300\n",
      "[LightGBM] [Info] [binary:BoostFromScore]: pavg=0.369197 -> initscore=-0.535661\n",
      "[LightGBM] [Info] Start training from score -0.535661\n",
      "Train Accuracy score: 0.7027558011752526\n",
      "Classification Report:\n",
      "               precision    recall  f1-score   support\n",
      "\n",
      "       False       0.73      0.85      0.78    178519\n",
      "        True       0.64      0.45      0.53    104484\n",
      "\n",
      "    accuracy                           0.70    283003\n",
      "   macro avg       0.68      0.65      0.66    283003\n",
      "weighted avg       0.69      0.70      0.69    283003\n",
      "\n"
     ]
    }
   ],
   "source": [
    "# Train LightGBM Classifier\n",
    "model_lgb = lgb.LGBMClassifier()\n",
    "model_lgb.fit(train_embeddings,labels)\n",
    "\n",
    "# Predictions and evaluation\n",
    "predictions_train = model_lgb.predict(train_embeddings)\n",
    "predictions_train = list(predictions_train)\n",
    "print('Train Accuracy score:', accuracy_score(labels, predictions_train))\n",
    "print(\"Classification Report:\\n\", classification_report(labels, predictions_train))"
   ]
  },
  {
   "cell_type": "markdown",
   "metadata": {
    "id": "hMheuuLvVY97"
   },
   "source": [
    "### Function to embed questions using SpaCy and GloVe on test data"
   ]
  },
  {
   "cell_type": "code",
   "execution_count": 37,
   "metadata": {
    "id": "3iAXqVfLVJIH"
   },
   "outputs": [
    {
     "name": "stderr",
     "output_type": "stream",
     "text": [
      "/home/mullah/conda/envs/acava/lib/python3.10/site-packages/numpy/core/fromnumeric.py:3504: RuntimeWarning: Mean of empty slice.\n",
      "  return _methods._mean(a, axis=axis, dtype=dtype,\n",
      "/home/mullah/conda/envs/acava/lib/python3.10/site-packages/numpy/core/_methods.py:129: RuntimeWarning: invalid value encountered in scalar divide\n",
      "  ret = ret.dtype.type(ret / rcount)\n"
     ]
    }
   ],
   "source": [
    "\n",
    "# Function to embed questions using SpaCy and GloVe\n",
    "def embed_question(question, model):\n",
    "    tokens = [token.vector for token in model(question)]\n",
    "    return np.mean(tokens, axis=0)\n",
    "\n",
    "#sample_size = 1000  # Adjust as needed\n",
    "#sampled_df = df_preprocess_test.sample(n=sample_size, random_state=42)\n",
    "sampled_df = test_data.copy()\n",
    "\n",
    "# Function to calculate cosine similarity between two embeddings\n",
    "def cosine_similarity(embedding1, embedding2):\n",
    "    return np.dot(embedding1, embedding2) / (np.linalg.norm(embedding1) * np.linalg.norm(embedding2))\n",
    "\n",
    "    # Preprocess the data and create embeddings for each question pair\n",
    "test_embeddings = []\n",
    "labels = []\n",
    "for idx, row in sampled_df.iterrows():\n",
    "    q1_embedding = embed_question(row['text_question1'], nlp)\n",
    "    q2_embedding = embed_question(row['text_question2'], nlp)\n",
    "    combined_embedding = np.abs(q1_embedding - q2_embedding)  # Combine embeddings\n",
    "    test_embeddings.append(combined_embedding)\n",
    "    labels.append(row['is_duplicate'])"
   ]
  },
  {
   "cell_type": "code",
   "execution_count": 38,
   "metadata": {
    "colab": {
     "base_uri": "https://localhost:8080/"
    },
    "id": "phVkI7TGWAkE",
    "outputId": "047b57f3-e476-473d-a587-b3037034f719"
   },
   "outputs": [
    {
     "name": "stdout",
     "output_type": "stream",
     "text": [
      "Test Accuracy score:  0.6921351834903988\n",
      "Classification Report:\n",
      "                precision    recall  f1-score   support\n",
      "\n",
      "       False       0.73      0.82      0.77     76508\n",
      "        True       0.61      0.47      0.53     44779\n",
      "\n",
      "    accuracy                           0.69    121287\n",
      "   macro avg       0.67      0.65      0.65    121287\n",
      "weighted avg       0.68      0.69      0.68    121287\n",
      "\n"
     ]
    }
   ],
   "source": [
    "#model_xgb = xgb.XGBClassifier()\n",
    "#model_xgb.fit(test_embeddings, labels)\n",
    "\n",
    "predictions_test = model_xgb.predict(test_embeddings)\n",
    "predictions_test = list(predictions_test)\n",
    "print('Test Accuracy score: ', accuracy_score(sampled_df['is_duplicate'],predictions_test))\n",
    "print(\"Classification Report:\\n \", classification_report(sampled_df['is_duplicate'],predictions_test))"
   ]
  },
  {
   "cell_type": "code",
   "execution_count": 39,
   "metadata": {
    "colab": {
     "base_uri": "https://localhost:8080/"
    },
    "id": "XZw2wPazLclS",
    "outputId": "a64f6723-7c37-452e-d746-56d31a9b6bbe"
   },
   "outputs": [
    {
     "name": "stdout",
     "output_type": "stream",
     "text": [
      "Test Accuracy score: 0.6921351834903988\n",
      "Classification Report:\n",
      "               precision    recall  f1-score   support\n",
      "\n",
      "       False       0.73      0.82      0.77     76508\n",
      "        True       0.61      0.47      0.53     44779\n",
      "\n",
      "    accuracy                           0.69    121287\n",
      "   macro avg       0.67      0.65      0.65    121287\n",
      "weighted avg       0.68      0.69      0.68    121287\n",
      "\n"
     ]
    }
   ],
   "source": [
    "# Train LightGBM Classifier\n",
    "#model_lgb = lgb.LGBMClassifier()\n",
    "#model_lgb.fit(embeddings,labels)\n",
    "\n",
    "predictions_test = model_xgb.predict(test_embeddings)\n",
    "predictions_test = list(predictions_test)\n",
    "print('Test Accuracy score:', accuracy_score(sampled_df['is_duplicate'], predictions_test))\n",
    "print(\"Classification Report:\\n\", classification_report(sampled_df['is_duplicate'], predictions_test))"
   ]
  },
  {
   "cell_type": "markdown",
   "metadata": {
    "id": "a5MpLhyUp69w",
    "jp-MarkdownHeadingCollapsed": true
   },
   "source": [
    "# **SBERT**"
   ]
  },
  {
   "cell_type": "code",
   "execution_count": 40,
   "metadata": {
    "colab": {
     "base_uri": "https://localhost:8080/",
     "height": 401,
     "referenced_widgets": [
      "f909a335680847f6a4ddcd4e44e39e74",
      "023e2d5adc28402bb00c45e180efb8d1",
      "7885b9c222314ec3a9c6a174b1a45ff7",
      "5b213426a2914ef48d692c152f9d009c",
      "0fa039eaadb64d8eb9d57f3813bebdc9",
      "d64efcdc1e2742dfa766bdd180af5074",
      "b83deea9fe984f39b33a975a24c05db0",
      "a1b68e6dd4ff46f9a94ebde0a2c6e409",
      "ab2223d499a94d22a88bd3d4dce3720f",
      "54a76a7c5d004367be59f1bd592b6d31",
      "4293f6e27f794a79a8006c4375f9761d",
      "349ea8d89403469087de9609f744c4a9",
      "5fbbb17503734b809a1ed27d4d592d87",
      "3baf75978bc447e9b4d421f9d9193ff5",
      "cc2cbfa982e7465eb0c657eb38bcd13d",
      "bdb21a85e7dd4a2290ee12d84fb262bb",
      "5b4811ca69644c37a2c398752edf285a",
      "02cada02e2134f73a83566da8a8a3dbb",
      "f482d1ec905441a8bcb4a97374866c0d",
      "632b02eb1086483a8498ee946adcdae6",
      "cea35b5e4a9d4fdd973681ebbff49feb",
      "0d1e9272b1504358a0d355e4134ec262",
      "735638f1c9ef40b1be5a2959d94537bf",
      "d6f373620b784afda5157d82a3fce16b",
      "4cd06e79f518440c8565402551dbcc28",
      "d5c5dc6b36764f5d9132fd9915630c6d",
      "703ff0e3898e4f6cb194ab8a82863b74",
      "926a1ab28a5a44a39a35a48220b28524",
      "a7126af277be404a891c4c90998bf072",
      "8e8abed8912e4abbb63f5701bddab237",
      "8c015e95e9eb403c8152bed595445494",
      "a5cd23d25f724409bb801a4b63799b70",
      "0b080ef86d5549f09f8a45ed51483f9f",
      "eb224bb14d324c8ead00c2e68e42f4ca",
      "c5913227ca224a46afa679509f44ed89",
      "61fe628da1ab477a8d3ef84a709854d3",
      "3f5dc7d1f95645a58fa611581db91a88",
      "f757c8ea721e46278a7f5dd4062fcdd5",
      "894529ada4f441388d9cb86103d20c39",
      "69fe2870e39d4127bf3a089d310981e8",
      "516d36e5a2e34a17b60d8a3d6d34ef77",
      "1bd222ee5ce74533be98dfd169aa6f87",
      "cf7ed3f1fe6a45f4b1a7827f3be96c97",
      "c797745533f94f049084a4d1f80069d6",
      "f367612a3a6f424ba2dce1c95d9609a0",
      "209a202df14e45dba032c0cbc1d0d81c",
      "eef640b37be44036bff15c481076859b",
      "8fe488ff8d2a4420af7303f77ac5711c",
      "e734eb956c074ad8993b41872845ef39",
      "18afbb7cfcde4ef6ac74b1219eb27f4a",
      "8fd5c6ba9fa044b6ae952dd573abcaf4",
      "72f19181c49b4ded891931ea61d7c046",
      "c3f7da41191040dfa888eab365ab2053",
      "4193e890af0f4735bcc4408970fc228c",
      "395bd6d6fabc4201b994db1e0f67f825",
      "73bafa39022e4eedac7efbddeedcaa54",
      "bbddfa8495514107b6f1337452e10bab",
      "70489d742ece46ef921936e2e432a541",
      "10e7dfd5b3ed4fd79b83c64129c422fd",
      "50693ec7b1fa4622b3528bcec7ec3db4",
      "8e67d1e3a270422cb0851225deaf6693",
      "d9dad2d239094b3597179619837feb44",
      "3b2074c589814eeca5e94909dd162373",
      "4cd47bc096994da7a71acf32a61e9a23",
      "cce709a1a3fb4e11bcc508e80b66f2f9",
      "af43da4e122f4b1a8ca27872b7d91d73",
      "19c344f73ceb4844abdb210bb8cf3f42",
      "ad47c71ed9d54ed2befc0e99c31f8fce",
      "f7ec285cd50646eda1a684227b81cee2",
      "6cd42aa577b64c38baf770dc6b3c53fa",
      "414c03d2e1d84923b28aadc99cb3e522",
      "ecd8d7da598e48e59c43f5e4f33422d3",
      "efe11b900ecd49a9b22afca2a92868a8",
      "5f11288fc2644d9c92a9d619da1b6000",
      "59a7d98a06b8462688eedfa4a0c28291",
      "29f542f6be504cb9880b68b86b0b239d",
      "80f319b064e943f8bf59572c25cda7d1",
      "067da494dcef4dca99543efc5fa50b14",
      "27a9513cd5cf47448c49fb9f14a23d90",
      "d8f796015e804447a814178814db4a7e",
      "e9a602b6c96747889cfc7139c6c49a38",
      "302dce6e7f68472c91516505c70144d6",
      "fcf866183d8646899383d87936379962",
      "a34260c91c2543c183211d624b18fd39",
      "0e96f74e0fbe41ed8238f2f7c3ea20a0",
      "ccd791f7715e4ba7914963312f1bdf2c",
      "36830944ef7c44e2990b09443c675ba7",
      "5369a4bfd60b4c1d8fac051f4bbfbe28",
      "add77e9114134ae3851a1ad6a7e6ce22",
      "b79cf7667bff45cf81ac17733ecbefda",
      "a9e1b86e2ab74d05a724bfb86b437c8e",
      "ea64693fd5964564993761954c7e0c37",
      "8cc0616890554f448f75677f9c56ba33",
      "f3b6af288848426b8082df5852dfb587",
      "1b0ecfb6cdc547649a66a04f1fa0314e",
      "b756c0da491a49b891387db58a6159a2",
      "99e83d93453342d4a3b4d66b652ffd6d",
      "b63e2be0460c41c7a7af5b0ccecb2958",
      "3616609dea1949c7a9eb4cc54d467e06",
      "74213eeb995a42a281dfe304c194ce0a",
      "8b270326a37f4535a4c9e8ff9ec427c1",
      "a1e5e426e5eb485582ed6cde821bad4a",
      "05b451ddb2fd47c397801e16524f722b",
      "24607fd5a60c4d269a05efd613896054",
      "d0566b735c574f179d845d928781f07a",
      "2356e344f6314995b69c351408fa43e3",
      "79e39298edd94f7ca98e76fc99904ee1",
      "7969025ca7944a6787d03c10d60e5f27",
      "60d718988a7b426daed8ab2974385655",
      "aff9022adc5f4e33b1b5c12d0a9bc6f1",
      "8aab82d2c8ce4167854297435093525e",
      "480666eb0b23421183f521a72d707561",
      "30cab9acb99d41d38df1ffe91bd1bfc6",
      "b1ac32f0a84744b0a6c5457c1c8cc39d",
      "048374e1bc3247479fdc0fcbfda50913",
      "46d214fe4fb347fd8c2e4e152b92b22a",
      "8697b724c1c8480e8971d5d571813d88",
      "7322ea91d2104ed7ad339ad6eb4d2738",
      "0ed1ddd843bc48f5949fbb34abbc2ff1",
      "5eff3a8cc4b24dc4a13e84e6cd536608",
      "7852b8c8869147b9ab550c0c3f90e552",
      "4e75f61d36bd4279ad7ea8ba8a827582",
      "3c929c6a83634d1bbad0953b1437b46f",
      "2117cc13dc8d4d4b986f53dc5011d6c4",
      "ab534e9b8210450b8c3c1c1c1d406e34",
      "c65a7669fa62440d9dac6ea6b716e1c6",
      "bebbd4c527f14d099c1267ab5d17a6f4",
      "67ba7cc558af45f2bee8f6e06011cbca",
      "418cc0061da64d15b28658d19d91772f",
      "1fb2889ffdf24330b7b7451b0f9bcb15",
      "3fc01921e0cf4d70a85bf3e1f0ee91b9",
      "b1fbdaee75564fa7b4ab8de86416db07"
     ]
    },
    "id": "YcMTpoYqqcKm",
    "outputId": "9a14e63d-e5a4-4b2f-b919-6dc9aaf1da76"
   },
   "outputs": [],
   "source": [
    "#Load pre-trained model\n",
    "model_name = 'paraphrase-distilroberta-base-v2'\n",
    "model = SentenceTransformer(model_name)"
   ]
  },
  {
   "cell_type": "markdown",
   "metadata": {
    "id": "kZjXjsrL3w4g"
   },
   "source": [
    "## **SBERT applied on train data**"
   ]
  },
  {
   "cell_type": "code",
   "execution_count": 41,
   "metadata": {
    "colab": {
     "base_uri": "https://localhost:8080/"
    },
    "id": "WVB2POSArfVv",
    "outputId": "d504dade-d1d1-4c2c-d43b-98fc7444cd5e"
   },
   "outputs": [
    {
     "name": "stdout",
     "output_type": "stream",
     "text": [
      "Train Accuracy score: 0.8845065246658163\n",
      "Classification Report:\n",
      "               precision    recall  f1-score   support\n",
      "\n",
      "       False       0.91      0.90      0.91    178519\n",
      "        True       0.84      0.85      0.84    104484\n",
      "\n",
      "    accuracy                           0.88    283003\n",
      "   macro avg       0.88      0.88      0.88    283003\n",
      "weighted avg       0.88      0.88      0.88    283003\n",
      "\n"
     ]
    }
   ],
   "source": [
    "#sample_size = 3000  # Adjust as needed\n",
    "#sampled_df = new_df_train.sample(n=sample_size, random_state=52)\n",
    "sampled_df = train_data.copy()\n",
    "\n",
    "# Encode questions using SBERT model\n",
    "question1_embeddings = model.encode(sampled_df['text_question1'].tolist())\n",
    "question2_embeddings = model.encode(sampled_df['text_question2'].tolist())\n",
    "\n",
    "X_train_combined = np.concatenate((question1_embeddings, question2_embeddings), axis=1)\n",
    "\n",
    "# Generate labels for the sampled data\n",
    "labels = sampled_df['is_duplicate'].values\n",
    "\n",
    "model_xgb = xgb.XGBClassifier()\n",
    "model_xgb.fit(X_train_combined,labels)\n",
    "\n",
    "predictions_train = model_xgb.predict(X_train_combined)\n",
    "predictions_train = list(predictions_train)\n",
    "print('Train Accuracy score:',accuracy_score(sampled_df['is_duplicate'],predictions_train))\n",
    "print(\"Classification Report:\\n\", classification_report(sampled_df['is_duplicate'],predictions_train))\n"
   ]
  },
  {
   "cell_type": "code",
   "execution_count": 42,
   "metadata": {
    "colab": {
     "base_uri": "https://localhost:8080/"
    },
    "id": "IbQCUJPBPms5",
    "outputId": "e1c2ed98-0c46-40be-fd0a-6f287a56e46f"
   },
   "outputs": [
    {
     "name": "stdout",
     "output_type": "stream",
     "text": [
      "[LightGBM] [Info] Number of positive: 104484, number of negative: 178519\n",
      "[LightGBM] [Info] Auto-choosing col-wise multi-threading, the overhead of testing was 0.666601 seconds.\n",
      "You can set `force_col_wise=true` to remove the overhead.\n",
      "[LightGBM] [Info] Total Bins 391680\n",
      "[LightGBM] [Info] Number of data points in the train set: 283003, number of used features: 1536\n",
      "[LightGBM] [Info] [binary:BoostFromScore]: pavg=0.369197 -> initscore=-0.535661\n",
      "[LightGBM] [Info] Start training from score -0.535661\n",
      "Train Accuracy score: 0.8397190135793613\n",
      "Classification Report:\n",
      "               precision    recall  f1-score   support\n",
      "\n",
      "       False       0.86      0.89      0.87    178519\n",
      "        True       0.80      0.76      0.78    104484\n",
      "\n",
      "    accuracy                           0.84    283003\n",
      "   macro avg       0.83      0.82      0.83    283003\n",
      "weighted avg       0.84      0.84      0.84    283003\n",
      "\n"
     ]
    }
   ],
   "source": [
    "# Train LightGBM Classifier\n",
    "model_lgb = lgb.LGBMClassifier()\n",
    "model_lgb.fit(X_train_combined, labels)\n",
    "\n",
    "# Predictions and evaluation\n",
    "predictions_train = model_lgb.predict(X_train_combined)\n",
    "print('Train Accuracy score:', accuracy_score(labels, predictions_train))\n",
    "print(\"Classification Report:\\n\", classification_report(labels, predictions_train))"
   ]
  },
  {
   "cell_type": "markdown",
   "metadata": {
    "id": "X-UyhNnSY8_V"
   },
   "source": [
    "## **SBERT applied on test data**"
   ]
  },
  {
   "cell_type": "code",
   "execution_count": 43,
   "metadata": {
    "colab": {
     "base_uri": "https://localhost:8080/"
    },
    "id": "2XCj0iKSY4p2",
    "outputId": "320f098f-0ad3-4198-b252-7aa9f6d8bdb9"
   },
   "outputs": [
    {
     "name": "stdout",
     "output_type": "stream",
     "text": [
      "Test Accuracy score: 0.847403266632038\n",
      "Classification Report:\n",
      "               precision    recall  f1-score   support\n",
      "\n",
      "       False       0.88      0.88      0.88     76508\n",
      "        True       0.79      0.80      0.79     44779\n",
      "\n",
      "    accuracy                           0.85    121287\n",
      "   macro avg       0.84      0.84      0.84    121287\n",
      "weighted avg       0.85      0.85      0.85    121287\n",
      "\n"
     ]
    }
   ],
   "source": [
    "#sample_size = 3000  # Adjust as needed\n",
    "#sampled_df = new_df_test.sample(n=sample_size, random_state=52)\n",
    "#sampled_df=new_df_train\n",
    "sampled_df = test_data.copy()\n",
    "\n",
    "# Encode questions using SBERT model\n",
    "question1_embeddings = model.encode(sampled_df['text_question1'].tolist())\n",
    "question2_embeddings = model.encode(sampled_df['text_question2'].tolist())\n",
    "\n",
    "X_test_combined = np.concatenate((question1_embeddings, question2_embeddings), axis=1)\n",
    "\n",
    "# Generate labels for the sampled data\n",
    "labels = sampled_df['is_duplicate'].values\n",
    "\n",
    "\n",
    "#model_xgb = xgb.XGBClassifier()\n",
    "#model_xgb.fit(X_test_combined,labels)\n",
    "\n",
    "predictions_test=model_xgb.predict(X_test_combined)\n",
    "print('Test Accuracy score:',accuracy_score(sampled_df['is_duplicate'],predictions_test))\n",
    "print(\"Classification Report:\\n\", classification_report(sampled_df['is_duplicate'],predictions_test))"
   ]
  },
  {
   "cell_type": "code",
   "execution_count": 44,
   "metadata": {
    "colab": {
     "base_uri": "https://localhost:8080/"
    },
    "id": "HV3euirpQtfA",
    "outputId": "2d51d187-75ea-472f-f585-f8fd0085c703"
   },
   "outputs": [
    {
     "name": "stdout",
     "output_type": "stream",
     "text": [
      "Test Accuracy score: 0.8330241493317503\n",
      "Classification Report:\n",
      "               precision    recall  f1-score   support\n",
      "\n",
      "       False       0.86      0.88      0.87     76508\n",
      "        True       0.79      0.75      0.77     44779\n",
      "\n",
      "    accuracy                           0.83    121287\n",
      "   macro avg       0.82      0.81      0.82    121287\n",
      "weighted avg       0.83      0.83      0.83    121287\n",
      "\n"
     ]
    }
   ],
   "source": [
    "# Train LightGBM Classifier\n",
    "#model_lgb = lgb.LGBMClassifier()\n",
    "#model_lgb.fit(X_test_combined, labels)\n",
    "\n",
    "# Predictions and evaluation\n",
    "predictions_test = model_lgb.predict(X_test_combined)\n",
    "print('Test Accuracy score:', accuracy_score(labels, predictions_test))\n",
    "print(\"Classification Report:\\n\", classification_report(labels, predictions_test))"
   ]
  },
  {
   "cell_type": "markdown",
   "metadata": {
    "jp-MarkdownHeadingCollapsed": true
   },
   "source": [
    "# SBERT (Quantisation)"
   ]
  },
  {
   "cell_type": "code",
   "execution_count": 45,
   "metadata": {},
   "outputs": [],
   "source": [
    "train_binary_embeddings = quantize_embeddings(X_train_combined, precision=\"binary\")\n",
    "test_binary_embeddings = quantize_embeddings(X_test_combined, precision=\"binary\")"
   ]
  },
  {
   "cell_type": "code",
   "execution_count": 46,
   "metadata": {},
   "outputs": [
    {
     "data": {
      "text/plain": [
       "(283003, 283003)"
      ]
     },
     "execution_count": 46,
     "metadata": {},
     "output_type": "execute_result"
    }
   ],
   "source": [
    "len(train_binary_embeddings), len(train_data.values)"
   ]
  },
  {
   "cell_type": "markdown",
   "metadata": {},
   "source": [
    "## **SBERT (Quantisation) applied on Train data**"
   ]
  },
  {
   "cell_type": "code",
   "execution_count": 47,
   "metadata": {},
   "outputs": [
    {
     "name": "stdout",
     "output_type": "stream",
     "text": [
      "Train Accuracy score: 0.8586799433221556\n",
      "Classification Report:\n",
      "               precision    recall  f1-score   support\n",
      "\n",
      "       False       0.88      0.90      0.89    178519\n",
      "        True       0.82      0.79      0.80    104484\n",
      "\n",
      "    accuracy                           0.86    283003\n",
      "   macro avg       0.85      0.84      0.85    283003\n",
      "weighted avg       0.86      0.86      0.86    283003\n",
      "\n"
     ]
    }
   ],
   "source": [
    "# Generate labels for the sampled data\n",
    "labels = train_data['is_duplicate'].values\n",
    "\n",
    "model_xgb = xgb.XGBClassifier()\n",
    "model_xgb.fit(train_binary_embeddings, labels)\n",
    "\n",
    "predictions_train = model_xgb.predict(train_binary_embeddings)\n",
    "predictions_train = list(predictions_train)\n",
    "print('Train Accuracy score:',accuracy_score(labels,predictions_train))\n",
    "print(\"Classification Report:\\n\", classification_report(labels,predictions_train))"
   ]
  },
  {
   "cell_type": "code",
   "execution_count": 48,
   "metadata": {},
   "outputs": [
    {
     "name": "stdout",
     "output_type": "stream",
     "text": [
      "[LightGBM] [Info] Number of positive: 104484, number of negative: 178519\n",
      "[LightGBM] [Info] Auto-choosing col-wise multi-threading, the overhead of testing was 0.041395 seconds.\n",
      "You can set `force_col_wise=true` to remove the overhead.\n",
      "[LightGBM] [Info] Total Bins 45789\n",
      "[LightGBM] [Info] Number of data points in the train set: 283003, number of used features: 192\n",
      "[LightGBM] [Info] [binary:BoostFromScore]: pavg=0.369197 -> initscore=-0.535661\n",
      "[LightGBM] [Info] Start training from score -0.535661\n",
      "Train Accuracy score: 0.8095391214934118\n",
      "Classification Report:\n",
      "               precision    recall  f1-score   support\n",
      "\n",
      "       False       0.82      0.90      0.86    178519\n",
      "        True       0.79      0.66      0.72    104484\n",
      "\n",
      "    accuracy                           0.81    283003\n",
      "   macro avg       0.80      0.78      0.79    283003\n",
      "weighted avg       0.81      0.81      0.81    283003\n",
      "\n"
     ]
    }
   ],
   "source": [
    "# Train LightGBM Classifier\n",
    "model_lgb = lgb.LGBMClassifier()\n",
    "model_lgb.fit(train_binary_embeddings, labels)\n",
    "\n",
    "# Predictions and evaluation\n",
    "predictions_train = model_lgb.predict(train_binary_embeddings)\n",
    "print('Train Accuracy score:', accuracy_score(labels, predictions_train))\n",
    "print(\"Classification Report:\\n\", classification_report(labels, predictions_train))"
   ]
  },
  {
   "cell_type": "markdown",
   "metadata": {},
   "source": [
    "## **SBERT (Quantisation) applied on Test data**"
   ]
  },
  {
   "cell_type": "code",
   "execution_count": 49,
   "metadata": {},
   "outputs": [
    {
     "name": "stdout",
     "output_type": "stream",
     "text": [
      "Test Accuracy score: 0.8280359807728775\n",
      "Classification Report:\n",
      "               precision    recall  f1-score   support\n",
      "\n",
      "       False       0.85      0.88      0.87     76508\n",
      "        True       0.78      0.74      0.76     44779\n",
      "\n",
      "    accuracy                           0.83    121287\n",
      "   macro avg       0.82      0.81      0.81    121287\n",
      "weighted avg       0.83      0.83      0.83    121287\n",
      "\n"
     ]
    }
   ],
   "source": [
    "#sample_size = 3000  # Adjust as needed\n",
    "#sampled_df = new_df_test.sample(n=sample_size, random_state=52)\n",
    "#sampled_df=new_df_train\n",
    "#sampled_df = test_data.copy()\n",
    "\n",
    "# Encode questions using SBERT model\n",
    "#question1_embeddings = model.encode(sampled_df['text_question1'].tolist())\n",
    "#question2_embeddings = model.encode(sampled_df['text_question2'].tolist())\n",
    "#X_combined = np.concatenate((question1_embeddings, question2_embeddings), axis=1)\n",
    "\n",
    "# Generate labels for the sampled data\n",
    "labels = test_data['is_duplicate'].values\n",
    "\n",
    "\n",
    "#model_xgb = xgb.XGBClassifier()\n",
    "#model_xgb.fit(X_combined,labels)\n",
    "\n",
    "predictions_test=model_xgb.predict(test_binary_embeddings)\n",
    "print('Test Accuracy score:',accuracy_score(test_data['is_duplicate'],predictions_test))\n",
    "print(\"Classification Report:\\n\", classification_report(test_data['is_duplicate'],predictions_test))"
   ]
  },
  {
   "cell_type": "code",
   "execution_count": 50,
   "metadata": {},
   "outputs": [
    {
     "name": "stdout",
     "output_type": "stream",
     "text": [
      "Train Accuracy score: 0.8059643655132043\n",
      "Classification Report:\n",
      "               precision    recall  f1-score   support\n",
      "\n",
      "       False       0.81      0.90      0.85     76508\n",
      "        True       0.79      0.65      0.71     44779\n",
      "\n",
      "    accuracy                           0.81    121287\n",
      "   macro avg       0.80      0.77      0.78    121287\n",
      "weighted avg       0.80      0.81      0.80    121287\n",
      "\n"
     ]
    }
   ],
   "source": [
    "# test LightGBM Classifier\n",
    "#model_lgb = lgb.LGBMClassifier()\n",
    "#model_lgb.fit(train_binary_embeddings, labels)\n",
    "\n",
    "# Predictions and evaluation\n",
    "predictions_train = model_lgb.predict(test_binary_embeddings)\n",
    "print('Train Accuracy score:', accuracy_score(labels, predictions_train))\n",
    "print(\"Classification Report:\\n\", classification_report(labels, predictions_train))"
   ]
  },
  {
   "cell_type": "markdown",
   "metadata": {
    "id": "YgEuxcEHaKbB"
   },
   "source": [
    "# **BERT**"
   ]
  },
  {
   "cell_type": "markdown",
   "metadata": {
    "id": "I3mpAgm74FkD"
   },
   "source": [
    "## **Load BERT Model**"
   ]
  },
  {
   "cell_type": "code",
   "execution_count": 22,
   "metadata": {
    "colab": {
     "base_uri": "https://localhost:8080/",
     "height": 84,
     "referenced_widgets": [
      "36ccdb07f8a04617af5be0235c8a590c",
      "7ffe6bc69f154ceb8b73f55f5d074567",
      "74c72d0797224a2bac5e10e5a789fc50",
      "237353af78064610bbbee93e29bbbbe9",
      "c0d74580dcc34cdb8c4cbec828359d2a",
      "d9b74875ea8b4e21a58bb17e45cdbf1b",
      "4667f2b9c01e450ca99ff5552b523703",
      "1b528d89acd340dc8ceff98bda7feaac",
      "2086ad923e074309ba78091506d710d4",
      "27c5ee2e628646a881527676529b783c",
      "9a4aab686382487f815d1ca3433d5194"
     ]
    },
    "id": "Vkdh5VF0kv3D",
    "outputId": "ee855b6d-2c46-49db-fde1-5b99a9145236"
   },
   "outputs": [
    {
     "name": "stderr",
     "output_type": "stream",
     "text": [
      "Some weights of RobertaModel were not initialized from the model checkpoint at roberta-base and are newly initialized: ['roberta.pooler.dense.bias', 'roberta.pooler.dense.weight']\n",
      "You should probably TRAIN this model on a down-stream task to be able to use it for predictions and inference.\n"
     ]
    }
   ],
   "source": [
    "# Load the pre-trained RoBERTa tokenizer and model\n",
    "tokenizer = RobertaTokenizer.from_pretrained(\"roberta-base\")\n",
    "roberta_model = RobertaModel.from_pretrained(\"roberta-base\")\n",
    "\n",
    "# Configure the model for quantization\n",
    "#roberta_model = roberta_model.eval()  # Put the model in evaluation mode\n",
    "#roberta_model = torch.quantization.quantize_dynamic(roberta_model, {torch.nn.Linear}, dtype=torch.qint8)"
   ]
  },
  {
   "cell_type": "markdown",
   "metadata": {
    "id": "FVGXHf9s4L1T"
   },
   "source": [
    "## **Implement BERT on train dataset**"
   ]
  },
  {
   "cell_type": "code",
   "execution_count": null,
   "metadata": {
    "colab": {
     "base_uri": "https://localhost:8080/"
    },
    "id": "UO4nacv9f3EE",
    "outputId": "019853e8-b1de-44ac-ec82-e3673ee40701"
   },
   "outputs": [],
   "source": [
    "# Sample size and load data\n",
    "#sample_size = 3000  # Adjust as needed\n",
    "#sampled_df = new_df_train.sample(n=sample_size, random_state=52)\n",
    "sampled_df = train_data\n",
    "\n",
    "# Tokenize questions using RoBERTa tokenizer\n",
    "question1_tokens = tokenizer(sampled_df['text_question1'].tolist(), padding=True, truncation=True, return_tensors='pt', max_length=128)\n",
    "question2_tokens = tokenizer(sampled_df['text_question2'].tolist(), padding=True, truncation=True, return_tensors='pt', max_length=128)\n",
    "\n",
    "# Encode questions using RoBERTa model with reduced batch size\n",
    "batch_size = 8\n",
    "question1_embeddings = []\n",
    "question2_embeddings = []\n",
    "\n",
    "with torch.no_grad():  # Disable gradient tracking for efficiency\n",
    "    for i in range(0, len(sampled_df), batch_size):\n",
    "        batch_question1_tokens = {k: v[i:i+batch_size] for k, v in question1_tokens.items()}\n",
    "        batch_question2_tokens = {k: v[i:i+batch_size] for k, v in question2_tokens.items()}\n",
    "\n",
    "        # Encode questions using RoBERTa model\n",
    "        batch_question1_outputs = roberta_model(**batch_question1_tokens)\n",
    "        batch_question2_outputs = roberta_model(**batch_question2_tokens)\n",
    "\n",
    "        # Extract pooled output (CLS token)\n",
    "        batch_question1_embeddings = batch_question1_outputs.pooler_output\n",
    "        batch_question2_embeddings = batch_question2_outputs.pooler_output\n",
    "\n",
    "        question1_embeddings.append(batch_question1_embeddings)\n",
    "        question2_embeddings.append(batch_question2_embeddings)\n",
    "\n",
    "# Concatenate question embeddings\n",
    "question1_embeddings = torch.cat(question1_embeddings, dim=0)\n",
    "question2_embeddings = torch.cat(question2_embeddings, dim=0)\n",
    "X_train_combined = torch.cat([question1_embeddings, question2_embeddings], dim=1).numpy()\n",
    "\n",
    "# Generate labels for the sampled data\n",
    "labels = sampled_df['is_duplicate'].values\n",
    "\n",
    "# Train Gradient Boosting Classifier\n",
    "model_xgb = xgb.XGBClassifier()\n",
    "model_xgb.fit(X_train_combined, labels)\n",
    "\n",
    "# Predictions and evaluation\n",
    "predictions_train = model_xgb.predict(X_train_combined)\n",
    "print('Train Accuracy score:', accuracy_score(labels, predictions_train))\n",
    "print(\"Classification Report:\\n\", classification_report(labels, predictions_train))"
   ]
  },
  {
   "cell_type": "code",
   "execution_count": null,
   "metadata": {
    "colab": {
     "base_uri": "https://localhost:8080/"
    },
    "id": "zBvydys2LDve",
    "outputId": "139b7f95-2b31-4ea8-af30-85362ca062db"
   },
   "outputs": [],
   "source": [
    "# Train LightGBM Classifier\n",
    "model_lgb = lgb.LGBMClassifier()\n",
    "model_lgb.fit(X_train_combined, labels)\n",
    "\n",
    "# Predictions and evaluation\n",
    "predictions_train = model_lgb.predict(X_train_combined)\n",
    "print('Train Accuracy score:', accuracy_score(labels, predictions_train))\n",
    "print(\"Classification Report:\\n\", classification_report(labels, predictions_train))"
   ]
  },
  {
   "cell_type": "markdown",
   "metadata": {
    "id": "ti4K9nlq4Vbl"
   },
   "source": [
    "## **Implement BERT Model on test dataset**"
   ]
  },
  {
   "cell_type": "code",
   "execution_count": null,
   "metadata": {
    "colab": {
     "base_uri": "https://localhost:8080/"
    },
    "id": "pNoQQyu1mWin",
    "outputId": "41f2b250-3ddb-4f29-93e0-d1468ffc2fe8"
   },
   "outputs": [],
   "source": [
    "# Sample size and load data\n",
    "#sample_size = 3000  # Adjust as needed\n",
    "#sampled_df = new_df_test.sample(n=sample_size, random_state=52)\n",
    "sampled_df = test_data\n",
    "\n",
    "# Tokenize questions using RoBERTa tokenizer\n",
    "question1_tokens = tokenizer(sampled_df['text_question1'].tolist(), padding=True, truncation=True, return_tensors='pt', max_length=128)\n",
    "question2_tokens = tokenizer(sampled_df['text_question2'].tolist(), padding=True, truncation=True, return_tensors='pt', max_length=128)\n",
    "\n",
    "# Encode questions using RoBERTa model with reduced batch size\n",
    "batch_size = 8\n",
    "question1_embeddings = []\n",
    "question2_embeddings = []\n",
    "\n",
    "with torch.no_grad():  # Disable gradient tracking for efficiency\n",
    "    for i in range(0, len(sampled_df), batch_size):\n",
    "        batch_question1_tokens = {k: v[i:i+batch_size] for k, v in question1_tokens.items()}\n",
    "        batch_question2_tokens = {k: v[i:i+batch_size] for k, v in question2_tokens.items()}\n",
    "\n",
    "        # Encode questions using RoBERTa model\n",
    "        batch_question1_outputs = roberta_model(**batch_question1_tokens)\n",
    "        batch_question2_outputs = roberta_model(**batch_question2_tokens)\n",
    "\n",
    "        # Extract pooled output (CLS token)\n",
    "        batch_question1_embeddings = batch_question1_outputs.pooler_output\n",
    "        batch_question2_embeddings = batch_question2_outputs.pooler_output\n",
    "\n",
    "        question1_embeddings.append(batch_question1_embeddings)\n",
    "        question2_embeddings.append(batch_question2_embeddings)\n",
    "\n",
    "# Concatenate question embeddings\n",
    "question1_embeddings = torch.cat(question1_embeddings, dim=0)\n",
    "question2_embeddings = torch.cat(question2_embeddings, dim=0)\n",
    "X_test_combined = torch.cat([question1_embeddings, question2_embeddings], dim=1).numpy()\n",
    "\n",
    "# Generate labels for the sampled data\n",
    "labels = sampled_df['is_duplicate'].values\n",
    "\n",
    "# Train Gradient Boosting Classifier\n",
    "#model_xgb = xgb.XGBClassifier()\n",
    "#model_xgb.fit(X_test_combined, labels)\n",
    "\n",
    "# Predictions and evaluation\n",
    "predictions_train = model_xgb.predict(X_test_combined)\n",
    "print('Train Accuracy score:', accuracy_score(labels, predictions_train))\n",
    "print(\"Classification Report:\\n\", classification_report(labels, predictions_train))"
   ]
  },
  {
   "cell_type": "code",
   "execution_count": null,
   "metadata": {
    "colab": {
     "base_uri": "https://localhost:8080/"
    },
    "id": "XtX7LoYYLN_U",
    "outputId": "cba2f62a-0f22-4e87-b64f-cbd581bf7bac"
   },
   "outputs": [],
   "source": [
    "# Train LightGBM Classifier\n",
    "# model_lgb = lgb.LGBMClassifier()\n",
    "# model_lgb.fit(X_test_combined, labels)\n",
    "\n",
    "# Predictions and evaluation\n",
    "predictions_test = model_lgb.predict(X_test_combined)\n",
    "print('Test Accuracy score:', accuracy_score(labels, predictions_test))\n",
    "print(\"Classification Report:\\n\", classification_report(labels, predictions_test))"
   ]
  },
  {
   "cell_type": "markdown",
   "metadata": {},
   "source": [
    "# **BERT (Quantization)**"
   ]
  },
  {
   "cell_type": "code",
   "execution_count": null,
   "metadata": {},
   "outputs": [],
   "source": [
    "# Load the pre-trained RoBERTa tokenizer and model\n",
    "tokenizer = RobertaTokenizer.from_pretrained(\"roberta-base\")\n",
    "roberta_model = RobertaModel.from_pretrained(\"roberta-base\")\n",
    "\n",
    "# Configure the model for quantization\n",
    "roberta_model = roberta_model.eval()  # Put the model in evaluation mode\n",
    "roberta_model = torch.quantization.quantize_dynamic(roberta_model, {torch.nn.Linear}, dtype=torch.qint8)"
   ]
  },
  {
   "cell_type": "markdown",
   "metadata": {},
   "source": [
    "## **Implement BERT (Quantization) on train dataset**"
   ]
  },
  {
   "cell_type": "code",
   "execution_count": null,
   "metadata": {},
   "outputs": [],
   "source": [
    "# Sample size and load data\n",
    "#sample_size = 3000  # Adjust as needed\n",
    "#sampled_df = new_df_train.sample(n=sample_size, random_state=52)\n",
    "sampled_df = train_data\n",
    "\n",
    "# Tokenize questions using RoBERTa tokenizer\n",
    "question1_tokens = tokenizer(sampled_df['text_question1'].tolist(), padding=True, truncation=True, return_tensors='pt', max_length=128)\n",
    "question2_tokens = tokenizer(sampled_df['text_question2'].tolist(), padding=True, truncation=True, return_tensors='pt', max_length=128)\n",
    "\n",
    "# Encode questions using RoBERTa model with reduced batch size\n",
    "batch_size = 8\n",
    "question1_embeddings = []\n",
    "question2_embeddings = []\n",
    "\n",
    "with torch.no_grad():  # Disable gradient tracking for efficiency\n",
    "    for i in range(0, len(sampled_df), batch_size):\n",
    "        batch_question1_tokens = {k: v[i:i+batch_size] for k, v in question1_tokens.items()}\n",
    "        batch_question2_tokens = {k: v[i:i+batch_size] for k, v in question2_tokens.items()}\n",
    "\n",
    "        # Encode questions using RoBERTa model\n",
    "        batch_question1_outputs = roberta_model(**batch_question1_tokens)\n",
    "        batch_question2_outputs = roberta_model(**batch_question2_tokens)\n",
    "\n",
    "        # Extract pooled output (CLS token)\n",
    "        batch_question1_embeddings = batch_question1_outputs.pooler_output\n",
    "        batch_question2_embeddings = batch_question2_outputs.pooler_output\n",
    "\n",
    "        question1_embeddings.append(batch_question1_embeddings)\n",
    "        question2_embeddings.append(batch_question2_embeddings)\n",
    "\n",
    "# Concatenate question embeddings\n",
    "question1_embeddings = torch.cat(question1_embeddings, dim=0)\n",
    "question2_embeddings = torch.cat(question2_embeddings, dim=0)\n",
    "X_train_combined = torch.cat([question1_embeddings, question2_embeddings], dim=1).numpy()\n",
    "\n",
    "# Generate labels for the sampled data\n",
    "labels = sampled_df['is_duplicate'].values\n",
    "\n",
    "# Train Gradient Boosting Classifier\n",
    "model_xgb = xgb.XGBClassifier()\n",
    "model_xgb.fit(X_train_combined, labels)\n",
    "\n",
    "# Predictions and evaluation\n",
    "predictions_train = model_xgb.predict(X_train_combined)\n",
    "print('Train Accuracy score:', accuracy_score(labels, predictions_train))\n",
    "print(\"Classification Report:\\n\", classification_report(labels, predictions_train))"
   ]
  },
  {
   "cell_type": "code",
   "execution_count": null,
   "metadata": {},
   "outputs": [],
   "source": [
    "# Train LightGBM Classifier\n",
    "model_lgb = lgb.LGBMClassifier()\n",
    "model_lgb.fit(X_train_combined, labels)\n",
    "\n",
    "# Predictions and evaluation\n",
    "predictions_train = model_lgb.predict(X_train_combined)\n",
    "print('Train Accuracy score:', accuracy_score(labels, predictions_train))\n",
    "print(\"Classification Report:\\n\", classification_report(labels, predictions_train))"
   ]
  },
  {
   "cell_type": "markdown",
   "metadata": {},
   "source": [
    "## **Implement BERT (Quantization) Model on test dataset**"
   ]
  },
  {
   "cell_type": "code",
   "execution_count": null,
   "metadata": {},
   "outputs": [],
   "source": [
    "# Sample size and load data\n",
    "#sample_size = 3000  # Adjust as needed\n",
    "#sampled_df = new_df_test.sample(n=sample_size, random_state=52)\n",
    "sampled_df = test_data\n",
    "\n",
    "# Tokenize questions using RoBERTa tokenizer\n",
    "question1_tokens = tokenizer(sampled_df['text_question1'].tolist(), padding=True, truncation=True, return_tensors='pt', max_length=128)\n",
    "question2_tokens = tokenizer(sampled_df['text_question2'].tolist(), padding=True, truncation=True, return_tensors='pt', max_length=128)\n",
    "\n",
    "# Encode questions using RoBERTa model with reduced batch size\n",
    "batch_size = 8\n",
    "question1_embeddings = []\n",
    "question2_embeddings = []\n",
    "\n",
    "with torch.no_grad():  # Disable gradient tracking for efficiency\n",
    "    for i in range(0, len(sampled_df), batch_size):\n",
    "        batch_question1_tokens = {k: v[i:i+batch_size] for k, v in question1_tokens.items()}\n",
    "        batch_question2_tokens = {k: v[i:i+batch_size] for k, v in question2_tokens.items()}\n",
    "\n",
    "        # Encode questions using RoBERTa model\n",
    "        batch_question1_outputs = roberta_model(**batch_question1_tokens)\n",
    "        batch_question2_outputs = roberta_model(**batch_question2_tokens)\n",
    "\n",
    "        # Extract pooled output (CLS token)\n",
    "        batch_question1_embeddings = batch_question1_outputs.pooler_output\n",
    "        batch_question2_embeddings = batch_question2_outputs.pooler_output\n",
    "\n",
    "        question1_embeddings.append(batch_question1_embeddings)\n",
    "        question2_embeddings.append(batch_question2_embeddings)\n",
    "\n",
    "# Concatenate question embeddings\n",
    "question1_embeddings = torch.cat(question1_embeddings, dim=0)\n",
    "question2_embeddings = torch.cat(question2_embeddings, dim=0)\n",
    "X_test_combined = torch.cat([question1_embeddings, question2_embeddings], dim=1).numpy()\n",
    "\n",
    "# Generate labels for the sampled data\n",
    "labels = sampled_df['is_duplicate'].values\n",
    "\n",
    "# Train Gradient Boosting Classifier\n",
    "#model_xgb = xgb.XGBClassifier()\n",
    "#model_xgb.fit(X_test_combined, labels)\n",
    "\n",
    "# Predictions and evaluation\n",
    "predictions_train = model_xgb.predict(X_test_combined)\n",
    "print('Train Accuracy score:', accuracy_score(labels, predictions_train))\n",
    "print(\"Classification Report:\\n\", classification_report(labels, predictions_train))"
   ]
  },
  {
   "cell_type": "code",
   "execution_count": null,
   "metadata": {},
   "outputs": [],
   "source": [
    "# Train LightGBM Classifier\n",
    "# model_lgb = lgb.LGBMClassifier()\n",
    "# model_lgb.fit(X_test_combined, labels)\n",
    "\n",
    "# Predictions and evaluation\n",
    "predictions_test = model_lgb.predict(X_test_combined)\n",
    "print('Test Accuracy score:', accuracy_score(labels, predictions_test))\n",
    "print(\"Classification Report:\\n\", classification_report(labels, predictions_test))"
   ]
  },
  {
   "cell_type": "code",
   "execution_count": null,
   "metadata": {},
   "outputs": [],
   "source": []
  },
  {
   "cell_type": "code",
   "execution_count": null,
   "metadata": {},
   "outputs": [],
   "source": []
  },
  {
   "cell_type": "code",
   "execution_count": null,
   "metadata": {},
   "outputs": [],
   "source": []
  },
  {
   "cell_type": "code",
   "execution_count": null,
   "metadata": {},
   "outputs": [],
   "source": []
  },
  {
   "cell_type": "code",
   "execution_count": null,
   "metadata": {},
   "outputs": [],
   "source": []
  }
 ],
 "metadata": {
  "accelerator": "GPU",
  "colab": {
   "gpuType": "T4",
   "provenance": []
  },
  "kernelspec": {
   "display_name": "Python 3 (ipykernel)",
   "language": "python",
   "name": "python3"
  },
  "language_info": {
   "codemirror_mode": {
    "name": "ipython",
    "version": 3
   },
   "file_extension": ".py",
   "mimetype": "text/x-python",
   "name": "python",
   "nbconvert_exporter": "python",
   "pygments_lexer": "ipython3",
   "version": "3.10.13"
  },
  "widgets": {
   "application/vnd.jupyter.widget-state+json": {
    "023e2d5adc28402bb00c45e180efb8d1": {
     "model_module": "@jupyter-widgets/controls",
     "model_module_version": "1.5.0",
     "model_name": "HTMLModel",
     "state": {
      "_dom_classes": [],
      "_model_module": "@jupyter-widgets/controls",
      "_model_module_version": "1.5.0",
      "_model_name": "HTMLModel",
      "_view_count": null,
      "_view_module": "@jupyter-widgets/controls",
      "_view_module_version": "1.5.0",
      "_view_name": "HTMLView",
      "description": "",
      "description_tooltip": null,
      "layout": "IPY_MODEL_d64efcdc1e2742dfa766bdd180af5074",
      "placeholder": "​",
      "style": "IPY_MODEL_b83deea9fe984f39b33a975a24c05db0",
      "value": "modules.json: 100%"
     }
    },
    "02cada02e2134f73a83566da8a8a3dbb": {
     "model_module": "@jupyter-widgets/controls",
     "model_module_version": "1.5.0",
     "model_name": "DescriptionStyleModel",
     "state": {
      "_model_module": "@jupyter-widgets/controls",
      "_model_module_version": "1.5.0",
      "_model_name": "DescriptionStyleModel",
      "_view_count": null,
      "_view_module": "@jupyter-widgets/base",
      "_view_module_version": "1.2.0",
      "_view_name": "StyleView",
      "description_width": ""
     }
    },
    "048374e1bc3247479fdc0fcbfda50913": {
     "model_module": "@jupyter-widgets/base",
     "model_module_version": "1.2.0",
     "model_name": "LayoutModel",
     "state": {
      "_model_module": "@jupyter-widgets/base",
      "_model_module_version": "1.2.0",
      "_model_name": "LayoutModel",
      "_view_count": null,
      "_view_module": "@jupyter-widgets/base",
      "_view_module_version": "1.2.0",
      "_view_name": "LayoutView",
      "align_content": null,
      "align_items": null,
      "align_self": null,
      "border": null,
      "bottom": null,
      "display": null,
      "flex": null,
      "flex_flow": null,
      "grid_area": null,
      "grid_auto_columns": null,
      "grid_auto_flow": null,
      "grid_auto_rows": null,
      "grid_column": null,
      "grid_gap": null,
      "grid_row": null,
      "grid_template_areas": null,
      "grid_template_columns": null,
      "grid_template_rows": null,
      "height": null,
      "justify_content": null,
      "justify_items": null,
      "left": null,
      "margin": null,
      "max_height": null,
      "max_width": null,
      "min_height": null,
      "min_width": null,
      "object_fit": null,
      "object_position": null,
      "order": null,
      "overflow": null,
      "overflow_x": null,
      "overflow_y": null,
      "padding": null,
      "right": null,
      "top": null,
      "visibility": null,
      "width": null
     }
    },
    "05b451ddb2fd47c397801e16524f722b": {
     "model_module": "@jupyter-widgets/controls",
     "model_module_version": "1.5.0",
     "model_name": "HTMLModel",
     "state": {
      "_dom_classes": [],
      "_model_module": "@jupyter-widgets/controls",
      "_model_module_version": "1.5.0",
      "_model_name": "HTMLModel",
      "_view_count": null,
      "_view_module": "@jupyter-widgets/controls",
      "_view_module_version": "1.5.0",
      "_view_name": "HTMLView",
      "description": "",
      "description_tooltip": null,
      "layout": "IPY_MODEL_60d718988a7b426daed8ab2974385655",
      "placeholder": "​",
      "style": "IPY_MODEL_aff9022adc5f4e33b1b5c12d0a9bc6f1",
      "value": " 1.36M/1.36M [00:00&lt;00:00, 17.5MB/s]"
     }
    },
    "067da494dcef4dca99543efc5fa50b14": {
     "model_module": "@jupyter-widgets/controls",
     "model_module_version": "1.5.0",
     "model_name": "HBoxModel",
     "state": {
      "_dom_classes": [],
      "_model_module": "@jupyter-widgets/controls",
      "_model_module_version": "1.5.0",
      "_model_name": "HBoxModel",
      "_view_count": null,
      "_view_module": "@jupyter-widgets/controls",
      "_view_module_version": "1.5.0",
      "_view_name": "HBoxView",
      "box_style": "",
      "children": [
       "IPY_MODEL_27a9513cd5cf47448c49fb9f14a23d90",
       "IPY_MODEL_d8f796015e804447a814178814db4a7e",
       "IPY_MODEL_e9a602b6c96747889cfc7139c6c49a38"
      ],
      "layout": "IPY_MODEL_302dce6e7f68472c91516505c70144d6"
     }
    },
    "0b080ef86d5549f09f8a45ed51483f9f": {
     "model_module": "@jupyter-widgets/controls",
     "model_module_version": "1.5.0",
     "model_name": "DescriptionStyleModel",
     "state": {
      "_model_module": "@jupyter-widgets/controls",
      "_model_module_version": "1.5.0",
      "_model_name": "DescriptionStyleModel",
      "_view_count": null,
      "_view_module": "@jupyter-widgets/base",
      "_view_module_version": "1.2.0",
      "_view_name": "StyleView",
      "description_width": ""
     }
    },
    "0d1e9272b1504358a0d355e4134ec262": {
     "model_module": "@jupyter-widgets/controls",
     "model_module_version": "1.5.0",
     "model_name": "DescriptionStyleModel",
     "state": {
      "_model_module": "@jupyter-widgets/controls",
      "_model_module_version": "1.5.0",
      "_model_name": "DescriptionStyleModel",
      "_view_count": null,
      "_view_module": "@jupyter-widgets/base",
      "_view_module_version": "1.2.0",
      "_view_name": "StyleView",
      "description_width": ""
     }
    },
    "0e96f74e0fbe41ed8238f2f7c3ea20a0": {
     "model_module": "@jupyter-widgets/base",
     "model_module_version": "1.2.0",
     "model_name": "LayoutModel",
     "state": {
      "_model_module": "@jupyter-widgets/base",
      "_model_module_version": "1.2.0",
      "_model_name": "LayoutModel",
      "_view_count": null,
      "_view_module": "@jupyter-widgets/base",
      "_view_module_version": "1.2.0",
      "_view_name": "LayoutView",
      "align_content": null,
      "align_items": null,
      "align_self": null,
      "border": null,
      "bottom": null,
      "display": null,
      "flex": null,
      "flex_flow": null,
      "grid_area": null,
      "grid_auto_columns": null,
      "grid_auto_flow": null,
      "grid_auto_rows": null,
      "grid_column": null,
      "grid_gap": null,
      "grid_row": null,
      "grid_template_areas": null,
      "grid_template_columns": null,
      "grid_template_rows": null,
      "height": null,
      "justify_content": null,
      "justify_items": null,
      "left": null,
      "margin": null,
      "max_height": null,
      "max_width": null,
      "min_height": null,
      "min_width": null,
      "object_fit": null,
      "object_position": null,
      "order": null,
      "overflow": null,
      "overflow_x": null,
      "overflow_y": null,
      "padding": null,
      "right": null,
      "top": null,
      "visibility": null,
      "width": null
     }
    },
    "0ed1ddd843bc48f5949fbb34abbc2ff1": {
     "model_module": "@jupyter-widgets/controls",
     "model_module_version": "1.5.0",
     "model_name": "ProgressStyleModel",
     "state": {
      "_model_module": "@jupyter-widgets/controls",
      "_model_module_version": "1.5.0",
      "_model_name": "ProgressStyleModel",
      "_view_count": null,
      "_view_module": "@jupyter-widgets/base",
      "_view_module_version": "1.2.0",
      "_view_name": "StyleView",
      "bar_color": null,
      "description_width": ""
     }
    },
    "0fa039eaadb64d8eb9d57f3813bebdc9": {
     "model_module": "@jupyter-widgets/base",
     "model_module_version": "1.2.0",
     "model_name": "LayoutModel",
     "state": {
      "_model_module": "@jupyter-widgets/base",
      "_model_module_version": "1.2.0",
      "_model_name": "LayoutModel",
      "_view_count": null,
      "_view_module": "@jupyter-widgets/base",
      "_view_module_version": "1.2.0",
      "_view_name": "LayoutView",
      "align_content": null,
      "align_items": null,
      "align_self": null,
      "border": null,
      "bottom": null,
      "display": null,
      "flex": null,
      "flex_flow": null,
      "grid_area": null,
      "grid_auto_columns": null,
      "grid_auto_flow": null,
      "grid_auto_rows": null,
      "grid_column": null,
      "grid_gap": null,
      "grid_row": null,
      "grid_template_areas": null,
      "grid_template_columns": null,
      "grid_template_rows": null,
      "height": null,
      "justify_content": null,
      "justify_items": null,
      "left": null,
      "margin": null,
      "max_height": null,
      "max_width": null,
      "min_height": null,
      "min_width": null,
      "object_fit": null,
      "object_position": null,
      "order": null,
      "overflow": null,
      "overflow_x": null,
      "overflow_y": null,
      "padding": null,
      "right": null,
      "top": null,
      "visibility": null,
      "width": null
     }
    },
    "10e7dfd5b3ed4fd79b83c64129c422fd": {
     "model_module": "@jupyter-widgets/controls",
     "model_module_version": "1.5.0",
     "model_name": "HTMLModel",
     "state": {
      "_dom_classes": [],
      "_model_module": "@jupyter-widgets/controls",
      "_model_module_version": "1.5.0",
      "_model_name": "HTMLModel",
      "_view_count": null,
      "_view_module": "@jupyter-widgets/controls",
      "_view_module_version": "1.5.0",
      "_view_name": "HTMLView",
      "description": "",
      "description_tooltip": null,
      "layout": "IPY_MODEL_cce709a1a3fb4e11bcc508e80b66f2f9",
      "placeholder": "​",
      "style": "IPY_MODEL_af43da4e122f4b1a8ca27872b7d91d73",
      "value": " 328M/328M [00:02&lt;00:00, 145MB/s]"
     }
    },
    "18afbb7cfcde4ef6ac74b1219eb27f4a": {
     "model_module": "@jupyter-widgets/base",
     "model_module_version": "1.2.0",
     "model_name": "LayoutModel",
     "state": {
      "_model_module": "@jupyter-widgets/base",
      "_model_module_version": "1.2.0",
      "_model_name": "LayoutModel",
      "_view_count": null,
      "_view_module": "@jupyter-widgets/base",
      "_view_module_version": "1.2.0",
      "_view_name": "LayoutView",
      "align_content": null,
      "align_items": null,
      "align_self": null,
      "border": null,
      "bottom": null,
      "display": null,
      "flex": null,
      "flex_flow": null,
      "grid_area": null,
      "grid_auto_columns": null,
      "grid_auto_flow": null,
      "grid_auto_rows": null,
      "grid_column": null,
      "grid_gap": null,
      "grid_row": null,
      "grid_template_areas": null,
      "grid_template_columns": null,
      "grid_template_rows": null,
      "height": null,
      "justify_content": null,
      "justify_items": null,
      "left": null,
      "margin": null,
      "max_height": null,
      "max_width": null,
      "min_height": null,
      "min_width": null,
      "object_fit": null,
      "object_position": null,
      "order": null,
      "overflow": null,
      "overflow_x": null,
      "overflow_y": null,
      "padding": null,
      "right": null,
      "top": null,
      "visibility": null,
      "width": null
     }
    },
    "19c344f73ceb4844abdb210bb8cf3f42": {
     "model_module": "@jupyter-widgets/controls",
     "model_module_version": "1.5.0",
     "model_name": "HBoxModel",
     "state": {
      "_dom_classes": [],
      "_model_module": "@jupyter-widgets/controls",
      "_model_module_version": "1.5.0",
      "_model_name": "HBoxModel",
      "_view_count": null,
      "_view_module": "@jupyter-widgets/controls",
      "_view_module_version": "1.5.0",
      "_view_name": "HBoxView",
      "box_style": "",
      "children": [
       "IPY_MODEL_ad47c71ed9d54ed2befc0e99c31f8fce",
       "IPY_MODEL_f7ec285cd50646eda1a684227b81cee2",
       "IPY_MODEL_6cd42aa577b64c38baf770dc6b3c53fa"
      ],
      "layout": "IPY_MODEL_414c03d2e1d84923b28aadc99cb3e522"
     }
    },
    "1b0ecfb6cdc547649a66a04f1fa0314e": {
     "model_module": "@jupyter-widgets/controls",
     "model_module_version": "1.5.0",
     "model_name": "DescriptionStyleModel",
     "state": {
      "_model_module": "@jupyter-widgets/controls",
      "_model_module_version": "1.5.0",
      "_model_name": "DescriptionStyleModel",
      "_view_count": null,
      "_view_module": "@jupyter-widgets/base",
      "_view_module_version": "1.2.0",
      "_view_name": "StyleView",
      "description_width": ""
     }
    },
    "1b528d89acd340dc8ceff98bda7feaac": {
     "model_module": "@jupyter-widgets/base",
     "model_module_version": "1.2.0",
     "model_name": "LayoutModel",
     "state": {
      "_model_module": "@jupyter-widgets/base",
      "_model_module_version": "1.2.0",
      "_model_name": "LayoutModel",
      "_view_count": null,
      "_view_module": "@jupyter-widgets/base",
      "_view_module_version": "1.2.0",
      "_view_name": "LayoutView",
      "align_content": null,
      "align_items": null,
      "align_self": null,
      "border": null,
      "bottom": null,
      "display": null,
      "flex": null,
      "flex_flow": null,
      "grid_area": null,
      "grid_auto_columns": null,
      "grid_auto_flow": null,
      "grid_auto_rows": null,
      "grid_column": null,
      "grid_gap": null,
      "grid_row": null,
      "grid_template_areas": null,
      "grid_template_columns": null,
      "grid_template_rows": null,
      "height": null,
      "justify_content": null,
      "justify_items": null,
      "left": null,
      "margin": null,
      "max_height": null,
      "max_width": null,
      "min_height": null,
      "min_width": null,
      "object_fit": null,
      "object_position": null,
      "order": null,
      "overflow": null,
      "overflow_x": null,
      "overflow_y": null,
      "padding": null,
      "right": null,
      "top": null,
      "visibility": null,
      "width": null
     }
    },
    "1bd222ee5ce74533be98dfd169aa6f87": {
     "model_module": "@jupyter-widgets/controls",
     "model_module_version": "1.5.0",
     "model_name": "ProgressStyleModel",
     "state": {
      "_model_module": "@jupyter-widgets/controls",
      "_model_module_version": "1.5.0",
      "_model_name": "ProgressStyleModel",
      "_view_count": null,
      "_view_module": "@jupyter-widgets/base",
      "_view_module_version": "1.2.0",
      "_view_name": "StyleView",
      "bar_color": null,
      "description_width": ""
     }
    },
    "1fb2889ffdf24330b7b7451b0f9bcb15": {
     "model_module": "@jupyter-widgets/controls",
     "model_module_version": "1.5.0",
     "model_name": "ProgressStyleModel",
     "state": {
      "_model_module": "@jupyter-widgets/controls",
      "_model_module_version": "1.5.0",
      "_model_name": "ProgressStyleModel",
      "_view_count": null,
      "_view_module": "@jupyter-widgets/base",
      "_view_module_version": "1.2.0",
      "_view_name": "StyleView",
      "bar_color": null,
      "description_width": ""
     }
    },
    "2086ad923e074309ba78091506d710d4": {
     "model_module": "@jupyter-widgets/controls",
     "model_module_version": "1.5.0",
     "model_name": "ProgressStyleModel",
     "state": {
      "_model_module": "@jupyter-widgets/controls",
      "_model_module_version": "1.5.0",
      "_model_name": "ProgressStyleModel",
      "_view_count": null,
      "_view_module": "@jupyter-widgets/base",
      "_view_module_version": "1.2.0",
      "_view_name": "StyleView",
      "bar_color": null,
      "description_width": ""
     }
    },
    "209a202df14e45dba032c0cbc1d0d81c": {
     "model_module": "@jupyter-widgets/controls",
     "model_module_version": "1.5.0",
     "model_name": "HTMLModel",
     "state": {
      "_dom_classes": [],
      "_model_module": "@jupyter-widgets/controls",
      "_model_module_version": "1.5.0",
      "_model_name": "HTMLModel",
      "_view_count": null,
      "_view_module": "@jupyter-widgets/controls",
      "_view_module_version": "1.5.0",
      "_view_name": "HTMLView",
      "description": "",
      "description_tooltip": null,
      "layout": "IPY_MODEL_18afbb7cfcde4ef6ac74b1219eb27f4a",
      "placeholder": "​",
      "style": "IPY_MODEL_8fd5c6ba9fa044b6ae952dd573abcaf4",
      "value": "config.json: 100%"
     }
    },
    "2117cc13dc8d4d4b986f53dc5011d6c4": {
     "model_module": "@jupyter-widgets/controls",
     "model_module_version": "1.5.0",
     "model_name": "FloatProgressModel",
     "state": {
      "_dom_classes": [],
      "_model_module": "@jupyter-widgets/controls",
      "_model_module_version": "1.5.0",
      "_model_name": "FloatProgressModel",
      "_view_count": null,
      "_view_module": "@jupyter-widgets/controls",
      "_view_module_version": "1.5.0",
      "_view_name": "ProgressView",
      "bar_style": "success",
      "description": "",
      "description_tooltip": null,
      "layout": "IPY_MODEL_418cc0061da64d15b28658d19d91772f",
      "max": 190,
      "min": 0,
      "orientation": "horizontal",
      "style": "IPY_MODEL_1fb2889ffdf24330b7b7451b0f9bcb15",
      "value": 190
     }
    },
    "2356e344f6314995b69c351408fa43e3": {
     "model_module": "@jupyter-widgets/controls",
     "model_module_version": "1.5.0",
     "model_name": "DescriptionStyleModel",
     "state": {
      "_model_module": "@jupyter-widgets/controls",
      "_model_module_version": "1.5.0",
      "_model_name": "DescriptionStyleModel",
      "_view_count": null,
      "_view_module": "@jupyter-widgets/base",
      "_view_module_version": "1.2.0",
      "_view_name": "StyleView",
      "description_width": ""
     }
    },
    "237353af78064610bbbee93e29bbbbe9": {
     "model_module": "@jupyter-widgets/controls",
     "model_module_version": "1.5.0",
     "model_name": "HTMLModel",
     "state": {
      "_dom_classes": [],
      "_model_module": "@jupyter-widgets/controls",
      "_model_module_version": "1.5.0",
      "_model_name": "HTMLModel",
      "_view_count": null,
      "_view_module": "@jupyter-widgets/controls",
      "_view_module_version": "1.5.0",
      "_view_name": "HTMLView",
      "description": "",
      "description_tooltip": null,
      "layout": "IPY_MODEL_27c5ee2e628646a881527676529b783c",
      "placeholder": "​",
      "style": "IPY_MODEL_9a4aab686382487f815d1ca3433d5194",
      "value": " 499M/499M [00:07&lt;00:00, 105MB/s]"
     }
    },
    "24607fd5a60c4d269a05efd613896054": {
     "model_module": "@jupyter-widgets/base",
     "model_module_version": "1.2.0",
     "model_name": "LayoutModel",
     "state": {
      "_model_module": "@jupyter-widgets/base",
      "_model_module_version": "1.2.0",
      "_model_name": "LayoutModel",
      "_view_count": null,
      "_view_module": "@jupyter-widgets/base",
      "_view_module_version": "1.2.0",
      "_view_name": "LayoutView",
      "align_content": null,
      "align_items": null,
      "align_self": null,
      "border": null,
      "bottom": null,
      "display": null,
      "flex": null,
      "flex_flow": null,
      "grid_area": null,
      "grid_auto_columns": null,
      "grid_auto_flow": null,
      "grid_auto_rows": null,
      "grid_column": null,
      "grid_gap": null,
      "grid_row": null,
      "grid_template_areas": null,
      "grid_template_columns": null,
      "grid_template_rows": null,
      "height": null,
      "justify_content": null,
      "justify_items": null,
      "left": null,
      "margin": null,
      "max_height": null,
      "max_width": null,
      "min_height": null,
      "min_width": null,
      "object_fit": null,
      "object_position": null,
      "order": null,
      "overflow": null,
      "overflow_x": null,
      "overflow_y": null,
      "padding": null,
      "right": null,
      "top": null,
      "visibility": null,
      "width": null
     }
    },
    "27a9513cd5cf47448c49fb9f14a23d90": {
     "model_module": "@jupyter-widgets/controls",
     "model_module_version": "1.5.0",
     "model_name": "HTMLModel",
     "state": {
      "_dom_classes": [],
      "_model_module": "@jupyter-widgets/controls",
      "_model_module_version": "1.5.0",
      "_model_name": "HTMLModel",
      "_view_count": null,
      "_view_module": "@jupyter-widgets/controls",
      "_view_module_version": "1.5.0",
      "_view_name": "HTMLView",
      "description": "",
      "description_tooltip": null,
      "layout": "IPY_MODEL_fcf866183d8646899383d87936379962",
      "placeholder": "​",
      "style": "IPY_MODEL_a34260c91c2543c183211d624b18fd39",
      "value": "vocab.json: 100%"
     }
    },
    "27c5ee2e628646a881527676529b783c": {
     "model_module": "@jupyter-widgets/base",
     "model_module_version": "1.2.0",
     "model_name": "LayoutModel",
     "state": {
      "_model_module": "@jupyter-widgets/base",
      "_model_module_version": "1.2.0",
      "_model_name": "LayoutModel",
      "_view_count": null,
      "_view_module": "@jupyter-widgets/base",
      "_view_module_version": "1.2.0",
      "_view_name": "LayoutView",
      "align_content": null,
      "align_items": null,
      "align_self": null,
      "border": null,
      "bottom": null,
      "display": null,
      "flex": null,
      "flex_flow": null,
      "grid_area": null,
      "grid_auto_columns": null,
      "grid_auto_flow": null,
      "grid_auto_rows": null,
      "grid_column": null,
      "grid_gap": null,
      "grid_row": null,
      "grid_template_areas": null,
      "grid_template_columns": null,
      "grid_template_rows": null,
      "height": null,
      "justify_content": null,
      "justify_items": null,
      "left": null,
      "margin": null,
      "max_height": null,
      "max_width": null,
      "min_height": null,
      "min_width": null,
      "object_fit": null,
      "object_position": null,
      "order": null,
      "overflow": null,
      "overflow_x": null,
      "overflow_y": null,
      "padding": null,
      "right": null,
      "top": null,
      "visibility": null,
      "width": null
     }
    },
    "29f542f6be504cb9880b68b86b0b239d": {
     "model_module": "@jupyter-widgets/base",
     "model_module_version": "1.2.0",
     "model_name": "LayoutModel",
     "state": {
      "_model_module": "@jupyter-widgets/base",
      "_model_module_version": "1.2.0",
      "_model_name": "LayoutModel",
      "_view_count": null,
      "_view_module": "@jupyter-widgets/base",
      "_view_module_version": "1.2.0",
      "_view_name": "LayoutView",
      "align_content": null,
      "align_items": null,
      "align_self": null,
      "border": null,
      "bottom": null,
      "display": null,
      "flex": null,
      "flex_flow": null,
      "grid_area": null,
      "grid_auto_columns": null,
      "grid_auto_flow": null,
      "grid_auto_rows": null,
      "grid_column": null,
      "grid_gap": null,
      "grid_row": null,
      "grid_template_areas": null,
      "grid_template_columns": null,
      "grid_template_rows": null,
      "height": null,
      "justify_content": null,
      "justify_items": null,
      "left": null,
      "margin": null,
      "max_height": null,
      "max_width": null,
      "min_height": null,
      "min_width": null,
      "object_fit": null,
      "object_position": null,
      "order": null,
      "overflow": null,
      "overflow_x": null,
      "overflow_y": null,
      "padding": null,
      "right": null,
      "top": null,
      "visibility": null,
      "width": null
     }
    },
    "302dce6e7f68472c91516505c70144d6": {
     "model_module": "@jupyter-widgets/base",
     "model_module_version": "1.2.0",
     "model_name": "LayoutModel",
     "state": {
      "_model_module": "@jupyter-widgets/base",
      "_model_module_version": "1.2.0",
      "_model_name": "LayoutModel",
      "_view_count": null,
      "_view_module": "@jupyter-widgets/base",
      "_view_module_version": "1.2.0",
      "_view_name": "LayoutView",
      "align_content": null,
      "align_items": null,
      "align_self": null,
      "border": null,
      "bottom": null,
      "display": null,
      "flex": null,
      "flex_flow": null,
      "grid_area": null,
      "grid_auto_columns": null,
      "grid_auto_flow": null,
      "grid_auto_rows": null,
      "grid_column": null,
      "grid_gap": null,
      "grid_row": null,
      "grid_template_areas": null,
      "grid_template_columns": null,
      "grid_template_rows": null,
      "height": null,
      "justify_content": null,
      "justify_items": null,
      "left": null,
      "margin": null,
      "max_height": null,
      "max_width": null,
      "min_height": null,
      "min_width": null,
      "object_fit": null,
      "object_position": null,
      "order": null,
      "overflow": null,
      "overflow_x": null,
      "overflow_y": null,
      "padding": null,
      "right": null,
      "top": null,
      "visibility": null,
      "width": null
     }
    },
    "30cab9acb99d41d38df1ffe91bd1bfc6": {
     "model_module": "@jupyter-widgets/controls",
     "model_module_version": "1.5.0",
     "model_name": "FloatProgressModel",
     "state": {
      "_dom_classes": [],
      "_model_module": "@jupyter-widgets/controls",
      "_model_module_version": "1.5.0",
      "_model_name": "FloatProgressModel",
      "_view_count": null,
      "_view_module": "@jupyter-widgets/controls",
      "_view_module_version": "1.5.0",
      "_view_name": "ProgressView",
      "bar_style": "success",
      "description": "",
      "description_tooltip": null,
      "layout": "IPY_MODEL_7322ea91d2104ed7ad339ad6eb4d2738",
      "max": 239,
      "min": 0,
      "orientation": "horizontal",
      "style": "IPY_MODEL_0ed1ddd843bc48f5949fbb34abbc2ff1",
      "value": 239
     }
    },
    "349ea8d89403469087de9609f744c4a9": {
     "model_module": "@jupyter-widgets/controls",
     "model_module_version": "1.5.0",
     "model_name": "HBoxModel",
     "state": {
      "_dom_classes": [],
      "_model_module": "@jupyter-widgets/controls",
      "_model_module_version": "1.5.0",
      "_model_name": "HBoxModel",
      "_view_count": null,
      "_view_module": "@jupyter-widgets/controls",
      "_view_module_version": "1.5.0",
      "_view_name": "HBoxView",
      "box_style": "",
      "children": [
       "IPY_MODEL_5fbbb17503734b809a1ed27d4d592d87",
       "IPY_MODEL_3baf75978bc447e9b4d421f9d9193ff5",
       "IPY_MODEL_cc2cbfa982e7465eb0c657eb38bcd13d"
      ],
      "layout": "IPY_MODEL_bdb21a85e7dd4a2290ee12d84fb262bb"
     }
    },
    "3616609dea1949c7a9eb4cc54d467e06": {
     "model_module": "@jupyter-widgets/controls",
     "model_module_version": "1.5.0",
     "model_name": "DescriptionStyleModel",
     "state": {
      "_model_module": "@jupyter-widgets/controls",
      "_model_module_version": "1.5.0",
      "_model_name": "DescriptionStyleModel",
      "_view_count": null,
      "_view_module": "@jupyter-widgets/base",
      "_view_module_version": "1.2.0",
      "_view_name": "StyleView",
      "description_width": ""
     }
    },
    "36830944ef7c44e2990b09443c675ba7": {
     "model_module": "@jupyter-widgets/base",
     "model_module_version": "1.2.0",
     "model_name": "LayoutModel",
     "state": {
      "_model_module": "@jupyter-widgets/base",
      "_model_module_version": "1.2.0",
      "_model_name": "LayoutModel",
      "_view_count": null,
      "_view_module": "@jupyter-widgets/base",
      "_view_module_version": "1.2.0",
      "_view_name": "LayoutView",
      "align_content": null,
      "align_items": null,
      "align_self": null,
      "border": null,
      "bottom": null,
      "display": null,
      "flex": null,
      "flex_flow": null,
      "grid_area": null,
      "grid_auto_columns": null,
      "grid_auto_flow": null,
      "grid_auto_rows": null,
      "grid_column": null,
      "grid_gap": null,
      "grid_row": null,
      "grid_template_areas": null,
      "grid_template_columns": null,
      "grid_template_rows": null,
      "height": null,
      "justify_content": null,
      "justify_items": null,
      "left": null,
      "margin": null,
      "max_height": null,
      "max_width": null,
      "min_height": null,
      "min_width": null,
      "object_fit": null,
      "object_position": null,
      "order": null,
      "overflow": null,
      "overflow_x": null,
      "overflow_y": null,
      "padding": null,
      "right": null,
      "top": null,
      "visibility": null,
      "width": null
     }
    },
    "36ccdb07f8a04617af5be0235c8a590c": {
     "model_module": "@jupyter-widgets/controls",
     "model_module_version": "1.5.0",
     "model_name": "HBoxModel",
     "state": {
      "_dom_classes": [],
      "_model_module": "@jupyter-widgets/controls",
      "_model_module_version": "1.5.0",
      "_model_name": "HBoxModel",
      "_view_count": null,
      "_view_module": "@jupyter-widgets/controls",
      "_view_module_version": "1.5.0",
      "_view_name": "HBoxView",
      "box_style": "",
      "children": [
       "IPY_MODEL_7ffe6bc69f154ceb8b73f55f5d074567",
       "IPY_MODEL_74c72d0797224a2bac5e10e5a789fc50",
       "IPY_MODEL_237353af78064610bbbee93e29bbbbe9"
      ],
      "layout": "IPY_MODEL_c0d74580dcc34cdb8c4cbec828359d2a"
     }
    },
    "395bd6d6fabc4201b994db1e0f67f825": {
     "model_module": "@jupyter-widgets/controls",
     "model_module_version": "1.5.0",
     "model_name": "DescriptionStyleModel",
     "state": {
      "_model_module": "@jupyter-widgets/controls",
      "_model_module_version": "1.5.0",
      "_model_name": "DescriptionStyleModel",
      "_view_count": null,
      "_view_module": "@jupyter-widgets/base",
      "_view_module_version": "1.2.0",
      "_view_name": "StyleView",
      "description_width": ""
     }
    },
    "3b2074c589814eeca5e94909dd162373": {
     "model_module": "@jupyter-widgets/base",
     "model_module_version": "1.2.0",
     "model_name": "LayoutModel",
     "state": {
      "_model_module": "@jupyter-widgets/base",
      "_model_module_version": "1.2.0",
      "_model_name": "LayoutModel",
      "_view_count": null,
      "_view_module": "@jupyter-widgets/base",
      "_view_module_version": "1.2.0",
      "_view_name": "LayoutView",
      "align_content": null,
      "align_items": null,
      "align_self": null,
      "border": null,
      "bottom": null,
      "display": null,
      "flex": null,
      "flex_flow": null,
      "grid_area": null,
      "grid_auto_columns": null,
      "grid_auto_flow": null,
      "grid_auto_rows": null,
      "grid_column": null,
      "grid_gap": null,
      "grid_row": null,
      "grid_template_areas": null,
      "grid_template_columns": null,
      "grid_template_rows": null,
      "height": null,
      "justify_content": null,
      "justify_items": null,
      "left": null,
      "margin": null,
      "max_height": null,
      "max_width": null,
      "min_height": null,
      "min_width": null,
      "object_fit": null,
      "object_position": null,
      "order": null,
      "overflow": null,
      "overflow_x": null,
      "overflow_y": null,
      "padding": null,
      "right": null,
      "top": null,
      "visibility": null,
      "width": null
     }
    },
    "3baf75978bc447e9b4d421f9d9193ff5": {
     "model_module": "@jupyter-widgets/controls",
     "model_module_version": "1.5.0",
     "model_name": "FloatProgressModel",
     "state": {
      "_dom_classes": [],
      "_model_module": "@jupyter-widgets/controls",
      "_model_module_version": "1.5.0",
      "_model_name": "FloatProgressModel",
      "_view_count": null,
      "_view_module": "@jupyter-widgets/controls",
      "_view_module_version": "1.5.0",
      "_view_name": "ProgressView",
      "bar_style": "success",
      "description": "",
      "description_tooltip": null,
      "layout": "IPY_MODEL_f482d1ec905441a8bcb4a97374866c0d",
      "max": 122,
      "min": 0,
      "orientation": "horizontal",
      "style": "IPY_MODEL_632b02eb1086483a8498ee946adcdae6",
      "value": 122
     }
    },
    "3c929c6a83634d1bbad0953b1437b46f": {
     "model_module": "@jupyter-widgets/controls",
     "model_module_version": "1.5.0",
     "model_name": "HTMLModel",
     "state": {
      "_dom_classes": [],
      "_model_module": "@jupyter-widgets/controls",
      "_model_module_version": "1.5.0",
      "_model_name": "HTMLModel",
      "_view_count": null,
      "_view_module": "@jupyter-widgets/controls",
      "_view_module_version": "1.5.0",
      "_view_name": "HTMLView",
      "description": "",
      "description_tooltip": null,
      "layout": "IPY_MODEL_bebbd4c527f14d099c1267ab5d17a6f4",
      "placeholder": "​",
      "style": "IPY_MODEL_67ba7cc558af45f2bee8f6e06011cbca",
      "value": "1_Pooling/config.json: 100%"
     }
    },
    "3f5dc7d1f95645a58fa611581db91a88": {
     "model_module": "@jupyter-widgets/controls",
     "model_module_version": "1.5.0",
     "model_name": "HTMLModel",
     "state": {
      "_dom_classes": [],
      "_model_module": "@jupyter-widgets/controls",
      "_model_module_version": "1.5.0",
      "_model_name": "HTMLModel",
      "_view_count": null,
      "_view_module": "@jupyter-widgets/controls",
      "_view_module_version": "1.5.0",
      "_view_name": "HTMLView",
      "description": "",
      "description_tooltip": null,
      "layout": "IPY_MODEL_cf7ed3f1fe6a45f4b1a7827f3be96c97",
      "placeholder": "​",
      "style": "IPY_MODEL_c797745533f94f049084a4d1f80069d6",
      "value": " 53.0/53.0 [00:00&lt;00:00, 3.05kB/s]"
     }
    },
    "3fc01921e0cf4d70a85bf3e1f0ee91b9": {
     "model_module": "@jupyter-widgets/base",
     "model_module_version": "1.2.0",
     "model_name": "LayoutModel",
     "state": {
      "_model_module": "@jupyter-widgets/base",
      "_model_module_version": "1.2.0",
      "_model_name": "LayoutModel",
      "_view_count": null,
      "_view_module": "@jupyter-widgets/base",
      "_view_module_version": "1.2.0",
      "_view_name": "LayoutView",
      "align_content": null,
      "align_items": null,
      "align_self": null,
      "border": null,
      "bottom": null,
      "display": null,
      "flex": null,
      "flex_flow": null,
      "grid_area": null,
      "grid_auto_columns": null,
      "grid_auto_flow": null,
      "grid_auto_rows": null,
      "grid_column": null,
      "grid_gap": null,
      "grid_row": null,
      "grid_template_areas": null,
      "grid_template_columns": null,
      "grid_template_rows": null,
      "height": null,
      "justify_content": null,
      "justify_items": null,
      "left": null,
      "margin": null,
      "max_height": null,
      "max_width": null,
      "min_height": null,
      "min_width": null,
      "object_fit": null,
      "object_position": null,
      "order": null,
      "overflow": null,
      "overflow_x": null,
      "overflow_y": null,
      "padding": null,
      "right": null,
      "top": null,
      "visibility": null,
      "width": null
     }
    },
    "414c03d2e1d84923b28aadc99cb3e522": {
     "model_module": "@jupyter-widgets/base",
     "model_module_version": "1.2.0",
     "model_name": "LayoutModel",
     "state": {
      "_model_module": "@jupyter-widgets/base",
      "_model_module_version": "1.2.0",
      "_model_name": "LayoutModel",
      "_view_count": null,
      "_view_module": "@jupyter-widgets/base",
      "_view_module_version": "1.2.0",
      "_view_name": "LayoutView",
      "align_content": null,
      "align_items": null,
      "align_self": null,
      "border": null,
      "bottom": null,
      "display": null,
      "flex": null,
      "flex_flow": null,
      "grid_area": null,
      "grid_auto_columns": null,
      "grid_auto_flow": null,
      "grid_auto_rows": null,
      "grid_column": null,
      "grid_gap": null,
      "grid_row": null,
      "grid_template_areas": null,
      "grid_template_columns": null,
      "grid_template_rows": null,
      "height": null,
      "justify_content": null,
      "justify_items": null,
      "left": null,
      "margin": null,
      "max_height": null,
      "max_width": null,
      "min_height": null,
      "min_width": null,
      "object_fit": null,
      "object_position": null,
      "order": null,
      "overflow": null,
      "overflow_x": null,
      "overflow_y": null,
      "padding": null,
      "right": null,
      "top": null,
      "visibility": null,
      "width": null
     }
    },
    "418cc0061da64d15b28658d19d91772f": {
     "model_module": "@jupyter-widgets/base",
     "model_module_version": "1.2.0",
     "model_name": "LayoutModel",
     "state": {
      "_model_module": "@jupyter-widgets/base",
      "_model_module_version": "1.2.0",
      "_model_name": "LayoutModel",
      "_view_count": null,
      "_view_module": "@jupyter-widgets/base",
      "_view_module_version": "1.2.0",
      "_view_name": "LayoutView",
      "align_content": null,
      "align_items": null,
      "align_self": null,
      "border": null,
      "bottom": null,
      "display": null,
      "flex": null,
      "flex_flow": null,
      "grid_area": null,
      "grid_auto_columns": null,
      "grid_auto_flow": null,
      "grid_auto_rows": null,
      "grid_column": null,
      "grid_gap": null,
      "grid_row": null,
      "grid_template_areas": null,
      "grid_template_columns": null,
      "grid_template_rows": null,
      "height": null,
      "justify_content": null,
      "justify_items": null,
      "left": null,
      "margin": null,
      "max_height": null,
      "max_width": null,
      "min_height": null,
      "min_width": null,
      "object_fit": null,
      "object_position": null,
      "order": null,
      "overflow": null,
      "overflow_x": null,
      "overflow_y": null,
      "padding": null,
      "right": null,
      "top": null,
      "visibility": null,
      "width": null
     }
    },
    "4193e890af0f4735bcc4408970fc228c": {
     "model_module": "@jupyter-widgets/base",
     "model_module_version": "1.2.0",
     "model_name": "LayoutModel",
     "state": {
      "_model_module": "@jupyter-widgets/base",
      "_model_module_version": "1.2.0",
      "_model_name": "LayoutModel",
      "_view_count": null,
      "_view_module": "@jupyter-widgets/base",
      "_view_module_version": "1.2.0",
      "_view_name": "LayoutView",
      "align_content": null,
      "align_items": null,
      "align_self": null,
      "border": null,
      "bottom": null,
      "display": null,
      "flex": null,
      "flex_flow": null,
      "grid_area": null,
      "grid_auto_columns": null,
      "grid_auto_flow": null,
      "grid_auto_rows": null,
      "grid_column": null,
      "grid_gap": null,
      "grid_row": null,
      "grid_template_areas": null,
      "grid_template_columns": null,
      "grid_template_rows": null,
      "height": null,
      "justify_content": null,
      "justify_items": null,
      "left": null,
      "margin": null,
      "max_height": null,
      "max_width": null,
      "min_height": null,
      "min_width": null,
      "object_fit": null,
      "object_position": null,
      "order": null,
      "overflow": null,
      "overflow_x": null,
      "overflow_y": null,
      "padding": null,
      "right": null,
      "top": null,
      "visibility": null,
      "width": null
     }
    },
    "4293f6e27f794a79a8006c4375f9761d": {
     "model_module": "@jupyter-widgets/controls",
     "model_module_version": "1.5.0",
     "model_name": "DescriptionStyleModel",
     "state": {
      "_model_module": "@jupyter-widgets/controls",
      "_model_module_version": "1.5.0",
      "_model_name": "DescriptionStyleModel",
      "_view_count": null,
      "_view_module": "@jupyter-widgets/base",
      "_view_module_version": "1.2.0",
      "_view_name": "StyleView",
      "description_width": ""
     }
    },
    "4667f2b9c01e450ca99ff5552b523703": {
     "model_module": "@jupyter-widgets/controls",
     "model_module_version": "1.5.0",
     "model_name": "DescriptionStyleModel",
     "state": {
      "_model_module": "@jupyter-widgets/controls",
      "_model_module_version": "1.5.0",
      "_model_name": "DescriptionStyleModel",
      "_view_count": null,
      "_view_module": "@jupyter-widgets/base",
      "_view_module_version": "1.2.0",
      "_view_name": "StyleView",
      "description_width": ""
     }
    },
    "46d214fe4fb347fd8c2e4e152b92b22a": {
     "model_module": "@jupyter-widgets/base",
     "model_module_version": "1.2.0",
     "model_name": "LayoutModel",
     "state": {
      "_model_module": "@jupyter-widgets/base",
      "_model_module_version": "1.2.0",
      "_model_name": "LayoutModel",
      "_view_count": null,
      "_view_module": "@jupyter-widgets/base",
      "_view_module_version": "1.2.0",
      "_view_name": "LayoutView",
      "align_content": null,
      "align_items": null,
      "align_self": null,
      "border": null,
      "bottom": null,
      "display": null,
      "flex": null,
      "flex_flow": null,
      "grid_area": null,
      "grid_auto_columns": null,
      "grid_auto_flow": null,
      "grid_auto_rows": null,
      "grid_column": null,
      "grid_gap": null,
      "grid_row": null,
      "grid_template_areas": null,
      "grid_template_columns": null,
      "grid_template_rows": null,
      "height": null,
      "justify_content": null,
      "justify_items": null,
      "left": null,
      "margin": null,
      "max_height": null,
      "max_width": null,
      "min_height": null,
      "min_width": null,
      "object_fit": null,
      "object_position": null,
      "order": null,
      "overflow": null,
      "overflow_x": null,
      "overflow_y": null,
      "padding": null,
      "right": null,
      "top": null,
      "visibility": null,
      "width": null
     }
    },
    "480666eb0b23421183f521a72d707561": {
     "model_module": "@jupyter-widgets/controls",
     "model_module_version": "1.5.0",
     "model_name": "HTMLModel",
     "state": {
      "_dom_classes": [],
      "_model_module": "@jupyter-widgets/controls",
      "_model_module_version": "1.5.0",
      "_model_name": "HTMLModel",
      "_view_count": null,
      "_view_module": "@jupyter-widgets/controls",
      "_view_module_version": "1.5.0",
      "_view_name": "HTMLView",
      "description": "",
      "description_tooltip": null,
      "layout": "IPY_MODEL_46d214fe4fb347fd8c2e4e152b92b22a",
      "placeholder": "​",
      "style": "IPY_MODEL_8697b724c1c8480e8971d5d571813d88",
      "value": "special_tokens_map.json: 100%"
     }
    },
    "4cd06e79f518440c8565402551dbcc28": {
     "model_module": "@jupyter-widgets/controls",
     "model_module_version": "1.5.0",
     "model_name": "FloatProgressModel",
     "state": {
      "_dom_classes": [],
      "_model_module": "@jupyter-widgets/controls",
      "_model_module_version": "1.5.0",
      "_model_name": "FloatProgressModel",
      "_view_count": null,
      "_view_module": "@jupyter-widgets/controls",
      "_view_module_version": "1.5.0",
      "_view_name": "ProgressView",
      "bar_style": "success",
      "description": "",
      "description_tooltip": null,
      "layout": "IPY_MODEL_8e8abed8912e4abbb63f5701bddab237",
      "max": 3777,
      "min": 0,
      "orientation": "horizontal",
      "style": "IPY_MODEL_8c015e95e9eb403c8152bed595445494",
      "value": 3777
     }
    },
    "4cd47bc096994da7a71acf32a61e9a23": {
     "model_module": "@jupyter-widgets/controls",
     "model_module_version": "1.5.0",
     "model_name": "ProgressStyleModel",
     "state": {
      "_model_module": "@jupyter-widgets/controls",
      "_model_module_version": "1.5.0",
      "_model_name": "ProgressStyleModel",
      "_view_count": null,
      "_view_module": "@jupyter-widgets/base",
      "_view_module_version": "1.2.0",
      "_view_name": "StyleView",
      "bar_color": null,
      "description_width": ""
     }
    },
    "4e75f61d36bd4279ad7ea8ba8a827582": {
     "model_module": "@jupyter-widgets/controls",
     "model_module_version": "1.5.0",
     "model_name": "HBoxModel",
     "state": {
      "_dom_classes": [],
      "_model_module": "@jupyter-widgets/controls",
      "_model_module_version": "1.5.0",
      "_model_name": "HBoxModel",
      "_view_count": null,
      "_view_module": "@jupyter-widgets/controls",
      "_view_module_version": "1.5.0",
      "_view_name": "HBoxView",
      "box_style": "",
      "children": [
       "IPY_MODEL_3c929c6a83634d1bbad0953b1437b46f",
       "IPY_MODEL_2117cc13dc8d4d4b986f53dc5011d6c4",
       "IPY_MODEL_ab534e9b8210450b8c3c1c1c1d406e34"
      ],
      "layout": "IPY_MODEL_c65a7669fa62440d9dac6ea6b716e1c6"
     }
    },
    "50693ec7b1fa4622b3528bcec7ec3db4": {
     "model_module": "@jupyter-widgets/base",
     "model_module_version": "1.2.0",
     "model_name": "LayoutModel",
     "state": {
      "_model_module": "@jupyter-widgets/base",
      "_model_module_version": "1.2.0",
      "_model_name": "LayoutModel",
      "_view_count": null,
      "_view_module": "@jupyter-widgets/base",
      "_view_module_version": "1.2.0",
      "_view_name": "LayoutView",
      "align_content": null,
      "align_items": null,
      "align_self": null,
      "border": null,
      "bottom": null,
      "display": null,
      "flex": null,
      "flex_flow": null,
      "grid_area": null,
      "grid_auto_columns": null,
      "grid_auto_flow": null,
      "grid_auto_rows": null,
      "grid_column": null,
      "grid_gap": null,
      "grid_row": null,
      "grid_template_areas": null,
      "grid_template_columns": null,
      "grid_template_rows": null,
      "height": null,
      "justify_content": null,
      "justify_items": null,
      "left": null,
      "margin": null,
      "max_height": null,
      "max_width": null,
      "min_height": null,
      "min_width": null,
      "object_fit": null,
      "object_position": null,
      "order": null,
      "overflow": null,
      "overflow_x": null,
      "overflow_y": null,
      "padding": null,
      "right": null,
      "top": null,
      "visibility": null,
      "width": null
     }
    },
    "516d36e5a2e34a17b60d8a3d6d34ef77": {
     "model_module": "@jupyter-widgets/base",
     "model_module_version": "1.2.0",
     "model_name": "LayoutModel",
     "state": {
      "_model_module": "@jupyter-widgets/base",
      "_model_module_version": "1.2.0",
      "_model_name": "LayoutModel",
      "_view_count": null,
      "_view_module": "@jupyter-widgets/base",
      "_view_module_version": "1.2.0",
      "_view_name": "LayoutView",
      "align_content": null,
      "align_items": null,
      "align_self": null,
      "border": null,
      "bottom": null,
      "display": null,
      "flex": null,
      "flex_flow": null,
      "grid_area": null,
      "grid_auto_columns": null,
      "grid_auto_flow": null,
      "grid_auto_rows": null,
      "grid_column": null,
      "grid_gap": null,
      "grid_row": null,
      "grid_template_areas": null,
      "grid_template_columns": null,
      "grid_template_rows": null,
      "height": null,
      "justify_content": null,
      "justify_items": null,
      "left": null,
      "margin": null,
      "max_height": null,
      "max_width": null,
      "min_height": null,
      "min_width": null,
      "object_fit": null,
      "object_position": null,
      "order": null,
      "overflow": null,
      "overflow_x": null,
      "overflow_y": null,
      "padding": null,
      "right": null,
      "top": null,
      "visibility": null,
      "width": null
     }
    },
    "5369a4bfd60b4c1d8fac051f4bbfbe28": {
     "model_module": "@jupyter-widgets/controls",
     "model_module_version": "1.5.0",
     "model_name": "DescriptionStyleModel",
     "state": {
      "_model_module": "@jupyter-widgets/controls",
      "_model_module_version": "1.5.0",
      "_model_name": "DescriptionStyleModel",
      "_view_count": null,
      "_view_module": "@jupyter-widgets/base",
      "_view_module_version": "1.2.0",
      "_view_name": "StyleView",
      "description_width": ""
     }
    },
    "54a76a7c5d004367be59f1bd592b6d31": {
     "model_module": "@jupyter-widgets/base",
     "model_module_version": "1.2.0",
     "model_name": "LayoutModel",
     "state": {
      "_model_module": "@jupyter-widgets/base",
      "_model_module_version": "1.2.0",
      "_model_name": "LayoutModel",
      "_view_count": null,
      "_view_module": "@jupyter-widgets/base",
      "_view_module_version": "1.2.0",
      "_view_name": "LayoutView",
      "align_content": null,
      "align_items": null,
      "align_self": null,
      "border": null,
      "bottom": null,
      "display": null,
      "flex": null,
      "flex_flow": null,
      "grid_area": null,
      "grid_auto_columns": null,
      "grid_auto_flow": null,
      "grid_auto_rows": null,
      "grid_column": null,
      "grid_gap": null,
      "grid_row": null,
      "grid_template_areas": null,
      "grid_template_columns": null,
      "grid_template_rows": null,
      "height": null,
      "justify_content": null,
      "justify_items": null,
      "left": null,
      "margin": null,
      "max_height": null,
      "max_width": null,
      "min_height": null,
      "min_width": null,
      "object_fit": null,
      "object_position": null,
      "order": null,
      "overflow": null,
      "overflow_x": null,
      "overflow_y": null,
      "padding": null,
      "right": null,
      "top": null,
      "visibility": null,
      "width": null
     }
    },
    "59a7d98a06b8462688eedfa4a0c28291": {
     "model_module": "@jupyter-widgets/controls",
     "model_module_version": "1.5.0",
     "model_name": "ProgressStyleModel",
     "state": {
      "_model_module": "@jupyter-widgets/controls",
      "_model_module_version": "1.5.0",
      "_model_name": "ProgressStyleModel",
      "_view_count": null,
      "_view_module": "@jupyter-widgets/base",
      "_view_module_version": "1.2.0",
      "_view_name": "StyleView",
      "bar_color": null,
      "description_width": ""
     }
    },
    "5b213426a2914ef48d692c152f9d009c": {
     "model_module": "@jupyter-widgets/controls",
     "model_module_version": "1.5.0",
     "model_name": "HTMLModel",
     "state": {
      "_dom_classes": [],
      "_model_module": "@jupyter-widgets/controls",
      "_model_module_version": "1.5.0",
      "_model_name": "HTMLModel",
      "_view_count": null,
      "_view_module": "@jupyter-widgets/controls",
      "_view_module_version": "1.5.0",
      "_view_name": "HTMLView",
      "description": "",
      "description_tooltip": null,
      "layout": "IPY_MODEL_54a76a7c5d004367be59f1bd592b6d31",
      "placeholder": "​",
      "style": "IPY_MODEL_4293f6e27f794a79a8006c4375f9761d",
      "value": " 229/229 [00:00&lt;00:00, 4.27kB/s]"
     }
    },
    "5b4811ca69644c37a2c398752edf285a": {
     "model_module": "@jupyter-widgets/base",
     "model_module_version": "1.2.0",
     "model_name": "LayoutModel",
     "state": {
      "_model_module": "@jupyter-widgets/base",
      "_model_module_version": "1.2.0",
      "_model_name": "LayoutModel",
      "_view_count": null,
      "_view_module": "@jupyter-widgets/base",
      "_view_module_version": "1.2.0",
      "_view_name": "LayoutView",
      "align_content": null,
      "align_items": null,
      "align_self": null,
      "border": null,
      "bottom": null,
      "display": null,
      "flex": null,
      "flex_flow": null,
      "grid_area": null,
      "grid_auto_columns": null,
      "grid_auto_flow": null,
      "grid_auto_rows": null,
      "grid_column": null,
      "grid_gap": null,
      "grid_row": null,
      "grid_template_areas": null,
      "grid_template_columns": null,
      "grid_template_rows": null,
      "height": null,
      "justify_content": null,
      "justify_items": null,
      "left": null,
      "margin": null,
      "max_height": null,
      "max_width": null,
      "min_height": null,
      "min_width": null,
      "object_fit": null,
      "object_position": null,
      "order": null,
      "overflow": null,
      "overflow_x": null,
      "overflow_y": null,
      "padding": null,
      "right": null,
      "top": null,
      "visibility": null,
      "width": null
     }
    },
    "5eff3a8cc4b24dc4a13e84e6cd536608": {
     "model_module": "@jupyter-widgets/base",
     "model_module_version": "1.2.0",
     "model_name": "LayoutModel",
     "state": {
      "_model_module": "@jupyter-widgets/base",
      "_model_module_version": "1.2.0",
      "_model_name": "LayoutModel",
      "_view_count": null,
      "_view_module": "@jupyter-widgets/base",
      "_view_module_version": "1.2.0",
      "_view_name": "LayoutView",
      "align_content": null,
      "align_items": null,
      "align_self": null,
      "border": null,
      "bottom": null,
      "display": null,
      "flex": null,
      "flex_flow": null,
      "grid_area": null,
      "grid_auto_columns": null,
      "grid_auto_flow": null,
      "grid_auto_rows": null,
      "grid_column": null,
      "grid_gap": null,
      "grid_row": null,
      "grid_template_areas": null,
      "grid_template_columns": null,
      "grid_template_rows": null,
      "height": null,
      "justify_content": null,
      "justify_items": null,
      "left": null,
      "margin": null,
      "max_height": null,
      "max_width": null,
      "min_height": null,
      "min_width": null,
      "object_fit": null,
      "object_position": null,
      "order": null,
      "overflow": null,
      "overflow_x": null,
      "overflow_y": null,
      "padding": null,
      "right": null,
      "top": null,
      "visibility": null,
      "width": null
     }
    },
    "5f11288fc2644d9c92a9d619da1b6000": {
     "model_module": "@jupyter-widgets/base",
     "model_module_version": "1.2.0",
     "model_name": "LayoutModel",
     "state": {
      "_model_module": "@jupyter-widgets/base",
      "_model_module_version": "1.2.0",
      "_model_name": "LayoutModel",
      "_view_count": null,
      "_view_module": "@jupyter-widgets/base",
      "_view_module_version": "1.2.0",
      "_view_name": "LayoutView",
      "align_content": null,
      "align_items": null,
      "align_self": null,
      "border": null,
      "bottom": null,
      "display": null,
      "flex": null,
      "flex_flow": null,
      "grid_area": null,
      "grid_auto_columns": null,
      "grid_auto_flow": null,
      "grid_auto_rows": null,
      "grid_column": null,
      "grid_gap": null,
      "grid_row": null,
      "grid_template_areas": null,
      "grid_template_columns": null,
      "grid_template_rows": null,
      "height": null,
      "justify_content": null,
      "justify_items": null,
      "left": null,
      "margin": null,
      "max_height": null,
      "max_width": null,
      "min_height": null,
      "min_width": null,
      "object_fit": null,
      "object_position": null,
      "order": null,
      "overflow": null,
      "overflow_x": null,
      "overflow_y": null,
      "padding": null,
      "right": null,
      "top": null,
      "visibility": null,
      "width": null
     }
    },
    "5fbbb17503734b809a1ed27d4d592d87": {
     "model_module": "@jupyter-widgets/controls",
     "model_module_version": "1.5.0",
     "model_name": "HTMLModel",
     "state": {
      "_dom_classes": [],
      "_model_module": "@jupyter-widgets/controls",
      "_model_module_version": "1.5.0",
      "_model_name": "HTMLModel",
      "_view_count": null,
      "_view_module": "@jupyter-widgets/controls",
      "_view_module_version": "1.5.0",
      "_view_name": "HTMLView",
      "description": "",
      "description_tooltip": null,
      "layout": "IPY_MODEL_5b4811ca69644c37a2c398752edf285a",
      "placeholder": "​",
      "style": "IPY_MODEL_02cada02e2134f73a83566da8a8a3dbb",
      "value": "config_sentence_transformers.json: 100%"
     }
    },
    "60d718988a7b426daed8ab2974385655": {
     "model_module": "@jupyter-widgets/base",
     "model_module_version": "1.2.0",
     "model_name": "LayoutModel",
     "state": {
      "_model_module": "@jupyter-widgets/base",
      "_model_module_version": "1.2.0",
      "_model_name": "LayoutModel",
      "_view_count": null,
      "_view_module": "@jupyter-widgets/base",
      "_view_module_version": "1.2.0",
      "_view_name": "LayoutView",
      "align_content": null,
      "align_items": null,
      "align_self": null,
      "border": null,
      "bottom": null,
      "display": null,
      "flex": null,
      "flex_flow": null,
      "grid_area": null,
      "grid_auto_columns": null,
      "grid_auto_flow": null,
      "grid_auto_rows": null,
      "grid_column": null,
      "grid_gap": null,
      "grid_row": null,
      "grid_template_areas": null,
      "grid_template_columns": null,
      "grid_template_rows": null,
      "height": null,
      "justify_content": null,
      "justify_items": null,
      "left": null,
      "margin": null,
      "max_height": null,
      "max_width": null,
      "min_height": null,
      "min_width": null,
      "object_fit": null,
      "object_position": null,
      "order": null,
      "overflow": null,
      "overflow_x": null,
      "overflow_y": null,
      "padding": null,
      "right": null,
      "top": null,
      "visibility": null,
      "width": null
     }
    },
    "61fe628da1ab477a8d3ef84a709854d3": {
     "model_module": "@jupyter-widgets/controls",
     "model_module_version": "1.5.0",
     "model_name": "FloatProgressModel",
     "state": {
      "_dom_classes": [],
      "_model_module": "@jupyter-widgets/controls",
      "_model_module_version": "1.5.0",
      "_model_name": "FloatProgressModel",
      "_view_count": null,
      "_view_module": "@jupyter-widgets/controls",
      "_view_module_version": "1.5.0",
      "_view_name": "ProgressView",
      "bar_style": "success",
      "description": "",
      "description_tooltip": null,
      "layout": "IPY_MODEL_516d36e5a2e34a17b60d8a3d6d34ef77",
      "max": 53,
      "min": 0,
      "orientation": "horizontal",
      "style": "IPY_MODEL_1bd222ee5ce74533be98dfd169aa6f87",
      "value": 53
     }
    },
    "632b02eb1086483a8498ee946adcdae6": {
     "model_module": "@jupyter-widgets/controls",
     "model_module_version": "1.5.0",
     "model_name": "ProgressStyleModel",
     "state": {
      "_model_module": "@jupyter-widgets/controls",
      "_model_module_version": "1.5.0",
      "_model_name": "ProgressStyleModel",
      "_view_count": null,
      "_view_module": "@jupyter-widgets/base",
      "_view_module_version": "1.2.0",
      "_view_name": "StyleView",
      "bar_color": null,
      "description_width": ""
     }
    },
    "67ba7cc558af45f2bee8f6e06011cbca": {
     "model_module": "@jupyter-widgets/controls",
     "model_module_version": "1.5.0",
     "model_name": "DescriptionStyleModel",
     "state": {
      "_model_module": "@jupyter-widgets/controls",
      "_model_module_version": "1.5.0",
      "_model_name": "DescriptionStyleModel",
      "_view_count": null,
      "_view_module": "@jupyter-widgets/base",
      "_view_module_version": "1.2.0",
      "_view_name": "StyleView",
      "description_width": ""
     }
    },
    "69fe2870e39d4127bf3a089d310981e8": {
     "model_module": "@jupyter-widgets/controls",
     "model_module_version": "1.5.0",
     "model_name": "DescriptionStyleModel",
     "state": {
      "_model_module": "@jupyter-widgets/controls",
      "_model_module_version": "1.5.0",
      "_model_name": "DescriptionStyleModel",
      "_view_count": null,
      "_view_module": "@jupyter-widgets/base",
      "_view_module_version": "1.2.0",
      "_view_name": "StyleView",
      "description_width": ""
     }
    },
    "6cd42aa577b64c38baf770dc6b3c53fa": {
     "model_module": "@jupyter-widgets/controls",
     "model_module_version": "1.5.0",
     "model_name": "HTMLModel",
     "state": {
      "_dom_classes": [],
      "_model_module": "@jupyter-widgets/controls",
      "_model_module_version": "1.5.0",
      "_model_name": "HTMLModel",
      "_view_count": null,
      "_view_module": "@jupyter-widgets/controls",
      "_view_module_version": "1.5.0",
      "_view_name": "HTMLView",
      "description": "",
      "description_tooltip": null,
      "layout": "IPY_MODEL_29f542f6be504cb9880b68b86b0b239d",
      "placeholder": "​",
      "style": "IPY_MODEL_80f319b064e943f8bf59572c25cda7d1",
      "value": " 1.12k/1.12k [00:00&lt;00:00, 47.3kB/s]"
     }
    },
    "703ff0e3898e4f6cb194ab8a82863b74": {
     "model_module": "@jupyter-widgets/base",
     "model_module_version": "1.2.0",
     "model_name": "LayoutModel",
     "state": {
      "_model_module": "@jupyter-widgets/base",
      "_model_module_version": "1.2.0",
      "_model_name": "LayoutModel",
      "_view_count": null,
      "_view_module": "@jupyter-widgets/base",
      "_view_module_version": "1.2.0",
      "_view_name": "LayoutView",
      "align_content": null,
      "align_items": null,
      "align_self": null,
      "border": null,
      "bottom": null,
      "display": null,
      "flex": null,
      "flex_flow": null,
      "grid_area": null,
      "grid_auto_columns": null,
      "grid_auto_flow": null,
      "grid_auto_rows": null,
      "grid_column": null,
      "grid_gap": null,
      "grid_row": null,
      "grid_template_areas": null,
      "grid_template_columns": null,
      "grid_template_rows": null,
      "height": null,
      "justify_content": null,
      "justify_items": null,
      "left": null,
      "margin": null,
      "max_height": null,
      "max_width": null,
      "min_height": null,
      "min_width": null,
      "object_fit": null,
      "object_position": null,
      "order": null,
      "overflow": null,
      "overflow_x": null,
      "overflow_y": null,
      "padding": null,
      "right": null,
      "top": null,
      "visibility": null,
      "width": null
     }
    },
    "70489d742ece46ef921936e2e432a541": {
     "model_module": "@jupyter-widgets/controls",
     "model_module_version": "1.5.0",
     "model_name": "FloatProgressModel",
     "state": {
      "_dom_classes": [],
      "_model_module": "@jupyter-widgets/controls",
      "_model_module_version": "1.5.0",
      "_model_name": "FloatProgressModel",
      "_view_count": null,
      "_view_module": "@jupyter-widgets/controls",
      "_view_module_version": "1.5.0",
      "_view_name": "ProgressView",
      "bar_style": "success",
      "description": "",
      "description_tooltip": null,
      "layout": "IPY_MODEL_3b2074c589814eeca5e94909dd162373",
      "max": 328489328,
      "min": 0,
      "orientation": "horizontal",
      "style": "IPY_MODEL_4cd47bc096994da7a71acf32a61e9a23",
      "value": 328489328
     }
    },
    "72f19181c49b4ded891931ea61d7c046": {
     "model_module": "@jupyter-widgets/base",
     "model_module_version": "1.2.0",
     "model_name": "LayoutModel",
     "state": {
      "_model_module": "@jupyter-widgets/base",
      "_model_module_version": "1.2.0",
      "_model_name": "LayoutModel",
      "_view_count": null,
      "_view_module": "@jupyter-widgets/base",
      "_view_module_version": "1.2.0",
      "_view_name": "LayoutView",
      "align_content": null,
      "align_items": null,
      "align_self": null,
      "border": null,
      "bottom": null,
      "display": null,
      "flex": null,
      "flex_flow": null,
      "grid_area": null,
      "grid_auto_columns": null,
      "grid_auto_flow": null,
      "grid_auto_rows": null,
      "grid_column": null,
      "grid_gap": null,
      "grid_row": null,
      "grid_template_areas": null,
      "grid_template_columns": null,
      "grid_template_rows": null,
      "height": null,
      "justify_content": null,
      "justify_items": null,
      "left": null,
      "margin": null,
      "max_height": null,
      "max_width": null,
      "min_height": null,
      "min_width": null,
      "object_fit": null,
      "object_position": null,
      "order": null,
      "overflow": null,
      "overflow_x": null,
      "overflow_y": null,
      "padding": null,
      "right": null,
      "top": null,
      "visibility": null,
      "width": null
     }
    },
    "7322ea91d2104ed7ad339ad6eb4d2738": {
     "model_module": "@jupyter-widgets/base",
     "model_module_version": "1.2.0",
     "model_name": "LayoutModel",
     "state": {
      "_model_module": "@jupyter-widgets/base",
      "_model_module_version": "1.2.0",
      "_model_name": "LayoutModel",
      "_view_count": null,
      "_view_module": "@jupyter-widgets/base",
      "_view_module_version": "1.2.0",
      "_view_name": "LayoutView",
      "align_content": null,
      "align_items": null,
      "align_self": null,
      "border": null,
      "bottom": null,
      "display": null,
      "flex": null,
      "flex_flow": null,
      "grid_area": null,
      "grid_auto_columns": null,
      "grid_auto_flow": null,
      "grid_auto_rows": null,
      "grid_column": null,
      "grid_gap": null,
      "grid_row": null,
      "grid_template_areas": null,
      "grid_template_columns": null,
      "grid_template_rows": null,
      "height": null,
      "justify_content": null,
      "justify_items": null,
      "left": null,
      "margin": null,
      "max_height": null,
      "max_width": null,
      "min_height": null,
      "min_width": null,
      "object_fit": null,
      "object_position": null,
      "order": null,
      "overflow": null,
      "overflow_x": null,
      "overflow_y": null,
      "padding": null,
      "right": null,
      "top": null,
      "visibility": null,
      "width": null
     }
    },
    "735638f1c9ef40b1be5a2959d94537bf": {
     "model_module": "@jupyter-widgets/controls",
     "model_module_version": "1.5.0",
     "model_name": "HBoxModel",
     "state": {
      "_dom_classes": [],
      "_model_module": "@jupyter-widgets/controls",
      "_model_module_version": "1.5.0",
      "_model_name": "HBoxModel",
      "_view_count": null,
      "_view_module": "@jupyter-widgets/controls",
      "_view_module_version": "1.5.0",
      "_view_name": "HBoxView",
      "box_style": "",
      "children": [
       "IPY_MODEL_d6f373620b784afda5157d82a3fce16b",
       "IPY_MODEL_4cd06e79f518440c8565402551dbcc28",
       "IPY_MODEL_d5c5dc6b36764f5d9132fd9915630c6d"
      ],
      "layout": "IPY_MODEL_703ff0e3898e4f6cb194ab8a82863b74"
     }
    },
    "73bafa39022e4eedac7efbddeedcaa54": {
     "model_module": "@jupyter-widgets/controls",
     "model_module_version": "1.5.0",
     "model_name": "HBoxModel",
     "state": {
      "_dom_classes": [],
      "_model_module": "@jupyter-widgets/controls",
      "_model_module_version": "1.5.0",
      "_model_name": "HBoxModel",
      "_view_count": null,
      "_view_module": "@jupyter-widgets/controls",
      "_view_module_version": "1.5.0",
      "_view_name": "HBoxView",
      "box_style": "",
      "children": [
       "IPY_MODEL_bbddfa8495514107b6f1337452e10bab",
       "IPY_MODEL_70489d742ece46ef921936e2e432a541",
       "IPY_MODEL_10e7dfd5b3ed4fd79b83c64129c422fd"
      ],
      "layout": "IPY_MODEL_50693ec7b1fa4622b3528bcec7ec3db4"
     }
    },
    "74213eeb995a42a281dfe304c194ce0a": {
     "model_module": "@jupyter-widgets/controls",
     "model_module_version": "1.5.0",
     "model_name": "HBoxModel",
     "state": {
      "_dom_classes": [],
      "_model_module": "@jupyter-widgets/controls",
      "_model_module_version": "1.5.0",
      "_model_name": "HBoxModel",
      "_view_count": null,
      "_view_module": "@jupyter-widgets/controls",
      "_view_module_version": "1.5.0",
      "_view_name": "HBoxView",
      "box_style": "",
      "children": [
       "IPY_MODEL_8b270326a37f4535a4c9e8ff9ec427c1",
       "IPY_MODEL_a1e5e426e5eb485582ed6cde821bad4a",
       "IPY_MODEL_05b451ddb2fd47c397801e16524f722b"
      ],
      "layout": "IPY_MODEL_24607fd5a60c4d269a05efd613896054"
     }
    },
    "74c72d0797224a2bac5e10e5a789fc50": {
     "model_module": "@jupyter-widgets/controls",
     "model_module_version": "1.5.0",
     "model_name": "FloatProgressModel",
     "state": {
      "_dom_classes": [],
      "_model_module": "@jupyter-widgets/controls",
      "_model_module_version": "1.5.0",
      "_model_name": "FloatProgressModel",
      "_view_count": null,
      "_view_module": "@jupyter-widgets/controls",
      "_view_module_version": "1.5.0",
      "_view_name": "ProgressView",
      "bar_style": "success",
      "description": "",
      "description_tooltip": null,
      "layout": "IPY_MODEL_1b528d89acd340dc8ceff98bda7feaac",
      "max": 498818054,
      "min": 0,
      "orientation": "horizontal",
      "style": "IPY_MODEL_2086ad923e074309ba78091506d710d4",
      "value": 498818054
     }
    },
    "7852b8c8869147b9ab550c0c3f90e552": {
     "model_module": "@jupyter-widgets/controls",
     "model_module_version": "1.5.0",
     "model_name": "DescriptionStyleModel",
     "state": {
      "_model_module": "@jupyter-widgets/controls",
      "_model_module_version": "1.5.0",
      "_model_name": "DescriptionStyleModel",
      "_view_count": null,
      "_view_module": "@jupyter-widgets/base",
      "_view_module_version": "1.2.0",
      "_view_name": "StyleView",
      "description_width": ""
     }
    },
    "7885b9c222314ec3a9c6a174b1a45ff7": {
     "model_module": "@jupyter-widgets/controls",
     "model_module_version": "1.5.0",
     "model_name": "FloatProgressModel",
     "state": {
      "_dom_classes": [],
      "_model_module": "@jupyter-widgets/controls",
      "_model_module_version": "1.5.0",
      "_model_name": "FloatProgressModel",
      "_view_count": null,
      "_view_module": "@jupyter-widgets/controls",
      "_view_module_version": "1.5.0",
      "_view_name": "ProgressView",
      "bar_style": "success",
      "description": "",
      "description_tooltip": null,
      "layout": "IPY_MODEL_a1b68e6dd4ff46f9a94ebde0a2c6e409",
      "max": 229,
      "min": 0,
      "orientation": "horizontal",
      "style": "IPY_MODEL_ab2223d499a94d22a88bd3d4dce3720f",
      "value": 229
     }
    },
    "7969025ca7944a6787d03c10d60e5f27": {
     "model_module": "@jupyter-widgets/controls",
     "model_module_version": "1.5.0",
     "model_name": "ProgressStyleModel",
     "state": {
      "_model_module": "@jupyter-widgets/controls",
      "_model_module_version": "1.5.0",
      "_model_name": "ProgressStyleModel",
      "_view_count": null,
      "_view_module": "@jupyter-widgets/base",
      "_view_module_version": "1.2.0",
      "_view_name": "StyleView",
      "bar_color": null,
      "description_width": ""
     }
    },
    "79e39298edd94f7ca98e76fc99904ee1": {
     "model_module": "@jupyter-widgets/base",
     "model_module_version": "1.2.0",
     "model_name": "LayoutModel",
     "state": {
      "_model_module": "@jupyter-widgets/base",
      "_model_module_version": "1.2.0",
      "_model_name": "LayoutModel",
      "_view_count": null,
      "_view_module": "@jupyter-widgets/base",
      "_view_module_version": "1.2.0",
      "_view_name": "LayoutView",
      "align_content": null,
      "align_items": null,
      "align_self": null,
      "border": null,
      "bottom": null,
      "display": null,
      "flex": null,
      "flex_flow": null,
      "grid_area": null,
      "grid_auto_columns": null,
      "grid_auto_flow": null,
      "grid_auto_rows": null,
      "grid_column": null,
      "grid_gap": null,
      "grid_row": null,
      "grid_template_areas": null,
      "grid_template_columns": null,
      "grid_template_rows": null,
      "height": null,
      "justify_content": null,
      "justify_items": null,
      "left": null,
      "margin": null,
      "max_height": null,
      "max_width": null,
      "min_height": null,
      "min_width": null,
      "object_fit": null,
      "object_position": null,
      "order": null,
      "overflow": null,
      "overflow_x": null,
      "overflow_y": null,
      "padding": null,
      "right": null,
      "top": null,
      "visibility": null,
      "width": null
     }
    },
    "7ffe6bc69f154ceb8b73f55f5d074567": {
     "model_module": "@jupyter-widgets/controls",
     "model_module_version": "1.5.0",
     "model_name": "HTMLModel",
     "state": {
      "_dom_classes": [],
      "_model_module": "@jupyter-widgets/controls",
      "_model_module_version": "1.5.0",
      "_model_name": "HTMLModel",
      "_view_count": null,
      "_view_module": "@jupyter-widgets/controls",
      "_view_module_version": "1.5.0",
      "_view_name": "HTMLView",
      "description": "",
      "description_tooltip": null,
      "layout": "IPY_MODEL_d9b74875ea8b4e21a58bb17e45cdbf1b",
      "placeholder": "​",
      "style": "IPY_MODEL_4667f2b9c01e450ca99ff5552b523703",
      "value": "model.safetensors: 100%"
     }
    },
    "80f319b064e943f8bf59572c25cda7d1": {
     "model_module": "@jupyter-widgets/controls",
     "model_module_version": "1.5.0",
     "model_name": "DescriptionStyleModel",
     "state": {
      "_model_module": "@jupyter-widgets/controls",
      "_model_module_version": "1.5.0",
      "_model_name": "DescriptionStyleModel",
      "_view_count": null,
      "_view_module": "@jupyter-widgets/base",
      "_view_module_version": "1.2.0",
      "_view_name": "StyleView",
      "description_width": ""
     }
    },
    "8697b724c1c8480e8971d5d571813d88": {
     "model_module": "@jupyter-widgets/controls",
     "model_module_version": "1.5.0",
     "model_name": "DescriptionStyleModel",
     "state": {
      "_model_module": "@jupyter-widgets/controls",
      "_model_module_version": "1.5.0",
      "_model_name": "DescriptionStyleModel",
      "_view_count": null,
      "_view_module": "@jupyter-widgets/base",
      "_view_module_version": "1.2.0",
      "_view_name": "StyleView",
      "description_width": ""
     }
    },
    "894529ada4f441388d9cb86103d20c39": {
     "model_module": "@jupyter-widgets/base",
     "model_module_version": "1.2.0",
     "model_name": "LayoutModel",
     "state": {
      "_model_module": "@jupyter-widgets/base",
      "_model_module_version": "1.2.0",
      "_model_name": "LayoutModel",
      "_view_count": null,
      "_view_module": "@jupyter-widgets/base",
      "_view_module_version": "1.2.0",
      "_view_name": "LayoutView",
      "align_content": null,
      "align_items": null,
      "align_self": null,
      "border": null,
      "bottom": null,
      "display": null,
      "flex": null,
      "flex_flow": null,
      "grid_area": null,
      "grid_auto_columns": null,
      "grid_auto_flow": null,
      "grid_auto_rows": null,
      "grid_column": null,
      "grid_gap": null,
      "grid_row": null,
      "grid_template_areas": null,
      "grid_template_columns": null,
      "grid_template_rows": null,
      "height": null,
      "justify_content": null,
      "justify_items": null,
      "left": null,
      "margin": null,
      "max_height": null,
      "max_width": null,
      "min_height": null,
      "min_width": null,
      "object_fit": null,
      "object_position": null,
      "order": null,
      "overflow": null,
      "overflow_x": null,
      "overflow_y": null,
      "padding": null,
      "right": null,
      "top": null,
      "visibility": null,
      "width": null
     }
    },
    "8aab82d2c8ce4167854297435093525e": {
     "model_module": "@jupyter-widgets/controls",
     "model_module_version": "1.5.0",
     "model_name": "HBoxModel",
     "state": {
      "_dom_classes": [],
      "_model_module": "@jupyter-widgets/controls",
      "_model_module_version": "1.5.0",
      "_model_name": "HBoxModel",
      "_view_count": null,
      "_view_module": "@jupyter-widgets/controls",
      "_view_module_version": "1.5.0",
      "_view_name": "HBoxView",
      "box_style": "",
      "children": [
       "IPY_MODEL_480666eb0b23421183f521a72d707561",
       "IPY_MODEL_30cab9acb99d41d38df1ffe91bd1bfc6",
       "IPY_MODEL_b1ac32f0a84744b0a6c5457c1c8cc39d"
      ],
      "layout": "IPY_MODEL_048374e1bc3247479fdc0fcbfda50913"
     }
    },
    "8b270326a37f4535a4c9e8ff9ec427c1": {
     "model_module": "@jupyter-widgets/controls",
     "model_module_version": "1.5.0",
     "model_name": "HTMLModel",
     "state": {
      "_dom_classes": [],
      "_model_module": "@jupyter-widgets/controls",
      "_model_module_version": "1.5.0",
      "_model_name": "HTMLModel",
      "_view_count": null,
      "_view_module": "@jupyter-widgets/controls",
      "_view_module_version": "1.5.0",
      "_view_name": "HTMLView",
      "description": "",
      "description_tooltip": null,
      "layout": "IPY_MODEL_d0566b735c574f179d845d928781f07a",
      "placeholder": "​",
      "style": "IPY_MODEL_2356e344f6314995b69c351408fa43e3",
      "value": "tokenizer.json: 100%"
     }
    },
    "8c015e95e9eb403c8152bed595445494": {
     "model_module": "@jupyter-widgets/controls",
     "model_module_version": "1.5.0",
     "model_name": "ProgressStyleModel",
     "state": {
      "_model_module": "@jupyter-widgets/controls",
      "_model_module_version": "1.5.0",
      "_model_name": "ProgressStyleModel",
      "_view_count": null,
      "_view_module": "@jupyter-widgets/base",
      "_view_module_version": "1.2.0",
      "_view_name": "StyleView",
      "bar_color": null,
      "description_width": ""
     }
    },
    "8cc0616890554f448f75677f9c56ba33": {
     "model_module": "@jupyter-widgets/base",
     "model_module_version": "1.2.0",
     "model_name": "LayoutModel",
     "state": {
      "_model_module": "@jupyter-widgets/base",
      "_model_module_version": "1.2.0",
      "_model_name": "LayoutModel",
      "_view_count": null,
      "_view_module": "@jupyter-widgets/base",
      "_view_module_version": "1.2.0",
      "_view_name": "LayoutView",
      "align_content": null,
      "align_items": null,
      "align_self": null,
      "border": null,
      "bottom": null,
      "display": null,
      "flex": null,
      "flex_flow": null,
      "grid_area": null,
      "grid_auto_columns": null,
      "grid_auto_flow": null,
      "grid_auto_rows": null,
      "grid_column": null,
      "grid_gap": null,
      "grid_row": null,
      "grid_template_areas": null,
      "grid_template_columns": null,
      "grid_template_rows": null,
      "height": null,
      "justify_content": null,
      "justify_items": null,
      "left": null,
      "margin": null,
      "max_height": null,
      "max_width": null,
      "min_height": null,
      "min_width": null,
      "object_fit": null,
      "object_position": null,
      "order": null,
      "overflow": null,
      "overflow_x": null,
      "overflow_y": null,
      "padding": null,
      "right": null,
      "top": null,
      "visibility": null,
      "width": null
     }
    },
    "8e67d1e3a270422cb0851225deaf6693": {
     "model_module": "@jupyter-widgets/base",
     "model_module_version": "1.2.0",
     "model_name": "LayoutModel",
     "state": {
      "_model_module": "@jupyter-widgets/base",
      "_model_module_version": "1.2.0",
      "_model_name": "LayoutModel",
      "_view_count": null,
      "_view_module": "@jupyter-widgets/base",
      "_view_module_version": "1.2.0",
      "_view_name": "LayoutView",
      "align_content": null,
      "align_items": null,
      "align_self": null,
      "border": null,
      "bottom": null,
      "display": null,
      "flex": null,
      "flex_flow": null,
      "grid_area": null,
      "grid_auto_columns": null,
      "grid_auto_flow": null,
      "grid_auto_rows": null,
      "grid_column": null,
      "grid_gap": null,
      "grid_row": null,
      "grid_template_areas": null,
      "grid_template_columns": null,
      "grid_template_rows": null,
      "height": null,
      "justify_content": null,
      "justify_items": null,
      "left": null,
      "margin": null,
      "max_height": null,
      "max_width": null,
      "min_height": null,
      "min_width": null,
      "object_fit": null,
      "object_position": null,
      "order": null,
      "overflow": null,
      "overflow_x": null,
      "overflow_y": null,
      "padding": null,
      "right": null,
      "top": null,
      "visibility": null,
      "width": null
     }
    },
    "8e8abed8912e4abbb63f5701bddab237": {
     "model_module": "@jupyter-widgets/base",
     "model_module_version": "1.2.0",
     "model_name": "LayoutModel",
     "state": {
      "_model_module": "@jupyter-widgets/base",
      "_model_module_version": "1.2.0",
      "_model_name": "LayoutModel",
      "_view_count": null,
      "_view_module": "@jupyter-widgets/base",
      "_view_module_version": "1.2.0",
      "_view_name": "LayoutView",
      "align_content": null,
      "align_items": null,
      "align_self": null,
      "border": null,
      "bottom": null,
      "display": null,
      "flex": null,
      "flex_flow": null,
      "grid_area": null,
      "grid_auto_columns": null,
      "grid_auto_flow": null,
      "grid_auto_rows": null,
      "grid_column": null,
      "grid_gap": null,
      "grid_row": null,
      "grid_template_areas": null,
      "grid_template_columns": null,
      "grid_template_rows": null,
      "height": null,
      "justify_content": null,
      "justify_items": null,
      "left": null,
      "margin": null,
      "max_height": null,
      "max_width": null,
      "min_height": null,
      "min_width": null,
      "object_fit": null,
      "object_position": null,
      "order": null,
      "overflow": null,
      "overflow_x": null,
      "overflow_y": null,
      "padding": null,
      "right": null,
      "top": null,
      "visibility": null,
      "width": null
     }
    },
    "8fd5c6ba9fa044b6ae952dd573abcaf4": {
     "model_module": "@jupyter-widgets/controls",
     "model_module_version": "1.5.0",
     "model_name": "DescriptionStyleModel",
     "state": {
      "_model_module": "@jupyter-widgets/controls",
      "_model_module_version": "1.5.0",
      "_model_name": "DescriptionStyleModel",
      "_view_count": null,
      "_view_module": "@jupyter-widgets/base",
      "_view_module_version": "1.2.0",
      "_view_name": "StyleView",
      "description_width": ""
     }
    },
    "8fe488ff8d2a4420af7303f77ac5711c": {
     "model_module": "@jupyter-widgets/controls",
     "model_module_version": "1.5.0",
     "model_name": "HTMLModel",
     "state": {
      "_dom_classes": [],
      "_model_module": "@jupyter-widgets/controls",
      "_model_module_version": "1.5.0",
      "_model_name": "HTMLModel",
      "_view_count": null,
      "_view_module": "@jupyter-widgets/controls",
      "_view_module_version": "1.5.0",
      "_view_name": "HTMLView",
      "description": "",
      "description_tooltip": null,
      "layout": "IPY_MODEL_4193e890af0f4735bcc4408970fc228c",
      "placeholder": "​",
      "style": "IPY_MODEL_395bd6d6fabc4201b994db1e0f67f825",
      "value": " 686/686 [00:00&lt;00:00, 32.4kB/s]"
     }
    },
    "926a1ab28a5a44a39a35a48220b28524": {
     "model_module": "@jupyter-widgets/base",
     "model_module_version": "1.2.0",
     "model_name": "LayoutModel",
     "state": {
      "_model_module": "@jupyter-widgets/base",
      "_model_module_version": "1.2.0",
      "_model_name": "LayoutModel",
      "_view_count": null,
      "_view_module": "@jupyter-widgets/base",
      "_view_module_version": "1.2.0",
      "_view_name": "LayoutView",
      "align_content": null,
      "align_items": null,
      "align_self": null,
      "border": null,
      "bottom": null,
      "display": null,
      "flex": null,
      "flex_flow": null,
      "grid_area": null,
      "grid_auto_columns": null,
      "grid_auto_flow": null,
      "grid_auto_rows": null,
      "grid_column": null,
      "grid_gap": null,
      "grid_row": null,
      "grid_template_areas": null,
      "grid_template_columns": null,
      "grid_template_rows": null,
      "height": null,
      "justify_content": null,
      "justify_items": null,
      "left": null,
      "margin": null,
      "max_height": null,
      "max_width": null,
      "min_height": null,
      "min_width": null,
      "object_fit": null,
      "object_position": null,
      "order": null,
      "overflow": null,
      "overflow_x": null,
      "overflow_y": null,
      "padding": null,
      "right": null,
      "top": null,
      "visibility": null,
      "width": null
     }
    },
    "99e83d93453342d4a3b4d66b652ffd6d": {
     "model_module": "@jupyter-widgets/controls",
     "model_module_version": "1.5.0",
     "model_name": "ProgressStyleModel",
     "state": {
      "_model_module": "@jupyter-widgets/controls",
      "_model_module_version": "1.5.0",
      "_model_name": "ProgressStyleModel",
      "_view_count": null,
      "_view_module": "@jupyter-widgets/base",
      "_view_module_version": "1.2.0",
      "_view_name": "StyleView",
      "bar_color": null,
      "description_width": ""
     }
    },
    "9a4aab686382487f815d1ca3433d5194": {
     "model_module": "@jupyter-widgets/controls",
     "model_module_version": "1.5.0",
     "model_name": "DescriptionStyleModel",
     "state": {
      "_model_module": "@jupyter-widgets/controls",
      "_model_module_version": "1.5.0",
      "_model_name": "DescriptionStyleModel",
      "_view_count": null,
      "_view_module": "@jupyter-widgets/base",
      "_view_module_version": "1.2.0",
      "_view_name": "StyleView",
      "description_width": ""
     }
    },
    "a1b68e6dd4ff46f9a94ebde0a2c6e409": {
     "model_module": "@jupyter-widgets/base",
     "model_module_version": "1.2.0",
     "model_name": "LayoutModel",
     "state": {
      "_model_module": "@jupyter-widgets/base",
      "_model_module_version": "1.2.0",
      "_model_name": "LayoutModel",
      "_view_count": null,
      "_view_module": "@jupyter-widgets/base",
      "_view_module_version": "1.2.0",
      "_view_name": "LayoutView",
      "align_content": null,
      "align_items": null,
      "align_self": null,
      "border": null,
      "bottom": null,
      "display": null,
      "flex": null,
      "flex_flow": null,
      "grid_area": null,
      "grid_auto_columns": null,
      "grid_auto_flow": null,
      "grid_auto_rows": null,
      "grid_column": null,
      "grid_gap": null,
      "grid_row": null,
      "grid_template_areas": null,
      "grid_template_columns": null,
      "grid_template_rows": null,
      "height": null,
      "justify_content": null,
      "justify_items": null,
      "left": null,
      "margin": null,
      "max_height": null,
      "max_width": null,
      "min_height": null,
      "min_width": null,
      "object_fit": null,
      "object_position": null,
      "order": null,
      "overflow": null,
      "overflow_x": null,
      "overflow_y": null,
      "padding": null,
      "right": null,
      "top": null,
      "visibility": null,
      "width": null
     }
    },
    "a1e5e426e5eb485582ed6cde821bad4a": {
     "model_module": "@jupyter-widgets/controls",
     "model_module_version": "1.5.0",
     "model_name": "FloatProgressModel",
     "state": {
      "_dom_classes": [],
      "_model_module": "@jupyter-widgets/controls",
      "_model_module_version": "1.5.0",
      "_model_name": "FloatProgressModel",
      "_view_count": null,
      "_view_module": "@jupyter-widgets/controls",
      "_view_module_version": "1.5.0",
      "_view_name": "ProgressView",
      "bar_style": "success",
      "description": "",
      "description_tooltip": null,
      "layout": "IPY_MODEL_79e39298edd94f7ca98e76fc99904ee1",
      "max": 1355881,
      "min": 0,
      "orientation": "horizontal",
      "style": "IPY_MODEL_7969025ca7944a6787d03c10d60e5f27",
      "value": 1355881
     }
    },
    "a34260c91c2543c183211d624b18fd39": {
     "model_module": "@jupyter-widgets/controls",
     "model_module_version": "1.5.0",
     "model_name": "DescriptionStyleModel",
     "state": {
      "_model_module": "@jupyter-widgets/controls",
      "_model_module_version": "1.5.0",
      "_model_name": "DescriptionStyleModel",
      "_view_count": null,
      "_view_module": "@jupyter-widgets/base",
      "_view_module_version": "1.2.0",
      "_view_name": "StyleView",
      "description_width": ""
     }
    },
    "a5cd23d25f724409bb801a4b63799b70": {
     "model_module": "@jupyter-widgets/base",
     "model_module_version": "1.2.0",
     "model_name": "LayoutModel",
     "state": {
      "_model_module": "@jupyter-widgets/base",
      "_model_module_version": "1.2.0",
      "_model_name": "LayoutModel",
      "_view_count": null,
      "_view_module": "@jupyter-widgets/base",
      "_view_module_version": "1.2.0",
      "_view_name": "LayoutView",
      "align_content": null,
      "align_items": null,
      "align_self": null,
      "border": null,
      "bottom": null,
      "display": null,
      "flex": null,
      "flex_flow": null,
      "grid_area": null,
      "grid_auto_columns": null,
      "grid_auto_flow": null,
      "grid_auto_rows": null,
      "grid_column": null,
      "grid_gap": null,
      "grid_row": null,
      "grid_template_areas": null,
      "grid_template_columns": null,
      "grid_template_rows": null,
      "height": null,
      "justify_content": null,
      "justify_items": null,
      "left": null,
      "margin": null,
      "max_height": null,
      "max_width": null,
      "min_height": null,
      "min_width": null,
      "object_fit": null,
      "object_position": null,
      "order": null,
      "overflow": null,
      "overflow_x": null,
      "overflow_y": null,
      "padding": null,
      "right": null,
      "top": null,
      "visibility": null,
      "width": null
     }
    },
    "a7126af277be404a891c4c90998bf072": {
     "model_module": "@jupyter-widgets/controls",
     "model_module_version": "1.5.0",
     "model_name": "DescriptionStyleModel",
     "state": {
      "_model_module": "@jupyter-widgets/controls",
      "_model_module_version": "1.5.0",
      "_model_name": "DescriptionStyleModel",
      "_view_count": null,
      "_view_module": "@jupyter-widgets/base",
      "_view_module_version": "1.2.0",
      "_view_name": "StyleView",
      "description_width": ""
     }
    },
    "a9e1b86e2ab74d05a724bfb86b437c8e": {
     "model_module": "@jupyter-widgets/controls",
     "model_module_version": "1.5.0",
     "model_name": "FloatProgressModel",
     "state": {
      "_dom_classes": [],
      "_model_module": "@jupyter-widgets/controls",
      "_model_module_version": "1.5.0",
      "_model_name": "FloatProgressModel",
      "_view_count": null,
      "_view_module": "@jupyter-widgets/controls",
      "_view_module_version": "1.5.0",
      "_view_name": "ProgressView",
      "bar_style": "success",
      "description": "",
      "description_tooltip": null,
      "layout": "IPY_MODEL_b756c0da491a49b891387db58a6159a2",
      "max": 456356,
      "min": 0,
      "orientation": "horizontal",
      "style": "IPY_MODEL_99e83d93453342d4a3b4d66b652ffd6d",
      "value": 456356
     }
    },
    "ab2223d499a94d22a88bd3d4dce3720f": {
     "model_module": "@jupyter-widgets/controls",
     "model_module_version": "1.5.0",
     "model_name": "ProgressStyleModel",
     "state": {
      "_model_module": "@jupyter-widgets/controls",
      "_model_module_version": "1.5.0",
      "_model_name": "ProgressStyleModel",
      "_view_count": null,
      "_view_module": "@jupyter-widgets/base",
      "_view_module_version": "1.2.0",
      "_view_name": "StyleView",
      "bar_color": null,
      "description_width": ""
     }
    },
    "ab534e9b8210450b8c3c1c1c1d406e34": {
     "model_module": "@jupyter-widgets/controls",
     "model_module_version": "1.5.0",
     "model_name": "HTMLModel",
     "state": {
      "_dom_classes": [],
      "_model_module": "@jupyter-widgets/controls",
      "_model_module_version": "1.5.0",
      "_model_name": "HTMLModel",
      "_view_count": null,
      "_view_module": "@jupyter-widgets/controls",
      "_view_module_version": "1.5.0",
      "_view_name": "HTMLView",
      "description": "",
      "description_tooltip": null,
      "layout": "IPY_MODEL_3fc01921e0cf4d70a85bf3e1f0ee91b9",
      "placeholder": "​",
      "style": "IPY_MODEL_b1fbdaee75564fa7b4ab8de86416db07",
      "value": " 190/190 [00:00&lt;00:00, 7.23kB/s]"
     }
    },
    "ad47c71ed9d54ed2befc0e99c31f8fce": {
     "model_module": "@jupyter-widgets/controls",
     "model_module_version": "1.5.0",
     "model_name": "HTMLModel",
     "state": {
      "_dom_classes": [],
      "_model_module": "@jupyter-widgets/controls",
      "_model_module_version": "1.5.0",
      "_model_name": "HTMLModel",
      "_view_count": null,
      "_view_module": "@jupyter-widgets/controls",
      "_view_module_version": "1.5.0",
      "_view_name": "HTMLView",
      "description": "",
      "description_tooltip": null,
      "layout": "IPY_MODEL_ecd8d7da598e48e59c43f5e4f33422d3",
      "placeholder": "​",
      "style": "IPY_MODEL_efe11b900ecd49a9b22afca2a92868a8",
      "value": "tokenizer_config.json: 100%"
     }
    },
    "add77e9114134ae3851a1ad6a7e6ce22": {
     "model_module": "@jupyter-widgets/controls",
     "model_module_version": "1.5.0",
     "model_name": "HBoxModel",
     "state": {
      "_dom_classes": [],
      "_model_module": "@jupyter-widgets/controls",
      "_model_module_version": "1.5.0",
      "_model_name": "HBoxModel",
      "_view_count": null,
      "_view_module": "@jupyter-widgets/controls",
      "_view_module_version": "1.5.0",
      "_view_name": "HBoxView",
      "box_style": "",
      "children": [
       "IPY_MODEL_b79cf7667bff45cf81ac17733ecbefda",
       "IPY_MODEL_a9e1b86e2ab74d05a724bfb86b437c8e",
       "IPY_MODEL_ea64693fd5964564993761954c7e0c37"
      ],
      "layout": "IPY_MODEL_8cc0616890554f448f75677f9c56ba33"
     }
    },
    "af43da4e122f4b1a8ca27872b7d91d73": {
     "model_module": "@jupyter-widgets/controls",
     "model_module_version": "1.5.0",
     "model_name": "DescriptionStyleModel",
     "state": {
      "_model_module": "@jupyter-widgets/controls",
      "_model_module_version": "1.5.0",
      "_model_name": "DescriptionStyleModel",
      "_view_count": null,
      "_view_module": "@jupyter-widgets/base",
      "_view_module_version": "1.2.0",
      "_view_name": "StyleView",
      "description_width": ""
     }
    },
    "aff9022adc5f4e33b1b5c12d0a9bc6f1": {
     "model_module": "@jupyter-widgets/controls",
     "model_module_version": "1.5.0",
     "model_name": "DescriptionStyleModel",
     "state": {
      "_model_module": "@jupyter-widgets/controls",
      "_model_module_version": "1.5.0",
      "_model_name": "DescriptionStyleModel",
      "_view_count": null,
      "_view_module": "@jupyter-widgets/base",
      "_view_module_version": "1.2.0",
      "_view_name": "StyleView",
      "description_width": ""
     }
    },
    "b1ac32f0a84744b0a6c5457c1c8cc39d": {
     "model_module": "@jupyter-widgets/controls",
     "model_module_version": "1.5.0",
     "model_name": "HTMLModel",
     "state": {
      "_dom_classes": [],
      "_model_module": "@jupyter-widgets/controls",
      "_model_module_version": "1.5.0",
      "_model_name": "HTMLModel",
      "_view_count": null,
      "_view_module": "@jupyter-widgets/controls",
      "_view_module_version": "1.5.0",
      "_view_name": "HTMLView",
      "description": "",
      "description_tooltip": null,
      "layout": "IPY_MODEL_5eff3a8cc4b24dc4a13e84e6cd536608",
      "placeholder": "​",
      "style": "IPY_MODEL_7852b8c8869147b9ab550c0c3f90e552",
      "value": " 239/239 [00:00&lt;00:00, 10.2kB/s]"
     }
    },
    "b1fbdaee75564fa7b4ab8de86416db07": {
     "model_module": "@jupyter-widgets/controls",
     "model_module_version": "1.5.0",
     "model_name": "DescriptionStyleModel",
     "state": {
      "_model_module": "@jupyter-widgets/controls",
      "_model_module_version": "1.5.0",
      "_model_name": "DescriptionStyleModel",
      "_view_count": null,
      "_view_module": "@jupyter-widgets/base",
      "_view_module_version": "1.2.0",
      "_view_name": "StyleView",
      "description_width": ""
     }
    },
    "b63e2be0460c41c7a7af5b0ccecb2958": {
     "model_module": "@jupyter-widgets/base",
     "model_module_version": "1.2.0",
     "model_name": "LayoutModel",
     "state": {
      "_model_module": "@jupyter-widgets/base",
      "_model_module_version": "1.2.0",
      "_model_name": "LayoutModel",
      "_view_count": null,
      "_view_module": "@jupyter-widgets/base",
      "_view_module_version": "1.2.0",
      "_view_name": "LayoutView",
      "align_content": null,
      "align_items": null,
      "align_self": null,
      "border": null,
      "bottom": null,
      "display": null,
      "flex": null,
      "flex_flow": null,
      "grid_area": null,
      "grid_auto_columns": null,
      "grid_auto_flow": null,
      "grid_auto_rows": null,
      "grid_column": null,
      "grid_gap": null,
      "grid_row": null,
      "grid_template_areas": null,
      "grid_template_columns": null,
      "grid_template_rows": null,
      "height": null,
      "justify_content": null,
      "justify_items": null,
      "left": null,
      "margin": null,
      "max_height": null,
      "max_width": null,
      "min_height": null,
      "min_width": null,
      "object_fit": null,
      "object_position": null,
      "order": null,
      "overflow": null,
      "overflow_x": null,
      "overflow_y": null,
      "padding": null,
      "right": null,
      "top": null,
      "visibility": null,
      "width": null
     }
    },
    "b756c0da491a49b891387db58a6159a2": {
     "model_module": "@jupyter-widgets/base",
     "model_module_version": "1.2.0",
     "model_name": "LayoutModel",
     "state": {
      "_model_module": "@jupyter-widgets/base",
      "_model_module_version": "1.2.0",
      "_model_name": "LayoutModel",
      "_view_count": null,
      "_view_module": "@jupyter-widgets/base",
      "_view_module_version": "1.2.0",
      "_view_name": "LayoutView",
      "align_content": null,
      "align_items": null,
      "align_self": null,
      "border": null,
      "bottom": null,
      "display": null,
      "flex": null,
      "flex_flow": null,
      "grid_area": null,
      "grid_auto_columns": null,
      "grid_auto_flow": null,
      "grid_auto_rows": null,
      "grid_column": null,
      "grid_gap": null,
      "grid_row": null,
      "grid_template_areas": null,
      "grid_template_columns": null,
      "grid_template_rows": null,
      "height": null,
      "justify_content": null,
      "justify_items": null,
      "left": null,
      "margin": null,
      "max_height": null,
      "max_width": null,
      "min_height": null,
      "min_width": null,
      "object_fit": null,
      "object_position": null,
      "order": null,
      "overflow": null,
      "overflow_x": null,
      "overflow_y": null,
      "padding": null,
      "right": null,
      "top": null,
      "visibility": null,
      "width": null
     }
    },
    "b79cf7667bff45cf81ac17733ecbefda": {
     "model_module": "@jupyter-widgets/controls",
     "model_module_version": "1.5.0",
     "model_name": "HTMLModel",
     "state": {
      "_dom_classes": [],
      "_model_module": "@jupyter-widgets/controls",
      "_model_module_version": "1.5.0",
      "_model_name": "HTMLModel",
      "_view_count": null,
      "_view_module": "@jupyter-widgets/controls",
      "_view_module_version": "1.5.0",
      "_view_name": "HTMLView",
      "description": "",
      "description_tooltip": null,
      "layout": "IPY_MODEL_f3b6af288848426b8082df5852dfb587",
      "placeholder": "​",
      "style": "IPY_MODEL_1b0ecfb6cdc547649a66a04f1fa0314e",
      "value": "merges.txt: 100%"
     }
    },
    "b83deea9fe984f39b33a975a24c05db0": {
     "model_module": "@jupyter-widgets/controls",
     "model_module_version": "1.5.0",
     "model_name": "DescriptionStyleModel",
     "state": {
      "_model_module": "@jupyter-widgets/controls",
      "_model_module_version": "1.5.0",
      "_model_name": "DescriptionStyleModel",
      "_view_count": null,
      "_view_module": "@jupyter-widgets/base",
      "_view_module_version": "1.2.0",
      "_view_name": "StyleView",
      "description_width": ""
     }
    },
    "bbddfa8495514107b6f1337452e10bab": {
     "model_module": "@jupyter-widgets/controls",
     "model_module_version": "1.5.0",
     "model_name": "HTMLModel",
     "state": {
      "_dom_classes": [],
      "_model_module": "@jupyter-widgets/controls",
      "_model_module_version": "1.5.0",
      "_model_name": "HTMLModel",
      "_view_count": null,
      "_view_module": "@jupyter-widgets/controls",
      "_view_module_version": "1.5.0",
      "_view_name": "HTMLView",
      "description": "",
      "description_tooltip": null,
      "layout": "IPY_MODEL_8e67d1e3a270422cb0851225deaf6693",
      "placeholder": "​",
      "style": "IPY_MODEL_d9dad2d239094b3597179619837feb44",
      "value": "model.safetensors: 100%"
     }
    },
    "bdb21a85e7dd4a2290ee12d84fb262bb": {
     "model_module": "@jupyter-widgets/base",
     "model_module_version": "1.2.0",
     "model_name": "LayoutModel",
     "state": {
      "_model_module": "@jupyter-widgets/base",
      "_model_module_version": "1.2.0",
      "_model_name": "LayoutModel",
      "_view_count": null,
      "_view_module": "@jupyter-widgets/base",
      "_view_module_version": "1.2.0",
      "_view_name": "LayoutView",
      "align_content": null,
      "align_items": null,
      "align_self": null,
      "border": null,
      "bottom": null,
      "display": null,
      "flex": null,
      "flex_flow": null,
      "grid_area": null,
      "grid_auto_columns": null,
      "grid_auto_flow": null,
      "grid_auto_rows": null,
      "grid_column": null,
      "grid_gap": null,
      "grid_row": null,
      "grid_template_areas": null,
      "grid_template_columns": null,
      "grid_template_rows": null,
      "height": null,
      "justify_content": null,
      "justify_items": null,
      "left": null,
      "margin": null,
      "max_height": null,
      "max_width": null,
      "min_height": null,
      "min_width": null,
      "object_fit": null,
      "object_position": null,
      "order": null,
      "overflow": null,
      "overflow_x": null,
      "overflow_y": null,
      "padding": null,
      "right": null,
      "top": null,
      "visibility": null,
      "width": null
     }
    },
    "bebbd4c527f14d099c1267ab5d17a6f4": {
     "model_module": "@jupyter-widgets/base",
     "model_module_version": "1.2.0",
     "model_name": "LayoutModel",
     "state": {
      "_model_module": "@jupyter-widgets/base",
      "_model_module_version": "1.2.0",
      "_model_name": "LayoutModel",
      "_view_count": null,
      "_view_module": "@jupyter-widgets/base",
      "_view_module_version": "1.2.0",
      "_view_name": "LayoutView",
      "align_content": null,
      "align_items": null,
      "align_self": null,
      "border": null,
      "bottom": null,
      "display": null,
      "flex": null,
      "flex_flow": null,
      "grid_area": null,
      "grid_auto_columns": null,
      "grid_auto_flow": null,
      "grid_auto_rows": null,
      "grid_column": null,
      "grid_gap": null,
      "grid_row": null,
      "grid_template_areas": null,
      "grid_template_columns": null,
      "grid_template_rows": null,
      "height": null,
      "justify_content": null,
      "justify_items": null,
      "left": null,
      "margin": null,
      "max_height": null,
      "max_width": null,
      "min_height": null,
      "min_width": null,
      "object_fit": null,
      "object_position": null,
      "order": null,
      "overflow": null,
      "overflow_x": null,
      "overflow_y": null,
      "padding": null,
      "right": null,
      "top": null,
      "visibility": null,
      "width": null
     }
    },
    "c0d74580dcc34cdb8c4cbec828359d2a": {
     "model_module": "@jupyter-widgets/base",
     "model_module_version": "1.2.0",
     "model_name": "LayoutModel",
     "state": {
      "_model_module": "@jupyter-widgets/base",
      "_model_module_version": "1.2.0",
      "_model_name": "LayoutModel",
      "_view_count": null,
      "_view_module": "@jupyter-widgets/base",
      "_view_module_version": "1.2.0",
      "_view_name": "LayoutView",
      "align_content": null,
      "align_items": null,
      "align_self": null,
      "border": null,
      "bottom": null,
      "display": null,
      "flex": null,
      "flex_flow": null,
      "grid_area": null,
      "grid_auto_columns": null,
      "grid_auto_flow": null,
      "grid_auto_rows": null,
      "grid_column": null,
      "grid_gap": null,
      "grid_row": null,
      "grid_template_areas": null,
      "grid_template_columns": null,
      "grid_template_rows": null,
      "height": null,
      "justify_content": null,
      "justify_items": null,
      "left": null,
      "margin": null,
      "max_height": null,
      "max_width": null,
      "min_height": null,
      "min_width": null,
      "object_fit": null,
      "object_position": null,
      "order": null,
      "overflow": null,
      "overflow_x": null,
      "overflow_y": null,
      "padding": null,
      "right": null,
      "top": null,
      "visibility": null,
      "width": null
     }
    },
    "c3f7da41191040dfa888eab365ab2053": {
     "model_module": "@jupyter-widgets/controls",
     "model_module_version": "1.5.0",
     "model_name": "ProgressStyleModel",
     "state": {
      "_model_module": "@jupyter-widgets/controls",
      "_model_module_version": "1.5.0",
      "_model_name": "ProgressStyleModel",
      "_view_count": null,
      "_view_module": "@jupyter-widgets/base",
      "_view_module_version": "1.2.0",
      "_view_name": "StyleView",
      "bar_color": null,
      "description_width": ""
     }
    },
    "c5913227ca224a46afa679509f44ed89": {
     "model_module": "@jupyter-widgets/controls",
     "model_module_version": "1.5.0",
     "model_name": "HTMLModel",
     "state": {
      "_dom_classes": [],
      "_model_module": "@jupyter-widgets/controls",
      "_model_module_version": "1.5.0",
      "_model_name": "HTMLModel",
      "_view_count": null,
      "_view_module": "@jupyter-widgets/controls",
      "_view_module_version": "1.5.0",
      "_view_name": "HTMLView",
      "description": "",
      "description_tooltip": null,
      "layout": "IPY_MODEL_894529ada4f441388d9cb86103d20c39",
      "placeholder": "​",
      "style": "IPY_MODEL_69fe2870e39d4127bf3a089d310981e8",
      "value": "sentence_bert_config.json: 100%"
     }
    },
    "c65a7669fa62440d9dac6ea6b716e1c6": {
     "model_module": "@jupyter-widgets/base",
     "model_module_version": "1.2.0",
     "model_name": "LayoutModel",
     "state": {
      "_model_module": "@jupyter-widgets/base",
      "_model_module_version": "1.2.0",
      "_model_name": "LayoutModel",
      "_view_count": null,
      "_view_module": "@jupyter-widgets/base",
      "_view_module_version": "1.2.0",
      "_view_name": "LayoutView",
      "align_content": null,
      "align_items": null,
      "align_self": null,
      "border": null,
      "bottom": null,
      "display": null,
      "flex": null,
      "flex_flow": null,
      "grid_area": null,
      "grid_auto_columns": null,
      "grid_auto_flow": null,
      "grid_auto_rows": null,
      "grid_column": null,
      "grid_gap": null,
      "grid_row": null,
      "grid_template_areas": null,
      "grid_template_columns": null,
      "grid_template_rows": null,
      "height": null,
      "justify_content": null,
      "justify_items": null,
      "left": null,
      "margin": null,
      "max_height": null,
      "max_width": null,
      "min_height": null,
      "min_width": null,
      "object_fit": null,
      "object_position": null,
      "order": null,
      "overflow": null,
      "overflow_x": null,
      "overflow_y": null,
      "padding": null,
      "right": null,
      "top": null,
      "visibility": null,
      "width": null
     }
    },
    "c797745533f94f049084a4d1f80069d6": {
     "model_module": "@jupyter-widgets/controls",
     "model_module_version": "1.5.0",
     "model_name": "DescriptionStyleModel",
     "state": {
      "_model_module": "@jupyter-widgets/controls",
      "_model_module_version": "1.5.0",
      "_model_name": "DescriptionStyleModel",
      "_view_count": null,
      "_view_module": "@jupyter-widgets/base",
      "_view_module_version": "1.2.0",
      "_view_name": "StyleView",
      "description_width": ""
     }
    },
    "cc2cbfa982e7465eb0c657eb38bcd13d": {
     "model_module": "@jupyter-widgets/controls",
     "model_module_version": "1.5.0",
     "model_name": "HTMLModel",
     "state": {
      "_dom_classes": [],
      "_model_module": "@jupyter-widgets/controls",
      "_model_module_version": "1.5.0",
      "_model_name": "HTMLModel",
      "_view_count": null,
      "_view_module": "@jupyter-widgets/controls",
      "_view_module_version": "1.5.0",
      "_view_name": "HTMLView",
      "description": "",
      "description_tooltip": null,
      "layout": "IPY_MODEL_cea35b5e4a9d4fdd973681ebbff49feb",
      "placeholder": "​",
      "style": "IPY_MODEL_0d1e9272b1504358a0d355e4134ec262",
      "value": " 122/122 [00:00&lt;00:00, 6.47kB/s]"
     }
    },
    "ccd791f7715e4ba7914963312f1bdf2c": {
     "model_module": "@jupyter-widgets/controls",
     "model_module_version": "1.5.0",
     "model_name": "ProgressStyleModel",
     "state": {
      "_model_module": "@jupyter-widgets/controls",
      "_model_module_version": "1.5.0",
      "_model_name": "ProgressStyleModel",
      "_view_count": null,
      "_view_module": "@jupyter-widgets/base",
      "_view_module_version": "1.2.0",
      "_view_name": "StyleView",
      "bar_color": null,
      "description_width": ""
     }
    },
    "cce709a1a3fb4e11bcc508e80b66f2f9": {
     "model_module": "@jupyter-widgets/base",
     "model_module_version": "1.2.0",
     "model_name": "LayoutModel",
     "state": {
      "_model_module": "@jupyter-widgets/base",
      "_model_module_version": "1.2.0",
      "_model_name": "LayoutModel",
      "_view_count": null,
      "_view_module": "@jupyter-widgets/base",
      "_view_module_version": "1.2.0",
      "_view_name": "LayoutView",
      "align_content": null,
      "align_items": null,
      "align_self": null,
      "border": null,
      "bottom": null,
      "display": null,
      "flex": null,
      "flex_flow": null,
      "grid_area": null,
      "grid_auto_columns": null,
      "grid_auto_flow": null,
      "grid_auto_rows": null,
      "grid_column": null,
      "grid_gap": null,
      "grid_row": null,
      "grid_template_areas": null,
      "grid_template_columns": null,
      "grid_template_rows": null,
      "height": null,
      "justify_content": null,
      "justify_items": null,
      "left": null,
      "margin": null,
      "max_height": null,
      "max_width": null,
      "min_height": null,
      "min_width": null,
      "object_fit": null,
      "object_position": null,
      "order": null,
      "overflow": null,
      "overflow_x": null,
      "overflow_y": null,
      "padding": null,
      "right": null,
      "top": null,
      "visibility": null,
      "width": null
     }
    },
    "cea35b5e4a9d4fdd973681ebbff49feb": {
     "model_module": "@jupyter-widgets/base",
     "model_module_version": "1.2.0",
     "model_name": "LayoutModel",
     "state": {
      "_model_module": "@jupyter-widgets/base",
      "_model_module_version": "1.2.0",
      "_model_name": "LayoutModel",
      "_view_count": null,
      "_view_module": "@jupyter-widgets/base",
      "_view_module_version": "1.2.0",
      "_view_name": "LayoutView",
      "align_content": null,
      "align_items": null,
      "align_self": null,
      "border": null,
      "bottom": null,
      "display": null,
      "flex": null,
      "flex_flow": null,
      "grid_area": null,
      "grid_auto_columns": null,
      "grid_auto_flow": null,
      "grid_auto_rows": null,
      "grid_column": null,
      "grid_gap": null,
      "grid_row": null,
      "grid_template_areas": null,
      "grid_template_columns": null,
      "grid_template_rows": null,
      "height": null,
      "justify_content": null,
      "justify_items": null,
      "left": null,
      "margin": null,
      "max_height": null,
      "max_width": null,
      "min_height": null,
      "min_width": null,
      "object_fit": null,
      "object_position": null,
      "order": null,
      "overflow": null,
      "overflow_x": null,
      "overflow_y": null,
      "padding": null,
      "right": null,
      "top": null,
      "visibility": null,
      "width": null
     }
    },
    "cf7ed3f1fe6a45f4b1a7827f3be96c97": {
     "model_module": "@jupyter-widgets/base",
     "model_module_version": "1.2.0",
     "model_name": "LayoutModel",
     "state": {
      "_model_module": "@jupyter-widgets/base",
      "_model_module_version": "1.2.0",
      "_model_name": "LayoutModel",
      "_view_count": null,
      "_view_module": "@jupyter-widgets/base",
      "_view_module_version": "1.2.0",
      "_view_name": "LayoutView",
      "align_content": null,
      "align_items": null,
      "align_self": null,
      "border": null,
      "bottom": null,
      "display": null,
      "flex": null,
      "flex_flow": null,
      "grid_area": null,
      "grid_auto_columns": null,
      "grid_auto_flow": null,
      "grid_auto_rows": null,
      "grid_column": null,
      "grid_gap": null,
      "grid_row": null,
      "grid_template_areas": null,
      "grid_template_columns": null,
      "grid_template_rows": null,
      "height": null,
      "justify_content": null,
      "justify_items": null,
      "left": null,
      "margin": null,
      "max_height": null,
      "max_width": null,
      "min_height": null,
      "min_width": null,
      "object_fit": null,
      "object_position": null,
      "order": null,
      "overflow": null,
      "overflow_x": null,
      "overflow_y": null,
      "padding": null,
      "right": null,
      "top": null,
      "visibility": null,
      "width": null
     }
    },
    "d0566b735c574f179d845d928781f07a": {
     "model_module": "@jupyter-widgets/base",
     "model_module_version": "1.2.0",
     "model_name": "LayoutModel",
     "state": {
      "_model_module": "@jupyter-widgets/base",
      "_model_module_version": "1.2.0",
      "_model_name": "LayoutModel",
      "_view_count": null,
      "_view_module": "@jupyter-widgets/base",
      "_view_module_version": "1.2.0",
      "_view_name": "LayoutView",
      "align_content": null,
      "align_items": null,
      "align_self": null,
      "border": null,
      "bottom": null,
      "display": null,
      "flex": null,
      "flex_flow": null,
      "grid_area": null,
      "grid_auto_columns": null,
      "grid_auto_flow": null,
      "grid_auto_rows": null,
      "grid_column": null,
      "grid_gap": null,
      "grid_row": null,
      "grid_template_areas": null,
      "grid_template_columns": null,
      "grid_template_rows": null,
      "height": null,
      "justify_content": null,
      "justify_items": null,
      "left": null,
      "margin": null,
      "max_height": null,
      "max_width": null,
      "min_height": null,
      "min_width": null,
      "object_fit": null,
      "object_position": null,
      "order": null,
      "overflow": null,
      "overflow_x": null,
      "overflow_y": null,
      "padding": null,
      "right": null,
      "top": null,
      "visibility": null,
      "width": null
     }
    },
    "d5c5dc6b36764f5d9132fd9915630c6d": {
     "model_module": "@jupyter-widgets/controls",
     "model_module_version": "1.5.0",
     "model_name": "HTMLModel",
     "state": {
      "_dom_classes": [],
      "_model_module": "@jupyter-widgets/controls",
      "_model_module_version": "1.5.0",
      "_model_name": "HTMLModel",
      "_view_count": null,
      "_view_module": "@jupyter-widgets/controls",
      "_view_module_version": "1.5.0",
      "_view_name": "HTMLView",
      "description": "",
      "description_tooltip": null,
      "layout": "IPY_MODEL_a5cd23d25f724409bb801a4b63799b70",
      "placeholder": "​",
      "style": "IPY_MODEL_0b080ef86d5549f09f8a45ed51483f9f",
      "value": " 3.78k/3.78k [00:00&lt;00:00, 162kB/s]"
     }
    },
    "d64efcdc1e2742dfa766bdd180af5074": {
     "model_module": "@jupyter-widgets/base",
     "model_module_version": "1.2.0",
     "model_name": "LayoutModel",
     "state": {
      "_model_module": "@jupyter-widgets/base",
      "_model_module_version": "1.2.0",
      "_model_name": "LayoutModel",
      "_view_count": null,
      "_view_module": "@jupyter-widgets/base",
      "_view_module_version": "1.2.0",
      "_view_name": "LayoutView",
      "align_content": null,
      "align_items": null,
      "align_self": null,
      "border": null,
      "bottom": null,
      "display": null,
      "flex": null,
      "flex_flow": null,
      "grid_area": null,
      "grid_auto_columns": null,
      "grid_auto_flow": null,
      "grid_auto_rows": null,
      "grid_column": null,
      "grid_gap": null,
      "grid_row": null,
      "grid_template_areas": null,
      "grid_template_columns": null,
      "grid_template_rows": null,
      "height": null,
      "justify_content": null,
      "justify_items": null,
      "left": null,
      "margin": null,
      "max_height": null,
      "max_width": null,
      "min_height": null,
      "min_width": null,
      "object_fit": null,
      "object_position": null,
      "order": null,
      "overflow": null,
      "overflow_x": null,
      "overflow_y": null,
      "padding": null,
      "right": null,
      "top": null,
      "visibility": null,
      "width": null
     }
    },
    "d6f373620b784afda5157d82a3fce16b": {
     "model_module": "@jupyter-widgets/controls",
     "model_module_version": "1.5.0",
     "model_name": "HTMLModel",
     "state": {
      "_dom_classes": [],
      "_model_module": "@jupyter-widgets/controls",
      "_model_module_version": "1.5.0",
      "_model_name": "HTMLModel",
      "_view_count": null,
      "_view_module": "@jupyter-widgets/controls",
      "_view_module_version": "1.5.0",
      "_view_name": "HTMLView",
      "description": "",
      "description_tooltip": null,
      "layout": "IPY_MODEL_926a1ab28a5a44a39a35a48220b28524",
      "placeholder": "​",
      "style": "IPY_MODEL_a7126af277be404a891c4c90998bf072",
      "value": "README.md: 100%"
     }
    },
    "d8f796015e804447a814178814db4a7e": {
     "model_module": "@jupyter-widgets/controls",
     "model_module_version": "1.5.0",
     "model_name": "FloatProgressModel",
     "state": {
      "_dom_classes": [],
      "_model_module": "@jupyter-widgets/controls",
      "_model_module_version": "1.5.0",
      "_model_name": "FloatProgressModel",
      "_view_count": null,
      "_view_module": "@jupyter-widgets/controls",
      "_view_module_version": "1.5.0",
      "_view_name": "ProgressView",
      "bar_style": "success",
      "description": "",
      "description_tooltip": null,
      "layout": "IPY_MODEL_0e96f74e0fbe41ed8238f2f7c3ea20a0",
      "max": 798293,
      "min": 0,
      "orientation": "horizontal",
      "style": "IPY_MODEL_ccd791f7715e4ba7914963312f1bdf2c",
      "value": 798293
     }
    },
    "d9b74875ea8b4e21a58bb17e45cdbf1b": {
     "model_module": "@jupyter-widgets/base",
     "model_module_version": "1.2.0",
     "model_name": "LayoutModel",
     "state": {
      "_model_module": "@jupyter-widgets/base",
      "_model_module_version": "1.2.0",
      "_model_name": "LayoutModel",
      "_view_count": null,
      "_view_module": "@jupyter-widgets/base",
      "_view_module_version": "1.2.0",
      "_view_name": "LayoutView",
      "align_content": null,
      "align_items": null,
      "align_self": null,
      "border": null,
      "bottom": null,
      "display": null,
      "flex": null,
      "flex_flow": null,
      "grid_area": null,
      "grid_auto_columns": null,
      "grid_auto_flow": null,
      "grid_auto_rows": null,
      "grid_column": null,
      "grid_gap": null,
      "grid_row": null,
      "grid_template_areas": null,
      "grid_template_columns": null,
      "grid_template_rows": null,
      "height": null,
      "justify_content": null,
      "justify_items": null,
      "left": null,
      "margin": null,
      "max_height": null,
      "max_width": null,
      "min_height": null,
      "min_width": null,
      "object_fit": null,
      "object_position": null,
      "order": null,
      "overflow": null,
      "overflow_x": null,
      "overflow_y": null,
      "padding": null,
      "right": null,
      "top": null,
      "visibility": null,
      "width": null
     }
    },
    "d9dad2d239094b3597179619837feb44": {
     "model_module": "@jupyter-widgets/controls",
     "model_module_version": "1.5.0",
     "model_name": "DescriptionStyleModel",
     "state": {
      "_model_module": "@jupyter-widgets/controls",
      "_model_module_version": "1.5.0",
      "_model_name": "DescriptionStyleModel",
      "_view_count": null,
      "_view_module": "@jupyter-widgets/base",
      "_view_module_version": "1.2.0",
      "_view_name": "StyleView",
      "description_width": ""
     }
    },
    "e734eb956c074ad8993b41872845ef39": {
     "model_module": "@jupyter-widgets/base",
     "model_module_version": "1.2.0",
     "model_name": "LayoutModel",
     "state": {
      "_model_module": "@jupyter-widgets/base",
      "_model_module_version": "1.2.0",
      "_model_name": "LayoutModel",
      "_view_count": null,
      "_view_module": "@jupyter-widgets/base",
      "_view_module_version": "1.2.0",
      "_view_name": "LayoutView",
      "align_content": null,
      "align_items": null,
      "align_self": null,
      "border": null,
      "bottom": null,
      "display": null,
      "flex": null,
      "flex_flow": null,
      "grid_area": null,
      "grid_auto_columns": null,
      "grid_auto_flow": null,
      "grid_auto_rows": null,
      "grid_column": null,
      "grid_gap": null,
      "grid_row": null,
      "grid_template_areas": null,
      "grid_template_columns": null,
      "grid_template_rows": null,
      "height": null,
      "justify_content": null,
      "justify_items": null,
      "left": null,
      "margin": null,
      "max_height": null,
      "max_width": null,
      "min_height": null,
      "min_width": null,
      "object_fit": null,
      "object_position": null,
      "order": null,
      "overflow": null,
      "overflow_x": null,
      "overflow_y": null,
      "padding": null,
      "right": null,
      "top": null,
      "visibility": null,
      "width": null
     }
    },
    "e9a602b6c96747889cfc7139c6c49a38": {
     "model_module": "@jupyter-widgets/controls",
     "model_module_version": "1.5.0",
     "model_name": "HTMLModel",
     "state": {
      "_dom_classes": [],
      "_model_module": "@jupyter-widgets/controls",
      "_model_module_version": "1.5.0",
      "_model_name": "HTMLModel",
      "_view_count": null,
      "_view_module": "@jupyter-widgets/controls",
      "_view_module_version": "1.5.0",
      "_view_name": "HTMLView",
      "description": "",
      "description_tooltip": null,
      "layout": "IPY_MODEL_36830944ef7c44e2990b09443c675ba7",
      "placeholder": "​",
      "style": "IPY_MODEL_5369a4bfd60b4c1d8fac051f4bbfbe28",
      "value": " 798k/798k [00:00&lt;00:00, 3.11MB/s]"
     }
    },
    "ea64693fd5964564993761954c7e0c37": {
     "model_module": "@jupyter-widgets/controls",
     "model_module_version": "1.5.0",
     "model_name": "HTMLModel",
     "state": {
      "_dom_classes": [],
      "_model_module": "@jupyter-widgets/controls",
      "_model_module_version": "1.5.0",
      "_model_name": "HTMLModel",
      "_view_count": null,
      "_view_module": "@jupyter-widgets/controls",
      "_view_module_version": "1.5.0",
      "_view_name": "HTMLView",
      "description": "",
      "description_tooltip": null,
      "layout": "IPY_MODEL_b63e2be0460c41c7a7af5b0ccecb2958",
      "placeholder": "​",
      "style": "IPY_MODEL_3616609dea1949c7a9eb4cc54d467e06",
      "value": " 456k/456k [00:00&lt;00:00, 2.48MB/s]"
     }
    },
    "eb224bb14d324c8ead00c2e68e42f4ca": {
     "model_module": "@jupyter-widgets/controls",
     "model_module_version": "1.5.0",
     "model_name": "HBoxModel",
     "state": {
      "_dom_classes": [],
      "_model_module": "@jupyter-widgets/controls",
      "_model_module_version": "1.5.0",
      "_model_name": "HBoxModel",
      "_view_count": null,
      "_view_module": "@jupyter-widgets/controls",
      "_view_module_version": "1.5.0",
      "_view_name": "HBoxView",
      "box_style": "",
      "children": [
       "IPY_MODEL_c5913227ca224a46afa679509f44ed89",
       "IPY_MODEL_61fe628da1ab477a8d3ef84a709854d3",
       "IPY_MODEL_3f5dc7d1f95645a58fa611581db91a88"
      ],
      "layout": "IPY_MODEL_f757c8ea721e46278a7f5dd4062fcdd5"
     }
    },
    "ecd8d7da598e48e59c43f5e4f33422d3": {
     "model_module": "@jupyter-widgets/base",
     "model_module_version": "1.2.0",
     "model_name": "LayoutModel",
     "state": {
      "_model_module": "@jupyter-widgets/base",
      "_model_module_version": "1.2.0",
      "_model_name": "LayoutModel",
      "_view_count": null,
      "_view_module": "@jupyter-widgets/base",
      "_view_module_version": "1.2.0",
      "_view_name": "LayoutView",
      "align_content": null,
      "align_items": null,
      "align_self": null,
      "border": null,
      "bottom": null,
      "display": null,
      "flex": null,
      "flex_flow": null,
      "grid_area": null,
      "grid_auto_columns": null,
      "grid_auto_flow": null,
      "grid_auto_rows": null,
      "grid_column": null,
      "grid_gap": null,
      "grid_row": null,
      "grid_template_areas": null,
      "grid_template_columns": null,
      "grid_template_rows": null,
      "height": null,
      "justify_content": null,
      "justify_items": null,
      "left": null,
      "margin": null,
      "max_height": null,
      "max_width": null,
      "min_height": null,
      "min_width": null,
      "object_fit": null,
      "object_position": null,
      "order": null,
      "overflow": null,
      "overflow_x": null,
      "overflow_y": null,
      "padding": null,
      "right": null,
      "top": null,
      "visibility": null,
      "width": null
     }
    },
    "eef640b37be44036bff15c481076859b": {
     "model_module": "@jupyter-widgets/controls",
     "model_module_version": "1.5.0",
     "model_name": "FloatProgressModel",
     "state": {
      "_dom_classes": [],
      "_model_module": "@jupyter-widgets/controls",
      "_model_module_version": "1.5.0",
      "_model_name": "FloatProgressModel",
      "_view_count": null,
      "_view_module": "@jupyter-widgets/controls",
      "_view_module_version": "1.5.0",
      "_view_name": "ProgressView",
      "bar_style": "success",
      "description": "",
      "description_tooltip": null,
      "layout": "IPY_MODEL_72f19181c49b4ded891931ea61d7c046",
      "max": 686,
      "min": 0,
      "orientation": "horizontal",
      "style": "IPY_MODEL_c3f7da41191040dfa888eab365ab2053",
      "value": 686
     }
    },
    "efe11b900ecd49a9b22afca2a92868a8": {
     "model_module": "@jupyter-widgets/controls",
     "model_module_version": "1.5.0",
     "model_name": "DescriptionStyleModel",
     "state": {
      "_model_module": "@jupyter-widgets/controls",
      "_model_module_version": "1.5.0",
      "_model_name": "DescriptionStyleModel",
      "_view_count": null,
      "_view_module": "@jupyter-widgets/base",
      "_view_module_version": "1.2.0",
      "_view_name": "StyleView",
      "description_width": ""
     }
    },
    "f367612a3a6f424ba2dce1c95d9609a0": {
     "model_module": "@jupyter-widgets/controls",
     "model_module_version": "1.5.0",
     "model_name": "HBoxModel",
     "state": {
      "_dom_classes": [],
      "_model_module": "@jupyter-widgets/controls",
      "_model_module_version": "1.5.0",
      "_model_name": "HBoxModel",
      "_view_count": null,
      "_view_module": "@jupyter-widgets/controls",
      "_view_module_version": "1.5.0",
      "_view_name": "HBoxView",
      "box_style": "",
      "children": [
       "IPY_MODEL_209a202df14e45dba032c0cbc1d0d81c",
       "IPY_MODEL_eef640b37be44036bff15c481076859b",
       "IPY_MODEL_8fe488ff8d2a4420af7303f77ac5711c"
      ],
      "layout": "IPY_MODEL_e734eb956c074ad8993b41872845ef39"
     }
    },
    "f3b6af288848426b8082df5852dfb587": {
     "model_module": "@jupyter-widgets/base",
     "model_module_version": "1.2.0",
     "model_name": "LayoutModel",
     "state": {
      "_model_module": "@jupyter-widgets/base",
      "_model_module_version": "1.2.0",
      "_model_name": "LayoutModel",
      "_view_count": null,
      "_view_module": "@jupyter-widgets/base",
      "_view_module_version": "1.2.0",
      "_view_name": "LayoutView",
      "align_content": null,
      "align_items": null,
      "align_self": null,
      "border": null,
      "bottom": null,
      "display": null,
      "flex": null,
      "flex_flow": null,
      "grid_area": null,
      "grid_auto_columns": null,
      "grid_auto_flow": null,
      "grid_auto_rows": null,
      "grid_column": null,
      "grid_gap": null,
      "grid_row": null,
      "grid_template_areas": null,
      "grid_template_columns": null,
      "grid_template_rows": null,
      "height": null,
      "justify_content": null,
      "justify_items": null,
      "left": null,
      "margin": null,
      "max_height": null,
      "max_width": null,
      "min_height": null,
      "min_width": null,
      "object_fit": null,
      "object_position": null,
      "order": null,
      "overflow": null,
      "overflow_x": null,
      "overflow_y": null,
      "padding": null,
      "right": null,
      "top": null,
      "visibility": null,
      "width": null
     }
    },
    "f482d1ec905441a8bcb4a97374866c0d": {
     "model_module": "@jupyter-widgets/base",
     "model_module_version": "1.2.0",
     "model_name": "LayoutModel",
     "state": {
      "_model_module": "@jupyter-widgets/base",
      "_model_module_version": "1.2.0",
      "_model_name": "LayoutModel",
      "_view_count": null,
      "_view_module": "@jupyter-widgets/base",
      "_view_module_version": "1.2.0",
      "_view_name": "LayoutView",
      "align_content": null,
      "align_items": null,
      "align_self": null,
      "border": null,
      "bottom": null,
      "display": null,
      "flex": null,
      "flex_flow": null,
      "grid_area": null,
      "grid_auto_columns": null,
      "grid_auto_flow": null,
      "grid_auto_rows": null,
      "grid_column": null,
      "grid_gap": null,
      "grid_row": null,
      "grid_template_areas": null,
      "grid_template_columns": null,
      "grid_template_rows": null,
      "height": null,
      "justify_content": null,
      "justify_items": null,
      "left": null,
      "margin": null,
      "max_height": null,
      "max_width": null,
      "min_height": null,
      "min_width": null,
      "object_fit": null,
      "object_position": null,
      "order": null,
      "overflow": null,
      "overflow_x": null,
      "overflow_y": null,
      "padding": null,
      "right": null,
      "top": null,
      "visibility": null,
      "width": null
     }
    },
    "f757c8ea721e46278a7f5dd4062fcdd5": {
     "model_module": "@jupyter-widgets/base",
     "model_module_version": "1.2.0",
     "model_name": "LayoutModel",
     "state": {
      "_model_module": "@jupyter-widgets/base",
      "_model_module_version": "1.2.0",
      "_model_name": "LayoutModel",
      "_view_count": null,
      "_view_module": "@jupyter-widgets/base",
      "_view_module_version": "1.2.0",
      "_view_name": "LayoutView",
      "align_content": null,
      "align_items": null,
      "align_self": null,
      "border": null,
      "bottom": null,
      "display": null,
      "flex": null,
      "flex_flow": null,
      "grid_area": null,
      "grid_auto_columns": null,
      "grid_auto_flow": null,
      "grid_auto_rows": null,
      "grid_column": null,
      "grid_gap": null,
      "grid_row": null,
      "grid_template_areas": null,
      "grid_template_columns": null,
      "grid_template_rows": null,
      "height": null,
      "justify_content": null,
      "justify_items": null,
      "left": null,
      "margin": null,
      "max_height": null,
      "max_width": null,
      "min_height": null,
      "min_width": null,
      "object_fit": null,
      "object_position": null,
      "order": null,
      "overflow": null,
      "overflow_x": null,
      "overflow_y": null,
      "padding": null,
      "right": null,
      "top": null,
      "visibility": null,
      "width": null
     }
    },
    "f7ec285cd50646eda1a684227b81cee2": {
     "model_module": "@jupyter-widgets/controls",
     "model_module_version": "1.5.0",
     "model_name": "FloatProgressModel",
     "state": {
      "_dom_classes": [],
      "_model_module": "@jupyter-widgets/controls",
      "_model_module_version": "1.5.0",
      "_model_name": "FloatProgressModel",
      "_view_count": null,
      "_view_module": "@jupyter-widgets/controls",
      "_view_module_version": "1.5.0",
      "_view_name": "ProgressView",
      "bar_style": "success",
      "description": "",
      "description_tooltip": null,
      "layout": "IPY_MODEL_5f11288fc2644d9c92a9d619da1b6000",
      "max": 1123,
      "min": 0,
      "orientation": "horizontal",
      "style": "IPY_MODEL_59a7d98a06b8462688eedfa4a0c28291",
      "value": 1123
     }
    },
    "f909a335680847f6a4ddcd4e44e39e74": {
     "model_module": "@jupyter-widgets/controls",
     "model_module_version": "1.5.0",
     "model_name": "HBoxModel",
     "state": {
      "_dom_classes": [],
      "_model_module": "@jupyter-widgets/controls",
      "_model_module_version": "1.5.0",
      "_model_name": "HBoxModel",
      "_view_count": null,
      "_view_module": "@jupyter-widgets/controls",
      "_view_module_version": "1.5.0",
      "_view_name": "HBoxView",
      "box_style": "",
      "children": [
       "IPY_MODEL_023e2d5adc28402bb00c45e180efb8d1",
       "IPY_MODEL_7885b9c222314ec3a9c6a174b1a45ff7",
       "IPY_MODEL_5b213426a2914ef48d692c152f9d009c"
      ],
      "layout": "IPY_MODEL_0fa039eaadb64d8eb9d57f3813bebdc9"
     }
    },
    "fcf866183d8646899383d87936379962": {
     "model_module": "@jupyter-widgets/base",
     "model_module_version": "1.2.0",
     "model_name": "LayoutModel",
     "state": {
      "_model_module": "@jupyter-widgets/base",
      "_model_module_version": "1.2.0",
      "_model_name": "LayoutModel",
      "_view_count": null,
      "_view_module": "@jupyter-widgets/base",
      "_view_module_version": "1.2.0",
      "_view_name": "LayoutView",
      "align_content": null,
      "align_items": null,
      "align_self": null,
      "border": null,
      "bottom": null,
      "display": null,
      "flex": null,
      "flex_flow": null,
      "grid_area": null,
      "grid_auto_columns": null,
      "grid_auto_flow": null,
      "grid_auto_rows": null,
      "grid_column": null,
      "grid_gap": null,
      "grid_row": null,
      "grid_template_areas": null,
      "grid_template_columns": null,
      "grid_template_rows": null,
      "height": null,
      "justify_content": null,
      "justify_items": null,
      "left": null,
      "margin": null,
      "max_height": null,
      "max_width": null,
      "min_height": null,
      "min_width": null,
      "object_fit": null,
      "object_position": null,
      "order": null,
      "overflow": null,
      "overflow_x": null,
      "overflow_y": null,
      "padding": null,
      "right": null,
      "top": null,
      "visibility": null,
      "width": null
     }
    }
   }
  }
 },
 "nbformat": 4,
 "nbformat_minor": 4
}
